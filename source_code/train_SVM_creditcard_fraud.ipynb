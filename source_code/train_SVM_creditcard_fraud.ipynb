{
 "cells": [
  {
   "cell_type": "code",
   "execution_count": 1,
   "metadata": {
    "ExecuteTime": {
     "end_time": "2020-07-29T01:49:09.828406Z",
     "start_time": "2020-07-29T01:49:09.820591Z"
    }
   },
   "outputs": [
    {
     "data": {
      "text/html": [
       "<style>\n",
       "div.output_area pre {\n",
       "    white-space: pre;\n",
       "    word-wrap: normal;\n",
       "}\n",
       ".container { \n",
       "    width:100% !important; \n",
       "}\n",
       "</style>\n"
      ],
      "text/plain": [
       "<IPython.core.display.HTML object>"
      ]
     },
     "metadata": {},
     "output_type": "display_data"
    }
   ],
   "source": [
    "%%html\n",
    "<style>\n",
    "div.output_area pre {\n",
    "    white-space: pre;\n",
    "    word-wrap: normal;\n",
    "}\n",
    ".container { \n",
    "    width:100% !important; \n",
    "}\n",
    "</style>"
   ]
  },
  {
   "cell_type": "code",
   "execution_count": 2,
   "metadata": {
    "ExecuteTime": {
     "end_time": "2020-07-29T01:49:10.220677Z",
     "start_time": "2020-07-29T01:49:10.205822Z"
    }
   },
   "outputs": [],
   "source": [
    "from sklearn.metrics import f1_score\n",
    "from sklearn.metrics import precision_score\n",
    "from sklearn.metrics import recall_score"
   ]
  },
  {
   "cell_type": "code",
   "execution_count": null,
   "metadata": {},
   "outputs": [],
   "source": []
  },
  {
   "cell_type": "code",
   "execution_count": 3,
   "metadata": {
    "ExecuteTime": {
     "end_time": "2020-06-26T07:25:22.320113Z",
     "start_time": "2020-06-26T07:25:22.017511Z"
    }
   },
   "outputs": [],
   "source": [
    "import pandas as pd\n",
    "import numpy as np\n",
    "import matplotlib.pyplot as plt\n",
    "import itertools\n",
    "from sklearn.model_selection import train_test_split\n",
    "from sklearn.svm import SVC\n",
    "from sklearn import svm\n",
    "from sklearn.metrics import classification_report, confusion_matrix\n",
    "from sklearn.metrics import hinge_loss\n",
    "from sklearn import metrics\n",
    "import datetime\n",
    "from datetime import date"
   ]
  },
  {
   "cell_type": "code",
   "execution_count": 4,
   "metadata": {
    "ExecuteTime": {
     "end_time": "2020-06-26T07:25:57.229084Z",
     "start_time": "2020-06-26T07:25:57.211889Z"
    }
   },
   "outputs": [],
   "source": [
    "def plot_confusion_matrix(cm, classes,\n",
    "                          normalize=False,\n",
    "                          title='Confusion matrix',\n",
    "                          cmap=plt.cm.Blues):\n",
    "    \"\"\"\n",
    "    This function prints and plots the confusion matrix.\n",
    "    Normalization can be applied by setting `normalize=True`.\n",
    "    \"\"\"\n",
    "    if normalize:\n",
    "        cm = cm.astype('float') / cm.sum(axis=1)[:, np.newaxis]\n",
    "        print(\"Normalized confusion matrix\")\n",
    "    else:\n",
    "        print('Confusion matrix, without normalization')\n",
    "\n",
    "    print(cm)\n",
    "\n",
    "    plt.imshow(cm, interpolation='nearest', cmap=cmap)\n",
    "    plt.title(title)\n",
    "    plt.colorbar()\n",
    "    tick_marks = np.arange(len(classes))\n",
    "    plt.xticks(tick_marks, classes, rotation=45)\n",
    "    plt.yticks(tick_marks, classes)\n",
    "\n",
    "    fmt = '.2f' if normalize else 'd'\n",
    "    thresh = cm.max() / 2.\n",
    "    for i, j in itertools.product(range(cm.shape[0]), range(cm.shape[1])):\n",
    "        plt.text(j, i, format(cm[i, j], fmt),\n",
    "                 horizontalalignment=\"center\",\n",
    "                 color=\"white\" if cm[i, j] > thresh else \"black\")\n",
    "\n",
    "    plt.ylabel('True label')\n",
    "    plt.xlabel('Predicted label')\n",
    "    plt.tight_layout()"
   ]
  },
  {
   "cell_type": "code",
   "execution_count": 5,
   "metadata": {
    "ExecuteTime": {
     "end_time": "2020-06-26T08:05:12.042190Z",
     "start_time": "2020-06-26T08:05:09.692508Z"
    }
   },
   "outputs": [],
   "source": [
    "data_full = pd.read_csv('./credictCard_fraud/creditcard.csv')"
   ]
  },
  {
   "cell_type": "code",
   "execution_count": 6,
   "metadata": {
    "ExecuteTime": {
     "end_time": "2020-06-26T08:17:22.976040Z",
     "start_time": "2020-06-26T08:17:22.943859Z"
    }
   },
   "outputs": [
    {
     "data": {
      "text/plain": [
       "count    284807.000000\n",
       "mean         88.349619\n",
       "std         250.120109\n",
       "min           0.000000\n",
       "25%           5.600000\n",
       "50%          22.000000\n",
       "75%          77.165000\n",
       "max       25691.160000\n",
       "Name: Amount, dtype: float64"
      ]
     },
     "execution_count": 6,
     "metadata": {},
     "output_type": "execute_result"
    }
   ],
   "source": [
    "data_full['Amount'].describe()"
   ]
  },
  {
   "cell_type": "code",
   "execution_count": null,
   "metadata": {},
   "outputs": [],
   "source": []
  },
  {
   "cell_type": "code",
   "execution_count": null,
   "metadata": {},
   "outputs": [],
   "source": []
  },
  {
   "cell_type": "code",
   "execution_count": 14,
   "metadata": {
    "ExecuteTime": {
     "end_time": "2020-06-26T07:35:12.321317Z",
     "start_time": "2020-06-26T07:35:12.269934Z"
    }
   },
   "outputs": [],
   "source": [
    "data_test = pd.read_csv(\"./credictCard_fraud/data_test_sample.csv\")\n",
    "X_test = data_test.drop('class',axis=1)\n",
    "y_test = data_test['class']"
   ]
  },
  {
   "cell_type": "code",
   "execution_count": 15,
   "metadata": {
    "ExecuteTime": {
     "end_time": "2020-06-26T07:35:16.046769Z",
     "start_time": "2020-06-26T07:35:16.013152Z"
    }
   },
   "outputs": [],
   "source": [
    "data_train = pd.read_csv('./credictCard_fraud/data_train_sample.csv')\n",
    "X_train = data_train.drop('class',axis =1)\n",
    "y_train = data_train['class']"
   ]
  },
  {
   "cell_type": "code",
   "execution_count": null,
   "metadata": {},
   "outputs": [],
   "source": []
  },
  {
   "cell_type": "code",
   "execution_count": 20,
   "metadata": {
    "ExecuteTime": {
     "end_time": "2020-06-26T07:35:48.782125Z",
     "start_time": "2020-06-26T07:35:48.777381Z"
    }
   },
   "outputs": [],
   "source": [
    "svclassifier = svm.SVC(kernel='rbf')"
   ]
  },
  {
   "cell_type": "code",
   "execution_count": 22,
   "metadata": {
    "ExecuteTime": {
     "end_time": "2020-06-26T07:36:09.003117Z",
     "start_time": "2020-06-26T07:36:08.882408Z"
    }
   },
   "outputs": [
    {
     "name": "stderr",
     "output_type": "stream",
     "text": [
      "/usr/local/lib/python3.5/dist-packages/sklearn/svm/base.py:196: FutureWarning: The default value of gamma will change from 'auto' to 'scale' in version 0.22 to account better for unscaled features. Set gamma explicitly to 'auto' or 'scale' to avoid this warning.\n",
      "  \"avoid this warning.\", FutureWarning)\n"
     ]
    },
    {
     "name": "stdout",
     "output_type": "stream",
     "text": [
      "{'recall': 0.7669902912621359, 'size': 16000, 'f1_score': 0.8633879781420766, 'time_train': 1.47652, 'precison': 0.9875, 'accuracy': 0.99375}\n"
     ]
    }
   ],
   "source": [
    "start = datetime.datetime.now()\n",
    "svclassifier.fit(X_train, y_train)\n",
    "end = datetime.datetime.now()\n",
    "y_pred = svclassifier.predict(X_test)\n",
    "info_train= {'size': len(X_train),'accuracy':metrics.accuracy_score(y_test,y_pred).tolist(),'time_train': (end-start).total_seconds(),'f1_score':f1_score(y_test,y_pred),'precison':precision_score(y_test,y_pred),'recall':recall_score(y_test,y_pred) }\n",
    "print(info_train)"
   ]
  },
  {
   "cell_type": "code",
   "execution_count": 23,
   "metadata": {},
   "outputs": [
    {
     "name": "stderr",
     "output_type": "stream",
     "text": [
      "/usr/local/lib/python3.5/dist-packages/sklearn/svm/base.py:196: FutureWarning: The default value of gamma will change from 'auto' to 'scale' in version 0.22 to account better for unscaled features. Set gamma explicitly to 'auto' or 'scale' to avoid this warning.\n",
      "  \"avoid this warning.\", FutureWarning)\n"
     ]
    },
    {
     "name": "stdout",
     "output_type": "stream",
     "text": [
      "{'recall': 0.8155339805825242, 'size': 16000, 'f1_score': 0.8888888888888887, 'time_train': 0.732902, 'precison': 0.9767441860465116, 'accuracy': 0.99475}\n"
     ]
    }
   ],
   "source": [
    "svclassifier = svm.SVC(kernel='poly')\n",
    "start = datetime.datetime.now()\n",
    "svclassifier.fit(X_train, y_train)\n",
    "end = datetime.datetime.now()\n",
    "y_pred = svclassifier.predict(X_test)\n",
    "info_train= {'size': len(X_train),'accuracy':metrics.accuracy_score(y_test,y_pred).tolist(),'time_train': (end-start).total_seconds(),'f1_score':f1_score(y_test,y_pred),'precison':precision_score(y_test,y_pred),'recall':recall_score(y_test,y_pred) }\n",
    "print(info_train)"
   ]
  },
  {
   "cell_type": "code",
   "execution_count": null,
   "metadata": {},
   "outputs": [],
   "source": [
    "svclassifier = svm.SVC(kernel='linear')\n",
    "start = datetime.datetime.now()\n",
    "svclassifier.fit(X_train, y_train)\n",
    "end = datetime.datetime.now()\n",
    "y_pred = svclassifier.predict(X_test)\n",
    "info_train= {'size': len(X_train),'accuracy':metrics.accuracy_score(y_test,y_pred).tolist(),'time_train': (end-start).total_seconds(),'f1_score':f1_score(y_test,y_pred),'precison':precision_score(y_test,y_pred),'recall':recall_score(y_test,y_pred) }\n",
    "print(info_train)"
   ]
  },
  {
   "cell_type": "code",
   "execution_count": null,
   "metadata": {},
   "outputs": [],
   "source": []
  },
  {
   "cell_type": "code",
   "execution_count": null,
   "metadata": {},
   "outputs": [],
   "source": []
  },
  {
   "cell_type": "code",
   "execution_count": 19,
   "metadata": {
    "ExecuteTime": {
     "end_time": "2020-06-26T07:50:28.569644Z",
     "start_time": "2020-06-26T07:50:28.265918Z"
    }
   },
   "outputs": [
    {
     "name": "stdout",
     "output_type": "stream",
     "text": [
      "Confusion matrix, without normalization\n",
      "[[3896    1]\n",
      " [  24   79]]\n"
     ]
    },
    {
     "data": {
      "image/png": "[encoded data removed]",
      "text/plain": [
       "<Figure size 432x288 with 2 Axes>"
      ]
     },
     "metadata": {
      "needs_background": "light"
     },
     "output_type": "display_data"
    }
   ],
   "source": [
    "y_pred = svclassifier.predict(X_test)\n",
    "cnf_matrix = confusion_matrix(y_test,y_pred)\n",
    "class_names = [0,1]\n",
    "plt.figure()\n",
    "plot_confusion_matrix(cnf_matrix, classes=class_names,\n",
    "                      title='Confusion matrix')\n",
    "plt.show()"
   ]
  },
  {
   "cell_type": "code",
   "execution_count": 21,
   "metadata": {
    "ExecuteTime": {
     "end_time": "2020-06-26T07:50:18.217694Z",
     "start_time": "2020-06-26T07:50:18.209456Z"
    }
   },
   "outputs": [
    {
     "data": {
      "text/plain": [
       "0.9886363636363636"
      ]
     },
     "execution_count": 21,
     "metadata": {},
     "output_type": "execute_result"
    }
   ],
   "source": [
    "87/(88)"
   ]
  },
  {
   "cell_type": "code",
   "execution_count": null,
   "metadata": {},
   "outputs": [],
   "source": []
  },
  {
   "cell_type": "markdown",
   "metadata": {},
   "source": [
    "## Train full data"
   ]
  },
  {
   "cell_type": "code",
   "execution_count": 7,
   "metadata": {
    "ExecuteTime": {
     "end_time": "2020-06-25T03:30:47.116129Z",
     "start_time": "2020-06-25T03:30:47.111706Z"
    }
   },
   "outputs": [],
   "source": [
    "# start = datetime.datetime.now()\n",
    "# svclassifier.fit(X_train, y_train)\n",
    "# end = datetime.datetime.now()\n",
    "# y_pred = svclassifier.predict(X_test)\n",
    "# info_train= {'size': len(X_train), 'accuracy':metrics.accuracy_score(y_test,y_pred).tolist(),'time_train': (end-start).total_seconds() }\n",
    "# result.append(info_train)"
   ]
  },
  {
   "cell_type": "code",
   "execution_count": 8,
   "metadata": {
    "ExecuteTime": {
     "end_time": "2020-06-25T03:30:47.393629Z",
     "start_time": "2020-06-25T03:30:47.389485Z"
    }
   },
   "outputs": [],
   "source": [
    "# y_pred = svclassifier.predict(X_test)\n",
    "# cnf_matrix = confusion_matrix(y_test,y_pred)\n",
    "# class_names = ['male','female']\n",
    "# plt.figure()\n",
    "# plot_confusion_matrix(cnf_matrix, classes=class_names,\n",
    "#                       title='Confusion matrix, without normalization')\n",
    "# plt.show()"
   ]
  },
  {
   "cell_type": "code",
   "execution_count": 9,
   "metadata": {
    "ExecuteTime": {
     "end_time": "2020-06-25T03:30:54.385796Z",
     "start_time": "2020-06-25T03:30:54.377480Z"
    }
   },
   "outputs": [],
   "source": [
    "pathname ='./credictCard_fraud/'\n",
    "list_file = []\n",
    "for i in range(1,61):\n",
    "    list_file.append(pathname +'coreset'+str(i)+'.csv')"
   ]
  },
  {
   "cell_type": "code",
   "execution_count": 19,
   "metadata": {
    "ExecuteTime": {
     "end_time": "2020-06-25T03:44:02.405935Z",
     "start_time": "2020-06-25T03:43:58.252634Z"
    }
   },
   "outputs": [],
   "source": [
    "i = 1\n",
    "result = []\n",
    "for file in list_file:\n",
    "    global coreset,y_coreset,X_coreset\n",
    "    coreset = pd.read_csv(file,header=None)\n",
    "    y_coreset = coreset[29]\n",
    "    X_coreset = coreset.drop(29, axis=1)\n",
    "    svclassifier = svm.SVC(kernel='poly')\n",
    "    start = datetime.datetime.now()\n",
    "    svclassifier.fit(X_coreset, y_coreset)\n",
    "    end = datetime.datetime.now()\n",
    "    y_pred = svclassifier.predict(X_test)\n",
    "    info_train= {'size': len(X_coreset),'accuracy':metrics.accuracy_score(y_test,y_pred).tolist(),'time_train': (end-start).total_seconds(),'f1_score':f1_score(y_test,y_pred),'precison':precision_score(y_test,y_pred),'recall':recall_score(y_test,y_pred) }\n",
    "    result.append(info_train)"
   ]
  },
  {
   "cell_type": "code",
   "execution_count": 20,
   "metadata": {
    "ExecuteTime": {
     "end_time": "2020-06-25T03:44:02.658549Z",
     "start_time": "2020-06-25T03:44:02.648932Z"
    }
   },
   "outputs": [],
   "source": [
    "import csv\n",
    "with open(\"./credictCard_fraud/result_poly\",\"w\",newline=\"\") as f:  # python 2: open(\"output.csv\",\"wb\")\n",
    "    title = \"size,accuracy,time_train,f1_score,precison,recall\".split(\",\") # quick hack\n",
    "    cw = csv.DictWriter(f,title,delimiter=',', quotechar='|', quoting=csv.QUOTE_MINIMAL)\n",
    "    cw.writeheader()\n",
    "    cw.writerows(result)"
   ]
  },
  {
   "cell_type": "code",
   "execution_count": null,
   "metadata": {},
   "outputs": [],
   "source": []
  },
  {
   "cell_type": "code",
   "execution_count": 18,
   "metadata": {
    "ExecuteTime": {
     "end_time": "2020-05-09T04:35:24.579250Z",
     "start_time": "2020-05-09T04:35:24.574216Z"
    }
   },
   "outputs": [],
   "source": [
    "import csv\n",
    "with open(\"./creditCard/result_rbf\",\"w\",newline=\"\") as f:  # python 2: open(\"output.csv\",\"wb\")\n",
    "    title = \"size,accuracy,time_train\".split(\",\") # quick hack\n",
    "    cw = csv.DictWriter(f,title,delimiter=',', quotechar='|', quoting=csv.QUOTE_MINIMAL)\n",
    "    cw.writeheader()\n",
    "    cw.writerows(result)"
   ]
  },
  {
   "cell_type": "code",
   "execution_count": 38,
   "metadata": {
    "ExecuteTime": {
     "end_time": "2020-04-04T12:10:23.089532Z",
     "start_time": "2020-04-04T12:10:23.077133Z"
    }
   },
   "outputs": [],
   "source": [
    "size=[]\n",
    "accuracy=[]\n",
    "time_train =[]\n",
    "for data in result:\n",
    "    size.append(data['size'])\n",
    "    accuracy.append(data['accuracy']*100)\n",
    "    time_train.append(data['time_train'])\n",
    "df_train = pd.DataFrame([size[:-1],accuracy[:-1]]).T\n",
    "    "
   ]
  },
  {
   "cell_type": "code",
   "execution_count": 39,
   "metadata": {
    "ExecuteTime": {
     "end_time": "2020-04-04T12:10:23.728685Z",
     "start_time": "2020-04-04T12:10:23.722818Z"
    }
   },
   "outputs": [],
   "source": [
    "df_train.columns = ['size','accuracy']"
   ]
  },
  {
   "cell_type": "code",
   "execution_count": 40,
   "metadata": {
    "ExecuteTime": {
     "end_time": "2020-04-04T14:42:19.102277Z",
     "start_time": "2020-04-04T14:42:19.094615Z"
    }
   },
   "outputs": [
    {
     "data": {
      "text/plain": [
       "{'size': 30000, 'accuracy': 0.7715, 'time_train': 22726.641487}"
      ]
     },
     "execution_count": 40,
     "metadata": {},
     "output_type": "execute_result"
    }
   ],
   "source": [
    "result[-1]"
   ]
  },
  {
   "cell_type": "code",
   "execution_count": 41,
   "metadata": {
    "ExecuteTime": {
     "end_time": "2020-04-04T14:42:33.680762Z",
     "start_time": "2020-04-04T14:42:33.673196Z"
    }
   },
   "outputs": [],
   "source": [
    "df_train['full_data']= result[-1]['accuracy']*100"
   ]
  },
  {
   "cell_type": "code",
   "execution_count": 42,
   "metadata": {
    "ExecuteTime": {
     "end_time": "2020-04-04T14:42:45.239014Z",
     "start_time": "2020-04-04T14:42:44.936200Z"
    }
   },
   "outputs": [
    {
     "data": {
      "text/plain": [
       "<matplotlib.axes._subplots.AxesSubplot at 0x7f3ba2e5df28>"
      ]
     },
     "execution_count": 42,
     "metadata": {},
     "output_type": "execute_result"
    },
    {
     "data": {
      "image/png": "[encoded data removed]",
      "text/plain": [
       "<Figure size 432x288 with 1 Axes>"
      ]
     },
     "metadata": {
      "needs_background": "light"
     },
     "output_type": "display_data"
    }
   ],
   "source": [
    "df_train.sort_values(by='size',ascending=False).plot.line(x='size',y=['accuracy','full_data'])"
   ]
  },
  {
   "cell_type": "code",
   "execution_count": 43,
   "metadata": {},
   "outputs": [
    {
     "data": {
      "text/plain": [
       "<matplotlib.axes._subplots.AxesSubplot at 0x7f3ba396e9e8>"
      ]
     },
     "execution_count": 43,
     "metadata": {},
     "output_type": "execute_result"
    },
    {
     "data": {
      "image/png": "[encoded data removed]",
      "text/plain": [
       "<Figure size 432x288 with 1 Axes>"
      ]
     },
     "metadata": {
      "needs_background": "light"
     },
     "output_type": "display_data"
    }
   ],
   "source": [
    "df_train = pd.DataFrame([size[:-1],time_train[:-1]]).T\n",
    "df_train.columns = ['size','time_train']\n",
    "df_train['full_data']= result[-1]['time_train']\n",
    "df_train.sort_values(by='size',ascending=False).plot.line(x='size',y=['time_train','full_data'])"
   ]
  },
  {
   "cell_type": "code",
   "execution_count": null,
   "metadata": {},
   "outputs": [],
   "source": []
  }
 ],
 "metadata": {
  "kernelspec": {
   "display_name": "Python 3",
   "language": "python",
   "name": "python3"
  },
  "language_info": {
   "codemirror_mode": {
    "name": "ipython",
    "version": 3
   },
   "file_extension": ".py",
   "mimetype": "text/x-python",
   "name": "python",
   "nbconvert_exporter": "python",
   "pygments_lexer": "ipython3",
   "version": "3.5.2"
  },
  "toc": {
   "base_numbering": 1,
   "nav_menu": {},
   "number_sections": true,
   "sideBar": true,
   "skip_h1_title": false,
   "title_cell": "Table of Contents",
   "title_sidebar": "Contents",
   "toc_cell": false,
   "toc_position": {},
   "toc_section_display": true,
   "toc_window_display": false
  }
 },
 "nbformat": 4,
 "nbformat_minor": 4
}
