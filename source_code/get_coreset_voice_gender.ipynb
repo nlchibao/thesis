{
 "cells": [
  {
   "cell_type": "code",
   "execution_count": 2,
   "metadata": {
    "ExecuteTime": {
     "end_time": "2020-06-27T07:57:20.619621Z",
     "start_time": "2020-06-27T07:57:20.175258Z"
    }
   },
   "outputs": [],
   "source": [
    "import math, random, sys, copy\n",
    "import numpy as np\n",
    "from functools import reduce\n",
    "import matplotlib.pyplot as plt\n",
    "import pandas as pd"
   ]
  },
  {
   "cell_type": "code",
   "execution_count": 3,
   "metadata": {
    "ExecuteTime": {
     "end_time": "2020-06-27T07:57:21.798198Z",
     "start_time": "2020-06-27T07:57:21.478336Z"
    }
   },
   "outputs": [],
   "source": [
    "import pandas as pd\n",
    "import numpy as np\n",
    "import matplotlib.pyplot as plt\n",
    "import itertools\n",
    "from sklearn.model_selection import train_test_split\n",
    "from sklearn.svm import SVC\n",
    "from sklearn import svm\n",
    "from sklearn.metrics import classification_report, confusion_matrix\n",
    "from sklearn.metrics import hinge_loss\n",
    "from sklearn import metrics\n",
    "import datetime\n",
    "from datetime import date"
   ]
  },
  {
   "cell_type": "code",
   "execution_count": 4,
   "metadata": {
    "ExecuteTime": {
     "end_time": "2020-06-27T07:57:21.940345Z",
     "start_time": "2020-06-27T07:57:21.934691Z"
    }
   },
   "outputs": [],
   "source": [
    "def convert_label(x):\n",
    "#     if x >='7':\n",
    "#         return 1\n",
    "#     else:\n",
    "#         return 0\n",
    "    return x"
   ]
  },
  {
   "cell_type": "code",
   "execution_count": 5,
   "metadata": {
    "ExecuteTime": {
     "end_time": "2020-06-27T07:57:22.404778Z",
     "start_time": "2020-06-27T07:57:22.398394Z"
    }
   },
   "outputs": [],
   "source": [
    "def euclidean_distance(x, y):\n",
    "#     finale_distance = 0\n",
    "#     for index in range(len(x)):\n",
    "#         finale_distance = finale_distance + math.pow((x[index] - y[index]), 2)\n",
    "#     return math.sqrt(finale_distance)\n",
    "    return np.sqrt(np.sum(np.power(x - y, 2), axis=0))"
   ]
  },
  {
   "cell_type": "code",
   "execution_count": 6,
   "metadata": {
    "ExecuteTime": {
     "end_time": "2020-06-27T07:57:22.723587Z",
     "start_time": "2020-06-27T07:57:22.711459Z"
    }
   },
   "outputs": [],
   "source": [
    "def pre_process(input_read):\n",
    "    #DESCRIPTION:\n",
    "    #Preprocess dataset: Can be done differently\n",
    "    i = 0\n",
    "    dataset = np.empty((len(input_read),21),dtype=float)\n",
    "    for x in input_read:\n",
    "        x = x[:-1] #Removing the last \\n \n",
    "        x = x.split(\",\")\n",
    "#         if x[-1]=='\"male\"':\n",
    "#             x[-1]=1\n",
    "#         else:\n",
    "#             x[-1]=0\n",
    "        x[-1]= convert_label(x[-1])\n",
    "        dataset[i] = np.asarray([x])\n",
    "        i += 1\n",
    "    return np.unique(dataset,axis=0)"
   ]
  },
  {
   "cell_type": "code",
   "execution_count": 7,
   "metadata": {
    "ExecuteTime": {
     "end_time": "2020-06-27T07:57:22.971043Z",
     "start_time": "2020-06-27T07:57:22.964173Z"
    }
   },
   "outputs": [],
   "source": [
    "# def protras(input_set, epsilon):\n",
    "# #     from pdb import set_trace; set_trace()\n",
    "#     #PARAMETERS\n",
    "#     T = input_set #input\n",
    "#     T_sign = [True]* len(input_set)\n",
    "#     init_idx = random.randrange(0,len(input_set) - 1) #doing the random\n",
    "#     T_rep = dict() #T(yk)\n",
    "#     T_rep[init_idx] = {init_idx} #save as index\n",
    "#     S = {init_idx} #output = coreset (save as index)\n",
    "#     T_sign[init_idx] = False\n",
    "#     while True: #Repeat\n",
    "#         #STEP 1: FINDING CLOSET REPRESENTATIVE POINT FOR EACH POINTS OF \n",
    "#         #t THAT DOES NOT BELONG TO s\n",
    "#         for x in range(len(T)): #x removed from T (due to S) at line 79\n",
    "#             if T_sign[x] != False:\n",
    "#                 d_min = sys.float_info.max\n",
    "#                 y_min_idx = 0\n",
    "#                 # needed improvement\n",
    "#                 for i in S:\n",
    "#                     distance = euclidean_distance(T[x][:-1],T[i][:-1]) #improvement\n",
    "#                     if distance < d_min:\n",
    "#                         d_min = distance\n",
    "#                         y_min_idx = i\n",
    "#                 T_rep[y_min_idx].add(x)\n",
    "#         #STEP 2: FOR EACH REPRESENTATIVE IN S, FIND THE MAXIMUM DISTANCE\n",
    "#         #AND ITS CORRESPONDING POINT IN [T_rep]\n",
    "#         max_wd = 0; cost = 0; y_opt = 0; x_opt = 0\n",
    "#         d_max = dict(); x_max = dict()\n",
    "#         for y in S:\n",
    "#             d_max_tmp = 0\n",
    "#             x_idx_tmp = 0\n",
    "#             for x in T_rep[y]:\n",
    "#                 distance = euclidean_distance(T[x][:-1],T[y][:-1])\n",
    "#                 if distance > d_max_tmp:\n",
    "#                     d_max_tmp = distance\n",
    "#                     x_idx_tmp = x\n",
    "#             x_max[y] = x_idx_tmp\n",
    "#             d_max[y] = d_max_tmp\n",
    "#             pk = len(T_rep[y])*d_max[y]\n",
    "#             if pk > max_wd:\n",
    "#                 max_wd = pk\n",
    "#                 y_opt = y\n",
    "#             cost = cost + pk\n",
    "#         cost = cost / len(input_set)\n",
    "#         print(cost)\n",
    "\n",
    "#         #CHOOSE AMONG THE POINT ONE THAT IS THE FARTHEST FROM IT REPRESENTATIVE\n",
    "#         #AND SAVE IT IN CORESET [S]\n",
    "#         x_opt = x_max[y_opt]\n",
    "#         S.add(x_opt)\n",
    "#         T_sign[x_opt] = False\n",
    "#         T_rep[x_opt] = {x_opt}\n",
    "#         for i in T_rep.keys():\n",
    "#             if x_opt in T_rep[i] and x_opt != i:\n",
    "#                 T_rep[i].remove(x_opt)\n",
    "#         #CHECKING COST CONDITION\n",
    "#         if cost < epsilon:\n",
    "#             coreset = [T[i] for i in S]\n",
    "#             return coreset,cost"
   ]
  },
  {
   "cell_type": "code",
   "execution_count": 8,
   "metadata": {
    "ExecuteTime": {
     "end_time": "2020-06-27T07:57:23.243064Z",
     "start_time": "2020-06-27T07:57:23.209063Z"
    }
   },
   "outputs": [],
   "source": [
    "voice_gender = pd.read_csv('./voice/voice.csv')"
   ]
  },
  {
   "cell_type": "code",
   "execution_count": 9,
   "metadata": {
    "ExecuteTime": {
     "end_time": "2020-06-27T07:57:23.537351Z",
     "start_time": "2020-06-27T07:57:23.494404Z"
    }
   },
   "outputs": [
    {
     "data": {
      "text/html": [
       "<div>\n",
       "<style scoped>\n",
       "    .dataframe tbody tr th:only-of-type {\n",
       "        vertical-align: middle;\n",
       "    }\n",
       "\n",
       "    .dataframe tbody tr th {\n",
       "        vertical-align: top;\n",
       "    }\n",
       "\n",
       "    .dataframe thead th {\n",
       "        text-align: right;\n",
       "    }\n",
       "</style>\n",
       "<table border=\"1\" class=\"dataframe\">\n",
       "  <thead>\n",
       "    <tr style=\"text-align: right;\">\n",
       "      <th></th>\n",
       "      <th>meanfreq</th>\n",
       "      <th>sd</th>\n",
       "      <th>median</th>\n",
       "      <th>Q25</th>\n",
       "      <th>Q75</th>\n",
       "      <th>IQR</th>\n",
       "      <th>skew</th>\n",
       "      <th>kurt</th>\n",
       "      <th>sp.ent</th>\n",
       "      <th>sfm</th>\n",
       "      <th>...</th>\n",
       "      <th>centroid</th>\n",
       "      <th>meanfun</th>\n",
       "      <th>minfun</th>\n",
       "      <th>maxfun</th>\n",
       "      <th>meandom</th>\n",
       "      <th>mindom</th>\n",
       "      <th>maxdom</th>\n",
       "      <th>dfrange</th>\n",
       "      <th>modindx</th>\n",
       "      <th>label</th>\n",
       "    </tr>\n",
       "  </thead>\n",
       "  <tbody>\n",
       "    <tr>\n",
       "      <th>0</th>\n",
       "      <td>0.059781</td>\n",
       "      <td>0.064241</td>\n",
       "      <td>0.032027</td>\n",
       "      <td>0.015071</td>\n",
       "      <td>0.090193</td>\n",
       "      <td>0.075122</td>\n",
       "      <td>12.863462</td>\n",
       "      <td>274.402906</td>\n",
       "      <td>0.893369</td>\n",
       "      <td>0.491918</td>\n",
       "      <td>...</td>\n",
       "      <td>0.059781</td>\n",
       "      <td>0.084279</td>\n",
       "      <td>0.015702</td>\n",
       "      <td>0.275862</td>\n",
       "      <td>0.007812</td>\n",
       "      <td>0.007812</td>\n",
       "      <td>0.007812</td>\n",
       "      <td>0.000000</td>\n",
       "      <td>0.000000</td>\n",
       "      <td>male</td>\n",
       "    </tr>\n",
       "    <tr>\n",
       "      <th>1</th>\n",
       "      <td>0.066009</td>\n",
       "      <td>0.067310</td>\n",
       "      <td>0.040229</td>\n",
       "      <td>0.019414</td>\n",
       "      <td>0.092666</td>\n",
       "      <td>0.073252</td>\n",
       "      <td>22.423285</td>\n",
       "      <td>634.613855</td>\n",
       "      <td>0.892193</td>\n",
       "      <td>0.513724</td>\n",
       "      <td>...</td>\n",
       "      <td>0.066009</td>\n",
       "      <td>0.107937</td>\n",
       "      <td>0.015826</td>\n",
       "      <td>0.250000</td>\n",
       "      <td>0.009014</td>\n",
       "      <td>0.007812</td>\n",
       "      <td>0.054688</td>\n",
       "      <td>0.046875</td>\n",
       "      <td>0.052632</td>\n",
       "      <td>male</td>\n",
       "    </tr>\n",
       "    <tr>\n",
       "      <th>2</th>\n",
       "      <td>0.077316</td>\n",
       "      <td>0.083829</td>\n",
       "      <td>0.036718</td>\n",
       "      <td>0.008701</td>\n",
       "      <td>0.131908</td>\n",
       "      <td>0.123207</td>\n",
       "      <td>30.757155</td>\n",
       "      <td>1024.927705</td>\n",
       "      <td>0.846389</td>\n",
       "      <td>0.478905</td>\n",
       "      <td>...</td>\n",
       "      <td>0.077316</td>\n",
       "      <td>0.098706</td>\n",
       "      <td>0.015656</td>\n",
       "      <td>0.271186</td>\n",
       "      <td>0.007990</td>\n",
       "      <td>0.007812</td>\n",
       "      <td>0.015625</td>\n",
       "      <td>0.007812</td>\n",
       "      <td>0.046512</td>\n",
       "      <td>male</td>\n",
       "    </tr>\n",
       "    <tr>\n",
       "      <th>3</th>\n",
       "      <td>0.151228</td>\n",
       "      <td>0.072111</td>\n",
       "      <td>0.158011</td>\n",
       "      <td>0.096582</td>\n",
       "      <td>0.207955</td>\n",
       "      <td>0.111374</td>\n",
       "      <td>1.232831</td>\n",
       "      <td>4.177296</td>\n",
       "      <td>0.963322</td>\n",
       "      <td>0.727232</td>\n",
       "      <td>...</td>\n",
       "      <td>0.151228</td>\n",
       "      <td>0.088965</td>\n",
       "      <td>0.017798</td>\n",
       "      <td>0.250000</td>\n",
       "      <td>0.201497</td>\n",
       "      <td>0.007812</td>\n",
       "      <td>0.562500</td>\n",
       "      <td>0.554688</td>\n",
       "      <td>0.247119</td>\n",
       "      <td>male</td>\n",
       "    </tr>\n",
       "    <tr>\n",
       "      <th>4</th>\n",
       "      <td>0.135120</td>\n",
       "      <td>0.079146</td>\n",
       "      <td>0.124656</td>\n",
       "      <td>0.078720</td>\n",
       "      <td>0.206045</td>\n",
       "      <td>0.127325</td>\n",
       "      <td>1.101174</td>\n",
       "      <td>4.333713</td>\n",
       "      <td>0.971955</td>\n",
       "      <td>0.783568</td>\n",
       "      <td>...</td>\n",
       "      <td>0.135120</td>\n",
       "      <td>0.106398</td>\n",
       "      <td>0.016931</td>\n",
       "      <td>0.266667</td>\n",
       "      <td>0.712812</td>\n",
       "      <td>0.007812</td>\n",
       "      <td>5.484375</td>\n",
       "      <td>5.476562</td>\n",
       "      <td>0.208274</td>\n",
       "      <td>male</td>\n",
       "    </tr>\n",
       "    <tr>\n",
       "      <th>...</th>\n",
       "      <td>...</td>\n",
       "      <td>...</td>\n",
       "      <td>...</td>\n",
       "      <td>...</td>\n",
       "      <td>...</td>\n",
       "      <td>...</td>\n",
       "      <td>...</td>\n",
       "      <td>...</td>\n",
       "      <td>...</td>\n",
       "      <td>...</td>\n",
       "      <td>...</td>\n",
       "      <td>...</td>\n",
       "      <td>...</td>\n",
       "      <td>...</td>\n",
       "      <td>...</td>\n",
       "      <td>...</td>\n",
       "      <td>...</td>\n",
       "      <td>...</td>\n",
       "      <td>...</td>\n",
       "      <td>...</td>\n",
       "      <td>...</td>\n",
       "    </tr>\n",
       "    <tr>\n",
       "      <th>3163</th>\n",
       "      <td>0.131884</td>\n",
       "      <td>0.084734</td>\n",
       "      <td>0.153707</td>\n",
       "      <td>0.049285</td>\n",
       "      <td>0.201144</td>\n",
       "      <td>0.151859</td>\n",
       "      <td>1.762129</td>\n",
       "      <td>6.630383</td>\n",
       "      <td>0.962934</td>\n",
       "      <td>0.763182</td>\n",
       "      <td>...</td>\n",
       "      <td>0.131884</td>\n",
       "      <td>0.182790</td>\n",
       "      <td>0.083770</td>\n",
       "      <td>0.262295</td>\n",
       "      <td>0.832899</td>\n",
       "      <td>0.007812</td>\n",
       "      <td>4.210938</td>\n",
       "      <td>4.203125</td>\n",
       "      <td>0.161929</td>\n",
       "      <td>female</td>\n",
       "    </tr>\n",
       "    <tr>\n",
       "      <th>3164</th>\n",
       "      <td>0.116221</td>\n",
       "      <td>0.089221</td>\n",
       "      <td>0.076758</td>\n",
       "      <td>0.042718</td>\n",
       "      <td>0.204911</td>\n",
       "      <td>0.162193</td>\n",
       "      <td>0.693730</td>\n",
       "      <td>2.503954</td>\n",
       "      <td>0.960716</td>\n",
       "      <td>0.709570</td>\n",
       "      <td>...</td>\n",
       "      <td>0.116221</td>\n",
       "      <td>0.188980</td>\n",
       "      <td>0.034409</td>\n",
       "      <td>0.275862</td>\n",
       "      <td>0.909856</td>\n",
       "      <td>0.039062</td>\n",
       "      <td>3.679688</td>\n",
       "      <td>3.640625</td>\n",
       "      <td>0.277897</td>\n",
       "      <td>female</td>\n",
       "    </tr>\n",
       "    <tr>\n",
       "      <th>3165</th>\n",
       "      <td>0.142056</td>\n",
       "      <td>0.095798</td>\n",
       "      <td>0.183731</td>\n",
       "      <td>0.033424</td>\n",
       "      <td>0.224360</td>\n",
       "      <td>0.190936</td>\n",
       "      <td>1.876502</td>\n",
       "      <td>6.604509</td>\n",
       "      <td>0.946854</td>\n",
       "      <td>0.654196</td>\n",
       "      <td>...</td>\n",
       "      <td>0.142056</td>\n",
       "      <td>0.209918</td>\n",
       "      <td>0.039506</td>\n",
       "      <td>0.275862</td>\n",
       "      <td>0.494271</td>\n",
       "      <td>0.007812</td>\n",
       "      <td>2.937500</td>\n",
       "      <td>2.929688</td>\n",
       "      <td>0.194759</td>\n",
       "      <td>female</td>\n",
       "    </tr>\n",
       "    <tr>\n",
       "      <th>3166</th>\n",
       "      <td>0.143659</td>\n",
       "      <td>0.090628</td>\n",
       "      <td>0.184976</td>\n",
       "      <td>0.043508</td>\n",
       "      <td>0.219943</td>\n",
       "      <td>0.176435</td>\n",
       "      <td>1.591065</td>\n",
       "      <td>5.388298</td>\n",
       "      <td>0.950436</td>\n",
       "      <td>0.675470</td>\n",
       "      <td>...</td>\n",
       "      <td>0.143659</td>\n",
       "      <td>0.172375</td>\n",
       "      <td>0.034483</td>\n",
       "      <td>0.250000</td>\n",
       "      <td>0.791360</td>\n",
       "      <td>0.007812</td>\n",
       "      <td>3.593750</td>\n",
       "      <td>3.585938</td>\n",
       "      <td>0.311002</td>\n",
       "      <td>female</td>\n",
       "    </tr>\n",
       "    <tr>\n",
       "      <th>3167</th>\n",
       "      <td>0.165509</td>\n",
       "      <td>0.092884</td>\n",
       "      <td>0.183044</td>\n",
       "      <td>0.070072</td>\n",
       "      <td>0.250827</td>\n",
       "      <td>0.180756</td>\n",
       "      <td>1.705029</td>\n",
       "      <td>5.769115</td>\n",
       "      <td>0.938829</td>\n",
       "      <td>0.601529</td>\n",
       "      <td>...</td>\n",
       "      <td>0.165509</td>\n",
       "      <td>0.185607</td>\n",
       "      <td>0.062257</td>\n",
       "      <td>0.271186</td>\n",
       "      <td>0.227022</td>\n",
       "      <td>0.007812</td>\n",
       "      <td>0.554688</td>\n",
       "      <td>0.546875</td>\n",
       "      <td>0.350000</td>\n",
       "      <td>female</td>\n",
       "    </tr>\n",
       "  </tbody>\n",
       "</table>\n",
       "<p>3168 rows × 21 columns</p>\n",
       "</div>"
      ],
      "text/plain": [
       "      meanfreq        sd    median       Q25       Q75       IQR       skew  \\\n",
       "0     0.059781  0.064241  0.032027  0.015071  0.090193  0.075122  12.863462   \n",
       "1     0.066009  0.067310  0.040229  0.019414  0.092666  0.073252  22.423285   \n",
       "2     0.077316  0.083829  0.036718  0.008701  0.131908  0.123207  30.757155   \n",
       "3     0.151228  0.072111  0.158011  0.096582  0.207955  0.111374   1.232831   \n",
       "4     0.135120  0.079146  0.124656  0.078720  0.206045  0.127325   1.101174   \n",
       "...        ...       ...       ...       ...       ...       ...        ...   \n",
       "3163  0.131884  0.084734  0.153707  0.049285  0.201144  0.151859   1.762129   \n",
       "3164  0.116221  0.089221  0.076758  0.042718  0.204911  0.162193   0.693730   \n",
       "3165  0.142056  0.095798  0.183731  0.033424  0.224360  0.190936   1.876502   \n",
       "3166  0.143659  0.090628  0.184976  0.043508  0.219943  0.176435   1.591065   \n",
       "3167  0.165509  0.092884  0.183044  0.070072  0.250827  0.180756   1.705029   \n",
       "\n",
       "             kurt    sp.ent       sfm  ...  centroid   meanfun    minfun  \\\n",
       "0      274.402906  0.893369  0.491918  ...  0.059781  0.084279  0.015702   \n",
       "1      634.613855  0.892193  0.513724  ...  0.066009  0.107937  0.015826   \n",
       "2     1024.927705  0.846389  0.478905  ...  0.077316  0.098706  0.015656   \n",
       "3        4.177296  0.963322  0.727232  ...  0.151228  0.088965  0.017798   \n",
       "4        4.333713  0.971955  0.783568  ...  0.135120  0.106398  0.016931   \n",
       "...           ...       ...       ...  ...       ...       ...       ...   \n",
       "3163     6.630383  0.962934  0.763182  ...  0.131884  0.182790  0.083770   \n",
       "3164     2.503954  0.960716  0.709570  ...  0.116221  0.188980  0.034409   \n",
       "3165     6.604509  0.946854  0.654196  ...  0.142056  0.209918  0.039506   \n",
       "3166     5.388298  0.950436  0.675470  ...  0.143659  0.172375  0.034483   \n",
       "3167     5.769115  0.938829  0.601529  ...  0.165509  0.185607  0.062257   \n",
       "\n",
       "        maxfun   meandom    mindom    maxdom   dfrange   modindx   label  \n",
       "0     0.275862  0.007812  0.007812  0.007812  0.000000  0.000000    male  \n",
       "1     0.250000  0.009014  0.007812  0.054688  0.046875  0.052632    male  \n",
       "2     0.271186  0.007990  0.007812  0.015625  0.007812  0.046512    male  \n",
       "3     0.250000  0.201497  0.007812  0.562500  0.554688  0.247119    male  \n",
       "4     0.266667  0.712812  0.007812  5.484375  5.476562  0.208274    male  \n",
       "...        ...       ...       ...       ...       ...       ...     ...  \n",
       "3163  0.262295  0.832899  0.007812  4.210938  4.203125  0.161929  female  \n",
       "3164  0.275862  0.909856  0.039062  3.679688  3.640625  0.277897  female  \n",
       "3165  0.275862  0.494271  0.007812  2.937500  2.929688  0.194759  female  \n",
       "3166  0.250000  0.791360  0.007812  3.593750  3.585938  0.311002  female  \n",
       "3167  0.271186  0.227022  0.007812  0.554688  0.546875  0.350000  female  \n",
       "\n",
       "[3168 rows x 21 columns]"
      ]
     },
     "execution_count": 9,
     "metadata": {},
     "output_type": "execute_result"
    }
   ],
   "source": [
    "voice_gender"
   ]
  },
  {
   "cell_type": "code",
   "execution_count": 10,
   "metadata": {
    "ExecuteTime": {
     "end_time": "2020-06-27T07:57:24.244542Z",
     "start_time": "2020-06-27T07:57:24.235338Z"
    }
   },
   "outputs": [],
   "source": [
    "voice_gender['label'] = np.where(voice_gender['label']=='male', 1,0)"
   ]
  },
  {
   "cell_type": "code",
   "execution_count": 11,
   "metadata": {
    "ExecuteTime": {
     "end_time": "2020-06-27T07:57:24.717921Z",
     "start_time": "2020-06-27T07:57:24.709168Z"
    }
   },
   "outputs": [],
   "source": [
    "X = voice_gender.drop('label',axis =1)"
   ]
  },
  {
   "cell_type": "code",
   "execution_count": 12,
   "metadata": {
    "ExecuteTime": {
     "end_time": "2020-06-27T07:57:25.043694Z",
     "start_time": "2020-06-27T07:57:25.038129Z"
    }
   },
   "outputs": [],
   "source": [
    "y = voice_gender['label']"
   ]
  },
  {
   "cell_type": "code",
   "execution_count": 13,
   "metadata": {
    "ExecuteTime": {
     "end_time": "2020-06-27T07:57:25.268874Z",
     "start_time": "2020-06-27T07:57:25.257521Z"
    }
   },
   "outputs": [],
   "source": [
    "X_train,X_test,y_train,y_test = train_test_split(X,y,test_size = 0.20, random_state = 12)"
   ]
  },
  {
   "cell_type": "code",
   "execution_count": null,
   "metadata": {},
   "outputs": [],
   "source": []
  },
  {
   "cell_type": "code",
   "execution_count": 14,
   "metadata": {
    "ExecuteTime": {
     "end_time": "2020-06-27T07:57:25.842106Z",
     "start_time": "2020-06-27T07:57:25.827518Z"
    }
   },
   "outputs": [
    {
     "name": "stderr",
     "output_type": "stream",
     "text": [
      "/home/d3m-risk/.local/lib/python3.7/site-packages/ipykernel_launcher.py:2: SettingWithCopyWarning: \n",
      "A value is trying to be set on a copy of a slice from a DataFrame.\n",
      "Try using .loc[row_indexer,col_indexer] = value instead\n",
      "\n",
      "See the caveats in the documentation: https://pandas.pydata.org/pandas-docs/stable/user_guide/indexing.html#returning-a-view-versus-a-copy\n",
      "  \n",
      "/home/d3m-risk/.local/lib/python3.7/site-packages/ipykernel_launcher.py:4: SettingWithCopyWarning: \n",
      "A value is trying to be set on a copy of a slice from a DataFrame.\n",
      "Try using .loc[row_indexer,col_indexer] = value instead\n",
      "\n",
      "See the caveats in the documentation: https://pandas.pydata.org/pandas-docs/stable/user_guide/indexing.html#returning-a-view-versus-a-copy\n",
      "  after removing the cwd from sys.path.\n"
     ]
    }
   ],
   "source": [
    "data_train = X_train\n",
    "data_train['label'] = y_train\n",
    "data_test = X_test\n",
    "data_test['label']= y_test"
   ]
  },
  {
   "cell_type": "code",
   "execution_count": 15,
   "metadata": {
    "ExecuteTime": {
     "end_time": "2020-06-27T07:57:26.417691Z",
     "start_time": "2020-06-27T07:57:26.305627Z"
    }
   },
   "outputs": [],
   "source": [
    "data_train.to_csv('./voice/data_train.csv',index=False)"
   ]
  },
  {
   "cell_type": "code",
   "execution_count": 16,
   "metadata": {
    "ExecuteTime": {
     "end_time": "2020-06-27T07:57:26.873523Z",
     "start_time": "2020-06-27T07:57:26.837632Z"
    }
   },
   "outputs": [],
   "source": [
    "data_test.to_csv('./voice/data_test.csv',index=False)"
   ]
  },
  {
   "cell_type": "code",
   "execution_count": null,
   "metadata": {},
   "outputs": [],
   "source": []
  },
  {
   "cell_type": "code",
   "execution_count": 17,
   "metadata": {
    "ExecuteTime": {
     "end_time": "2020-06-27T07:57:27.717059Z",
     "start_time": "2020-06-27T07:57:27.707524Z"
    }
   },
   "outputs": [],
   "source": [
    "input_read = None\n",
    "with open(\"./voice/data_train.csv\", 'r') as input_file:\n",
    "    input_read = input_file.readlines()[1:]"
   ]
  },
  {
   "cell_type": "code",
   "execution_count": 18,
   "metadata": {
    "ExecuteTime": {
     "end_time": "2020-06-27T07:57:28.327819Z",
     "start_time": "2020-06-27T07:57:28.238686Z"
    }
   },
   "outputs": [],
   "source": [
    "dataset = pre_process(input_read)"
   ]
  },
  {
   "cell_type": "code",
   "execution_count": 19,
   "metadata": {
    "ExecuteTime": {
     "end_time": "2020-06-27T07:57:28.619432Z",
     "start_time": "2020-06-27T07:57:28.614183Z"
    },
    "scrolled": true
   },
   "outputs": [],
   "source": [
    "# coreset, cost = protras(dataset, 0.02)"
   ]
  },
  {
   "cell_type": "code",
   "execution_count": 20,
   "metadata": {
    "ExecuteTime": {
     "end_time": "2020-06-27T07:57:29.097950Z",
     "start_time": "2020-06-27T07:57:29.090159Z"
    }
   },
   "outputs": [
    {
     "data": {
      "text/plain": [
       "2532"
      ]
     },
     "execution_count": 20,
     "metadata": {},
     "output_type": "execute_result"
    }
   ],
   "source": [
    "len(dataset)"
   ]
  },
  {
   "cell_type": "code",
   "execution_count": 21,
   "metadata": {
    "ExecuteTime": {
     "end_time": "2020-06-27T07:57:29.464040Z",
     "start_time": "2020-06-27T07:57:29.456865Z"
    }
   },
   "outputs": [
    {
     "data": {
      "text/plain": [
       "759.6"
      ]
     },
     "execution_count": 21,
     "metadata": {},
     "output_type": "execute_result"
    }
   ],
   "source": [
    "2532*0.3"
   ]
  },
  {
   "cell_type": "code",
   "execution_count": 22,
   "metadata": {
    "ExecuteTime": {
     "end_time": "2020-06-27T07:57:29.895280Z",
     "start_time": "2020-06-27T07:57:29.888776Z"
    }
   },
   "outputs": [],
   "source": [
    "data_size = []\n",
    "x=25\n",
    "while x <= 760:\n",
    "    data_size.append(x)\n",
    "    x += 25\n",
    "number_file = 0"
   ]
  },
  {
   "cell_type": "code",
   "execution_count": 23,
   "metadata": {
    "ExecuteTime": {
     "end_time": "2020-06-27T07:57:31.357514Z",
     "start_time": "2020-06-27T07:57:31.353227Z"
    }
   },
   "outputs": [],
   "source": [
    "# list_epsilon = [2,1.5,1,0.8,0.5,0.3,0.1,0.09,0.05,0.03]\n",
    "# number_file = 0"
   ]
  },
  {
   "cell_type": "code",
   "execution_count": 24,
   "metadata": {
    "ExecuteTime": {
     "end_time": "2020-06-27T07:57:31.644398Z",
     "start_time": "2020-06-27T07:57:31.637686Z"
    }
   },
   "outputs": [],
   "source": [
    "def check_cost(size):\n",
    "    for x in data_size:\n",
    "        if size >= x:\n",
    "            return True\n",
    "    return False"
   ]
  },
  {
   "cell_type": "code",
   "execution_count": 25,
   "metadata": {
    "ExecuteTime": {
     "end_time": "2020-06-27T07:57:35.806120Z",
     "start_time": "2020-06-27T07:57:35.780938Z"
    }
   },
   "outputs": [],
   "source": [
    "def CoresetConstruction(X, epsilon):\n",
    "    global data_size\n",
    "    global number_file\n",
    "    n = X.__len__()     # number of data's elements\n",
    "    C = []              # coresets\n",
    "    C_count = -1        # number of element in C\n",
    "    # X_info: contain all info of each element in X\n",
    "    # [] = index in X; [0] = closest center; [1] = distance to closest center\n",
    "    # if [0] = -1 >> this point is a center\n",
    "    X_info = []\n",
    "    for i in range(n):\n",
    "        X_info.insert(i, [-1, 1000000.0])\n",
    "    X_info = np.asarray(X_info)\n",
    "\n",
    "    #Initialization\n",
    "    pos_min = np.argmin(X)\n",
    "    new_center = int(pos_min / X.shape[1])\n",
    "    C += [new_center]\n",
    "    X_info[new_center][1] = -1\n",
    "    C_count += 1\n",
    "    cost = 100\n",
    "\n",
    "    while cost > epsilon:\n",
    "        # Find nearest center of each point in data\n",
    "        new_center = C[C_count]\n",
    "        for i in range(n):\n",
    "            if i not in C:\n",
    "                new_dist = np.sqrt(np.sum(np.power(X[i][:-1] - X[new_center][:-1], 2), axis=0))\n",
    "                if new_dist < X_info[i][1]:\n",
    "                    X_info[i][0] = C_count\n",
    "                    X_info[i][1] = new_dist\n",
    "\n",
    "        # Find farthest point in each cluster\n",
    "        MaxWD = -1          # Measurement to omit noise\n",
    "        farthest = -1       # index of farthest point\n",
    "        cost = 0\n",
    "        for i in range(C_count + 1):\n",
    "            max_dist = -1\n",
    "            max_id = -1\n",
    "            count = 0\n",
    "            for j in range(n):\n",
    "                if X_info[j][0]==i:\n",
    "                    count += 1\n",
    "                    if max_dist < X_info[j][1]:\n",
    "                        max_dist = X_info[j][1]\n",
    "                        max_id = j\n",
    "            temp = max_dist * count\n",
    "            if temp > MaxWD:\n",
    "                MaxWD = temp\n",
    "                farthest = max_id\n",
    "            cost += temp / n\n",
    "        C += [farthest]\n",
    "        C_count += 1\n",
    "        X_info[farthest][0] = -1\n",
    "        X_info[farthest][1] = -1\n",
    "        if check_cost(len(C)) is True:\n",
    "            number_file +=1\n",
    "            path='./voice/'\n",
    "            filename = path+'coreset'+ str(number_file)+'.csv'\n",
    "            np.savetxt(filename,dataset[np.asarray(C)],fmt=\"%f\",delimiter=',')\n",
    "            data_size=data_size[1:]\n",
    "            print(cost,len(C))\n",
    "    return np.asarray(C), np.asarray(X_info)"
   ]
  },
  {
   "cell_type": "code",
   "execution_count": 26,
   "metadata": {
    "ExecuteTime": {
     "end_time": "2020-06-27T08:12:14.021632Z",
     "start_time": "2020-06-27T07:57:37.091787Z"
    },
    "scrolled": true
   },
   "outputs": [
    {
     "name": "stdout",
     "output_type": "stream",
     "text": [
      "8.784907574574481 25\n",
      "4.5961904947212595 50\n",
      "3.200583670250601 75\n",
      "2.4528404974190834 100\n",
      "2.121204094476737 125\n",
      "1.7941259368550542 150\n",
      "1.6157313496417682 175\n",
      "1.4481019404380457 200\n",
      "1.3475791805264405 225\n",
      "1.2390697361015166 250\n",
      "1.1531742944714953 275\n",
      "1.0679381100738208 300\n",
      "1.0157416285319398 325\n",
      "0.9541147871687974 350\n",
      "0.9059527415371356 375\n",
      "0.8645847363909365 400\n",
      "0.8186059773098006 425\n",
      "0.7799895805322458 450\n",
      "0.7441452243902605 475\n",
      "0.7090809703087705 500\n",
      "0.6730518894358509 525\n",
      "0.6438555705140507 550\n",
      "0.6164092824085454 575\n",
      "0.5890192463437818 600\n",
      "0.5685881200663079 625\n",
      "0.5479779377528841 650\n",
      "0.5273298425857079 675\n",
      "0.5057788034376376 700\n",
      "0.48608382004350054 725\n",
      "0.46577598384844077 750\n"
     ]
    },
    {
     "ename": "KeyboardInterrupt",
     "evalue": "",
     "output_type": "error",
     "traceback": [
      "\u001b[0;31m---------------------------------------------------------------------------\u001b[0m",
      "\u001b[0;31mKeyboardInterrupt\u001b[0m                         Traceback (most recent call last)",
      "\u001b[0;32m<ipython-input-26-35686068756f>\u001b[0m in \u001b[0;36m<module>\u001b[0;34m\u001b[0m\n\u001b[0;32m----> 1\u001b[0;31m \u001b[0mcoreset\u001b[0m\u001b[0;34m,\u001b[0m \u001b[0mcost\u001b[0m\u001b[0;34m=\u001b[0m \u001b[0mCoresetConstruction\u001b[0m\u001b[0;34m(\u001b[0m\u001b[0mdataset\u001b[0m\u001b[0;34m,\u001b[0m\u001b[0;36m0.000000000003\u001b[0m\u001b[0;34m)\u001b[0m\u001b[0;34m\u001b[0m\u001b[0;34m\u001b[0m\u001b[0m\n\u001b[0m",
      "\u001b[0;32m<ipython-input-25-4bf907a0aaad>\u001b[0m in \u001b[0;36mCoresetConstruction\u001b[0;34m(X, epsilon)\u001b[0m\n\u001b[1;32m     40\u001b[0m             \u001b[0mcount\u001b[0m \u001b[0;34m=\u001b[0m \u001b[0;36m0\u001b[0m\u001b[0;34m\u001b[0m\u001b[0;34m\u001b[0m\u001b[0m\n\u001b[1;32m     41\u001b[0m             \u001b[0;32mfor\u001b[0m \u001b[0mj\u001b[0m \u001b[0;32min\u001b[0m \u001b[0mrange\u001b[0m\u001b[0;34m(\u001b[0m\u001b[0mn\u001b[0m\u001b[0;34m)\u001b[0m\u001b[0;34m:\u001b[0m\u001b[0;34m\u001b[0m\u001b[0;34m\u001b[0m\u001b[0m\n\u001b[0;32m---> 42\u001b[0;31m                 \u001b[0;32mif\u001b[0m \u001b[0mX_info\u001b[0m\u001b[0;34m[\u001b[0m\u001b[0mj\u001b[0m\u001b[0;34m]\u001b[0m\u001b[0;34m[\u001b[0m\u001b[0;36m0\u001b[0m\u001b[0;34m]\u001b[0m\u001b[0;34m==\u001b[0m\u001b[0mi\u001b[0m\u001b[0;34m:\u001b[0m\u001b[0;34m\u001b[0m\u001b[0;34m\u001b[0m\u001b[0m\n\u001b[0m\u001b[1;32m     43\u001b[0m                     \u001b[0mcount\u001b[0m \u001b[0;34m+=\u001b[0m \u001b[0;36m1\u001b[0m\u001b[0;34m\u001b[0m\u001b[0;34m\u001b[0m\u001b[0m\n\u001b[1;32m     44\u001b[0m                     \u001b[0;32mif\u001b[0m \u001b[0mmax_dist\u001b[0m \u001b[0;34m<\u001b[0m \u001b[0mX_info\u001b[0m\u001b[0;34m[\u001b[0m\u001b[0mj\u001b[0m\u001b[0;34m]\u001b[0m\u001b[0;34m[\u001b[0m\u001b[0;36m1\u001b[0m\u001b[0;34m]\u001b[0m\u001b[0;34m:\u001b[0m\u001b[0;34m\u001b[0m\u001b[0;34m\u001b[0m\u001b[0m\n",
      "\u001b[0;31mKeyboardInterrupt\u001b[0m: "
     ]
    }
   ],
   "source": [
    "coreset, cost= CoresetConstruction(dataset,0.000000000003)"
   ]
  },
  {
   "cell_type": "code",
   "execution_count": 89,
   "metadata": {
    "ExecuteTime": {
     "end_time": "2020-04-04T16:08:12.346227Z",
     "start_time": "2020-04-04T16:08:12.341815Z"
    },
    "scrolled": true
   },
   "outputs": [],
   "source": [
    "# list_epsilon = [2,1.5,1,0.8,0.5,0.3,0.1,0.09,0.05,0.03]\n",
    "# i = 0\n",
    "# path='./creditCard/'\n",
    "# for epsilon in list_epsilon:\n",
    "#     i += 1\n",
    "#     coreset, cost= CoresetConstruction(dataset,epsilon)\n",
    "#     filename = path+'coreset'+ str(i)+'.csv'\n",
    "#     np.savetxt(filename,dataset[coreset],fmt=\"%f\",delimiter=',')\n",
    "#     print(len(coreset))"
   ]
  },
  {
   "cell_type": "code",
   "execution_count": null,
   "metadata": {},
   "outputs": [],
   "source": []
  }
 ],
 "metadata": {
  "kernelspec": {
   "display_name": "Python 3",
   "language": "python",
   "name": "python3"
  },
  "language_info": {
   "codemirror_mode": {
    "name": "ipython",
    "version": 3
   },
   "file_extension": ".py",
   "mimetype": "text/x-python",
   "name": "python",
   "nbconvert_exporter": "python",
   "pygments_lexer": "ipython3",
   "version": "3.7.3"
  },
  "toc": {
   "base_numbering": 1,
   "nav_menu": {},
   "number_sections": true,
   "sideBar": true,
   "skip_h1_title": false,
   "title_cell": "Table of Contents",
   "title_sidebar": "Contents",
   "toc_cell": false,
   "toc_position": {},
   "toc_section_display": true,
   "toc_window_display": false
  }
 },
 "nbformat": 4,
 "nbformat_minor": 2
}
