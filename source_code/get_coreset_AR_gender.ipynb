{
 "cells": [
  {
   "cell_type": "code",
   "execution_count": 1,
   "metadata": {
    "ExecuteTime": {
     "end_time": "2020-06-28T14:45:41.536652Z",
     "start_time": "2020-06-28T14:45:41.255753Z"
    }
   },
   "outputs": [],
   "source": [
    "import math, random, sys, copy\n",
    "import numpy as np\n",
    "from functools import reduce\n",
    "import matplotlib.pyplot as plt"
   ]
  },
  {
   "cell_type": "code",
   "execution_count": 2,
   "metadata": {
    "ExecuteTime": {
     "end_time": "2020-06-28T14:45:41.735386Z",
     "start_time": "2020-06-28T14:45:41.539802Z"
    }
   },
   "outputs": [],
   "source": [
    "import pandas as pd"
   ]
  },
  {
   "cell_type": "code",
   "execution_count": 3,
   "metadata": {
    "ExecuteTime": {
     "end_time": "2020-06-28T14:45:41.742597Z",
     "start_time": "2020-06-28T14:45:41.738584Z"
    }
   },
   "outputs": [],
   "source": [
    "def convert_label(x):\n",
    "    if x =='0':\n",
    "        return 0\n",
    "    else:\n",
    "        return 1\n",
    "    return x"
   ]
  },
  {
   "cell_type": "code",
   "execution_count": 4,
   "metadata": {
    "ExecuteTime": {
     "end_time": "2020-06-28T14:45:41.819685Z",
     "start_time": "2020-06-28T14:45:41.813109Z"
    }
   },
   "outputs": [],
   "source": [
    "def euclidean_distance(x, y):\n",
    "#     finale_distance = 0\n",
    "#     for index in range(len(x)):\n",
    "#         finale_distance = finale_distance + math.pow((x[index] - y[index]), 2)\n",
    "#     return math.sqrt(finale_distance)\n",
    "    return np.sqrt(np.sum(np.power(x - y, 2), axis=0))"
   ]
  },
  {
   "cell_type": "code",
   "execution_count": 5,
   "metadata": {
    "ExecuteTime": {
     "end_time": "2020-06-28T14:45:41.993919Z",
     "start_time": "2020-06-28T14:45:41.988726Z"
    }
   },
   "outputs": [],
   "source": [
    "count = 0"
   ]
  },
  {
   "cell_type": "code",
   "execution_count": 6,
   "metadata": {
    "ExecuteTime": {
     "end_time": "2020-06-28T14:45:42.250069Z",
     "start_time": "2020-06-28T14:45:42.175824Z"
    }
   },
   "outputs": [],
   "source": [
    "dataset = pd.read_csv('./AR_gender/AR_gender_train.csv',header=None)"
   ]
  },
  {
   "cell_type": "code",
   "execution_count": 7,
   "metadata": {
    "ExecuteTime": {
     "end_time": "2020-06-28T14:45:42.375072Z",
     "start_time": "2020-06-28T14:45:42.363920Z"
    }
   },
   "outputs": [],
   "source": [
    "def pre_process(input_read):\n",
    "    #DESCRIPTION:\n",
    "    #Preprocess dataset: Can be done differently\n",
    "    i = 0\n",
    "    global count\n",
    "    dataset = np.empty((len(input_read),301),dtype=float)\n",
    "    for x in input_read:\n",
    "        x = x[:-1] #Removing the last \\n \n",
    "        x = x.split(\",\")\n",
    "# #         if x[-1]=='\"male\"':\n",
    "# #             x[-1]=1\n",
    "# #         else:\n",
    "# #             x[-1]=0\n",
    "#         x[-1]= convert_label(x[-1])\n",
    "        dataset[i] = np.asarray([x])\n",
    "        i += 1\n",
    "        count +=1\n",
    "#     return np.unique(dataset,axis=0)\n",
    "    return dataset"
   ]
  },
  {
   "cell_type": "code",
   "execution_count": 8,
   "metadata": {
    "ExecuteTime": {
     "end_time": "2020-06-28T14:45:42.572252Z",
     "start_time": "2020-06-28T14:45:42.563863Z"
    }
   },
   "outputs": [],
   "source": [
    "input_read = None\n",
    "with open(\"./AR_gender/AR_gender_train.csv\", 'r') as input_file:\n",
    "    input_read = input_file.readlines()"
   ]
  },
  {
   "cell_type": "code",
   "execution_count": 9,
   "metadata": {
    "ExecuteTime": {
     "end_time": "2020-06-28T14:45:42.943003Z",
     "start_time": "2020-06-28T14:45:42.761966Z"
    }
   },
   "outputs": [],
   "source": [
    "dataset = pre_process(input_read)"
   ]
  },
  {
   "cell_type": "code",
   "execution_count": 10,
   "metadata": {
    "ExecuteTime": {
     "end_time": "2020-06-28T14:45:42.985608Z",
     "start_time": "2020-06-28T14:45:42.982435Z"
    },
    "scrolled": true
   },
   "outputs": [],
   "source": [
    "# coreset, cost = protras(dataset, 0.02)"
   ]
  },
  {
   "cell_type": "code",
   "execution_count": 11,
   "metadata": {
    "ExecuteTime": {
     "end_time": "2020-06-28T14:45:43.214972Z",
     "start_time": "2020-06-28T14:45:43.210037Z"
    }
   },
   "outputs": [],
   "source": [
    "import pandas as pd"
   ]
  },
  {
   "cell_type": "code",
   "execution_count": 12,
   "metadata": {
    "ExecuteTime": {
     "end_time": "2020-06-28T14:45:43.417772Z",
     "start_time": "2020-06-28T14:45:43.412472Z"
    }
   },
   "outputs": [],
   "source": [
    "size = len(dataset)"
   ]
  },
  {
   "cell_type": "code",
   "execution_count": 13,
   "metadata": {
    "ExecuteTime": {
     "end_time": "2020-06-28T14:45:43.621953Z",
     "start_time": "2020-06-28T14:45:43.610073Z"
    }
   },
   "outputs": [
    {
     "data": {
      "text/plain": [
       "700"
      ]
     },
     "execution_count": 13,
     "metadata": {},
     "output_type": "execute_result"
    }
   ],
   "source": [
    "size"
   ]
  },
  {
   "cell_type": "code",
   "execution_count": 14,
   "metadata": {
    "ExecuteTime": {
     "end_time": "2020-06-28T14:45:43.859438Z",
     "start_time": "2020-06-28T14:45:43.851215Z"
    }
   },
   "outputs": [
    {
     "data": {
      "text/plain": [
       "7"
      ]
     },
     "execution_count": 14,
     "metadata": {},
     "output_type": "execute_result"
    }
   ],
   "source": [
    "int(size/100)"
   ]
  },
  {
   "cell_type": "code",
   "execution_count": 15,
   "metadata": {
    "ExecuteTime": {
     "end_time": "2020-06-28T14:45:44.033704Z",
     "start_time": "2020-06-28T14:45:44.025628Z"
    }
   },
   "outputs": [],
   "source": [
    "data_size = []\n",
    "x=int(size/100)\n",
    "while x <= 30*int(size/100):\n",
    "    data_size.append(x)\n",
    "    x += int(size/100)\n",
    "number_file = 0"
   ]
  },
  {
   "cell_type": "code",
   "execution_count": 16,
   "metadata": {
    "ExecuteTime": {
     "end_time": "2020-06-28T14:45:44.224789Z",
     "start_time": "2020-06-28T14:45:44.220723Z"
    }
   },
   "outputs": [],
   "source": [
    "# list_epsilon = [2,1.5,1,0.8,0.5,0.3,0.1,0.09,0.05,0.03]\n",
    "# number_file = 0"
   ]
  },
  {
   "cell_type": "code",
   "execution_count": 17,
   "metadata": {
    "ExecuteTime": {
     "end_time": "2020-06-28T14:45:44.417539Z",
     "start_time": "2020-06-28T14:45:44.411308Z"
    }
   },
   "outputs": [],
   "source": [
    "def check_cost(size):\n",
    "    for x in data_size:\n",
    "        if size >= x:\n",
    "            return True\n",
    "    return False"
   ]
  },
  {
   "cell_type": "code",
   "execution_count": 18,
   "metadata": {
    "ExecuteTime": {
     "end_time": "2020-06-28T14:45:44.632735Z",
     "start_time": "2020-06-28T14:45:44.607918Z"
    }
   },
   "outputs": [],
   "source": [
    "def CoresetConstruction(X, epsilon):\n",
    "    global data_size\n",
    "    global number_file\n",
    "    n = X.__len__()     # number of data's elements\n",
    "    C = []              # coresets\n",
    "    C_count = -1        # number of element in C\n",
    "    # X_info: contain all info of each element in X\n",
    "    # [] = index in X; [0] = closest center; [1] = distance to closest center\n",
    "    # if [0] = -1 >> this point is a center\n",
    "    X_info = []\n",
    "    for i in range(n):\n",
    "        X_info.insert(i, [-1, 1000000.0])\n",
    "    X_info = np.asarray(X_info)\n",
    "\n",
    "    #Initialization\n",
    "    pos_min = np.argmin(X)\n",
    "    new_center = int(pos_min / X.shape[1])\n",
    "    C += [new_center]\n",
    "    X_info[new_center][1] = -1\n",
    "    C_count += 1\n",
    "    cost = 100\n",
    "\n",
    "    while cost > epsilon:\n",
    "        # Find nearest center of each point in data\n",
    "        new_center = C[C_count]\n",
    "        for i in range(n):\n",
    "            if i not in C:\n",
    "                new_dist = np.sqrt(np.sum(np.power(X[i][:-1] - X[new_center][:-1], 2), axis=0))\n",
    "                if new_dist < X_info[i][1]:\n",
    "                    X_info[i][0] = C_count\n",
    "                    X_info[i][1] = new_dist\n",
    "\n",
    "        # Find farthest point in each cluster\n",
    "        MaxWD = -1          # Measurement to omit noise\n",
    "        farthest = -1       # index of farthest point\n",
    "        cost = 0\n",
    "        for i in range(C_count + 1):\n",
    "            max_dist = -1\n",
    "            max_id = -1\n",
    "            count = 0\n",
    "            for j in range(n):\n",
    "                if X_info[j][0]==i:\n",
    "                    count += 1\n",
    "                    if max_dist < X_info[j][1]:\n",
    "                        max_dist = X_info[j][1]\n",
    "                        max_id = j\n",
    "            temp = max_dist * count\n",
    "            if temp > MaxWD:\n",
    "                MaxWD = temp\n",
    "                farthest = max_id\n",
    "            cost += temp / n\n",
    "        C += [farthest]\n",
    "        C_count += 1\n",
    "        X_info[farthest][0] = -1\n",
    "        X_info[farthest][1] = -1\n",
    "        if (len(C)/ 100) == int(len(C)/100):\n",
    "            f = open(\"log.txt\", \"w\")\n",
    "            f.write(str(len(C))+ '_'+ str(cost))\n",
    "            f.close()\n",
    "        if check_cost(len(C)) is True:\n",
    "            number_file +=1\n",
    "            path='./AR_gender/'\n",
    "            filename = path+'coreset'+ str(number_file)+'.csv'\n",
    "            np.savetxt(filename,dataset[np.asarray(C)],fmt=\"%f\",delimiter=',')\n",
    "            data_size=data_size[1:]\n",
    "            print(cost,len(C))\n",
    "    return np.asarray(C), np.asarray(X_info)"
   ]
  },
  {
   "cell_type": "code",
   "execution_count": 19,
   "metadata": {
    "ExecuteTime": {
     "end_time": "2020-06-28T14:47:19.286710Z",
     "start_time": "2020-06-28T14:45:44.816551Z"
    },
    "scrolled": true
   },
   "outputs": [
    {
     "name": "stdout",
     "output_type": "stream",
     "text": [
      "0.42072766765601866 7\n",
      "0.3852168943761895 14\n",
      "0.35394482868781496 21\n",
      "0.32867875655706924 28\n",
      "0.30800446906112144 35\n",
      "0.293057946833249 42\n",
      "0.28432522953078165 49\n",
      "0.27380162449588674 56\n",
      "0.26075310028184107 63\n",
      "0.25094782269452115 70\n",
      "0.24585948918561473 77\n",
      "0.2361764075120764 84\n",
      "0.23143042129536023 91\n",
      "0.22689124786611503 98\n",
      "0.22192787438453304 105\n",
      "0.2157116440196234 112\n",
      "0.21097466599678397 119\n",
      "0.20538390600927736 126\n",
      "0.19810514762252762 133\n",
      "0.19358943788689828 140\n",
      "0.18780493310056504 147\n",
      "0.18344294010078246 154\n",
      "0.18001790084427383 161\n",
      "0.1743411201719965 168\n",
      "0.16982428507740518 175\n",
      "0.1650506653961632 182\n",
      "0.15969050677193916 189\n",
      "0.15555088237242778 196\n",
      "0.1506602561487806 203\n",
      "0.14729517613669843 210\n"
     ]
    }
   ],
   "source": [
    "coreset, cost= CoresetConstruction(dataset,0.00000000001)"
   ]
  },
  {
   "cell_type": "code",
   "execution_count": null,
   "metadata": {},
   "outputs": [],
   "source": []
  },
  {
   "cell_type": "code",
   "execution_count": null,
   "metadata": {},
   "outputs": [],
   "source": []
  }
 ],
 "metadata": {
  "kernelspec": {
   "display_name": "Python 3",
   "language": "python",
   "name": "python3"
  },
  "language_info": {
   "codemirror_mode": {
    "name": "ipython",
    "version": 3
   },
   "file_extension": ".py",
   "mimetype": "text/x-python",
   "name": "python",
   "nbconvert_exporter": "python",
   "pygments_lexer": "ipython3",
   "version": "3.5.2"
  },
  "toc": {
   "base_numbering": 1,
   "nav_menu": {},
   "number_sections": true,
   "sideBar": true,
   "skip_h1_title": false,
   "title_cell": "Table of Contents",
   "title_sidebar": "Contents",
   "toc_cell": false,
   "toc_position": {},
   "toc_section_display": true,
   "toc_window_display": false
  }
 },
 "nbformat": 4,
 "nbformat_minor": 2
}
