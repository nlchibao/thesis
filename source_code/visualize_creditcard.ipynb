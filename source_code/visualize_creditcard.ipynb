{
 "cells": [
  {
   "cell_type": "code",
   "execution_count": 174,
   "metadata": {
    "ExecuteTime": {
     "end_time": "2020-05-09T04:50:38.406407Z",
     "start_time": "2020-05-09T04:50:38.396623Z"
    }
   },
   "outputs": [],
   "source": [
    "import pandas as pd\n",
    "import numpy as np\n",
    "import matplotlib.pyplot as plt\n",
    "import itertools\n",
    "from sklearn.model_selection import train_test_split\n",
    "from sklearn.svm import SVC\n",
    "from sklearn import svm\n",
    "from sklearn.metrics import classification_report, confusion_matrix\n",
    "from sklearn.metrics import hinge_loss\n",
    "from sklearn import metrics\n",
    "import datetime\n",
    "from datetime import date\n",
    "from sklearn.metrics import f1_score"
   ]
  },
  {
   "cell_type": "code",
   "execution_count": 175,
   "metadata": {
    "ExecuteTime": {
     "end_time": "2020-05-09T04:50:38.646101Z",
     "start_time": "2020-05-09T04:50:38.615720Z"
    }
   },
   "outputs": [],
   "source": [
    "data_test = pd.read_csv(\"./creditCard/creditcard_clients_test.csv\")\n",
    "X_test = data_test.drop('default payment next month',axis=1)\n",
    "y_test = data_test['default payment next month']"
   ]
  },
  {
   "cell_type": "code",
   "execution_count": 176,
   "metadata": {
    "ExecuteTime": {
     "end_time": "2020-05-09T04:50:38.827465Z",
     "start_time": "2020-05-09T04:50:38.783149Z"
    }
   },
   "outputs": [],
   "source": [
    "result = []\n",
    "for x in range(1,12):\n",
    "    y_pred= pd.read_csv(f\"./creditCard/result_linear{x}.csv\")\n",
    "    result.append(metrics.accuracy_score(y_test,y_pred).tolist())"
   ]
  },
  {
   "cell_type": "code",
   "execution_count": 177,
   "metadata": {
    "ExecuteTime": {
     "end_time": "2020-05-09T04:50:38.995243Z",
     "start_time": "2020-05-09T04:50:38.988662Z"
    }
   },
   "outputs": [],
   "source": [
    "result_train = pd.DataFrame(result, columns=['accuracy_scrore_linear'])"
   ]
  },
  {
   "cell_type": "code",
   "execution_count": 178,
   "metadata": {
    "ExecuteTime": {
     "end_time": "2020-05-09T04:50:39.218059Z",
     "start_time": "2020-05-09T04:50:39.174511Z"
    }
   },
   "outputs": [],
   "source": [
    "result_poly = []\n",
    "for x in range(1,12):\n",
    "    y_pred= pd.read_csv(f\"./creditCard/result_poly{x}.csv\")\n",
    "    result_poly.append(metrics.accuracy_score(y_test,y_pred).tolist())"
   ]
  },
  {
   "cell_type": "code",
   "execution_count": 179,
   "metadata": {
    "ExecuteTime": {
     "end_time": "2020-05-09T04:50:39.381384Z",
     "start_time": "2020-05-09T04:50:39.374998Z"
    }
   },
   "outputs": [],
   "source": [
    "result_train['accuracy_scrore_poly']= result_poly"
   ]
  },
  {
   "cell_type": "code",
   "execution_count": 180,
   "metadata": {
    "ExecuteTime": {
     "end_time": "2020-05-09T04:50:39.622506Z",
     "start_time": "2020-05-09T04:50:39.579296Z"
    }
   },
   "outputs": [],
   "source": [
    "result_rbf = []\n",
    "for x in range(1,12):\n",
    "    y_pred= pd.read_csv(f\"./creditCard/result_rbf{x}.csv\")\n",
    "    result_rbf.append(metrics.accuracy_score(y_test,y_pred).tolist())"
   ]
  },
  {
   "cell_type": "code",
   "execution_count": 181,
   "metadata": {
    "ExecuteTime": {
     "end_time": "2020-05-09T04:50:39.750326Z",
     "start_time": "2020-05-09T04:50:39.744070Z"
    }
   },
   "outputs": [],
   "source": [
    "result_train['accuracy_scrore_rbf']= result_rbf"
   ]
  },
  {
   "cell_type": "code",
   "execution_count": 182,
   "metadata": {
    "ExecuteTime": {
     "end_time": "2020-05-09T04:50:39.931469Z",
     "start_time": "2020-05-09T04:50:39.922284Z"
    }
   },
   "outputs": [],
   "source": [
    "time_train_linear = pd.read_csv('./creditCard/result_linear')"
   ]
  },
  {
   "cell_type": "code",
   "execution_count": 183,
   "metadata": {
    "ExecuteTime": {
     "end_time": "2020-05-09T04:50:40.112663Z",
     "start_time": "2020-05-09T04:50:40.106152Z"
    }
   },
   "outputs": [],
   "source": [
    "result_train['size']=time_train_linear['size']"
   ]
  },
  {
   "cell_type": "code",
   "execution_count": 184,
   "metadata": {
    "ExecuteTime": {
     "end_time": "2020-05-09T04:50:40.303197Z",
     "start_time": "2020-05-09T04:50:40.297075Z"
    }
   },
   "outputs": [],
   "source": [
    "result_train['time_train_linear']= time_train_linear['time_train']"
   ]
  },
  {
   "cell_type": "code",
   "execution_count": 185,
   "metadata": {
    "ExecuteTime": {
     "end_time": "2020-05-09T04:50:40.514045Z",
     "start_time": "2020-05-09T04:50:40.493216Z"
    }
   },
   "outputs": [
    {
     "data": {
      "text/html": [
       "<div>\n",
       "<style scoped>\n",
       "    .dataframe tbody tr th:only-of-type {\n",
       "        vertical-align: middle;\n",
       "    }\n",
       "\n",
       "    .dataframe tbody tr th {\n",
       "        vertical-align: top;\n",
       "    }\n",
       "\n",
       "    .dataframe thead th {\n",
       "        text-align: right;\n",
       "    }\n",
       "</style>\n",
       "<table border=\"1\" class=\"dataframe\">\n",
       "  <thead>\n",
       "    <tr style=\"text-align: right;\">\n",
       "      <th></th>\n",
       "      <th>accuracy_scrore_linear</th>\n",
       "      <th>accuracy_scrore_poly</th>\n",
       "      <th>accuracy_scrore_rbf</th>\n",
       "      <th>size</th>\n",
       "      <th>time_train_linear</th>\n",
       "    </tr>\n",
       "  </thead>\n",
       "  <tbody>\n",
       "    <tr>\n",
       "      <th>0</th>\n",
       "      <td>0.774000</td>\n",
       "      <td>0.775333</td>\n",
       "      <td>0.777167</td>\n",
       "      <td>500</td>\n",
       "      <td>1230.820516</td>\n",
       "    </tr>\n",
       "    <tr>\n",
       "      <th>1</th>\n",
       "      <td>0.770500</td>\n",
       "      <td>0.775000</td>\n",
       "      <td>0.777167</td>\n",
       "      <td>1000</td>\n",
       "      <td>810.762771</td>\n",
       "    </tr>\n",
       "    <tr>\n",
       "      <th>2</th>\n",
       "      <td>0.766000</td>\n",
       "      <td>0.776833</td>\n",
       "      <td>0.777167</td>\n",
       "      <td>1500</td>\n",
       "      <td>3231.008616</td>\n",
       "    </tr>\n",
       "    <tr>\n",
       "      <th>3</th>\n",
       "      <td>0.769167</td>\n",
       "      <td>0.777000</td>\n",
       "      <td>0.777167</td>\n",
       "      <td>2000</td>\n",
       "      <td>1694.808469</td>\n",
       "    </tr>\n",
       "    <tr>\n",
       "      <th>4</th>\n",
       "      <td>0.768667</td>\n",
       "      <td>0.777167</td>\n",
       "      <td>0.777167</td>\n",
       "      <td>2500</td>\n",
       "      <td>1658.121467</td>\n",
       "    </tr>\n",
       "    <tr>\n",
       "      <th>5</th>\n",
       "      <td>0.770000</td>\n",
       "      <td>0.777167</td>\n",
       "      <td>0.777167</td>\n",
       "      <td>3000</td>\n",
       "      <td>2194.306422</td>\n",
       "    </tr>\n",
       "    <tr>\n",
       "      <th>6</th>\n",
       "      <td>0.768500</td>\n",
       "      <td>0.777000</td>\n",
       "      <td>0.777167</td>\n",
       "      <td>3500</td>\n",
       "      <td>2676.464124</td>\n",
       "    </tr>\n",
       "    <tr>\n",
       "      <th>7</th>\n",
       "      <td>0.768667</td>\n",
       "      <td>0.777000</td>\n",
       "      <td>0.777167</td>\n",
       "      <td>4000</td>\n",
       "      <td>1634.008865</td>\n",
       "    </tr>\n",
       "    <tr>\n",
       "      <th>8</th>\n",
       "      <td>0.773000</td>\n",
       "      <td>0.777167</td>\n",
       "      <td>0.777167</td>\n",
       "      <td>4500</td>\n",
       "      <td>3942.417021</td>\n",
       "    </tr>\n",
       "    <tr>\n",
       "      <th>9</th>\n",
       "      <td>0.766167</td>\n",
       "      <td>0.777333</td>\n",
       "      <td>0.777167</td>\n",
       "      <td>5000</td>\n",
       "      <td>3273.297643</td>\n",
       "    </tr>\n",
       "    <tr>\n",
       "      <th>10</th>\n",
       "      <td>0.772833</td>\n",
       "      <td>0.777000</td>\n",
       "      <td>0.777167</td>\n",
       "      <td>24000</td>\n",
       "      <td>21234.234500</td>\n",
       "    </tr>\n",
       "  </tbody>\n",
       "</table>\n",
       "</div>"
      ],
      "text/plain": [
       "    accuracy_scrore_linear  accuracy_scrore_poly  accuracy_scrore_rbf   size  \\\n",
       "0                 0.774000              0.775333             0.777167    500   \n",
       "1                 0.770500              0.775000             0.777167   1000   \n",
       "2                 0.766000              0.776833             0.777167   1500   \n",
       "3                 0.769167              0.777000             0.777167   2000   \n",
       "4                 0.768667              0.777167             0.777167   2500   \n",
       "5                 0.770000              0.777167             0.777167   3000   \n",
       "6                 0.768500              0.777000             0.777167   3500   \n",
       "7                 0.768667              0.777000             0.777167   4000   \n",
       "8                 0.773000              0.777167             0.777167   4500   \n",
       "9                 0.766167              0.777333             0.777167   5000   \n",
       "10                0.772833              0.777000             0.777167  24000   \n",
       "\n",
       "    time_train_linear  \n",
       "0         1230.820516  \n",
       "1          810.762771  \n",
       "2         3231.008616  \n",
       "3         1694.808469  \n",
       "4         1658.121467  \n",
       "5         2194.306422  \n",
       "6         2676.464124  \n",
       "7         1634.008865  \n",
       "8         3942.417021  \n",
       "9         3273.297643  \n",
       "10       21234.234500  "
      ]
     },
     "execution_count": 185,
     "metadata": {},
     "output_type": "execute_result"
    }
   ],
   "source": [
    "result_train"
   ]
  },
  {
   "cell_type": "markdown",
   "metadata": {},
   "source": [
    "## F1 score"
   ]
  },
  {
   "cell_type": "code",
   "execution_count": 186,
   "metadata": {
    "ExecuteTime": {
     "end_time": "2020-05-09T04:50:40.919396Z",
     "start_time": "2020-05-09T04:50:40.841773Z"
    }
   },
   "outputs": [],
   "source": [
    "result = []\n",
    "for x in range(1,12):\n",
    "    y_pred= pd.read_csv(f\"./creditCard/result_linear{x}.csv\")\n",
    "    result.append(f1_score(y_test,y_pred,pos_label=0))\n",
    "result_train['f1_score_linear']= result"
   ]
  },
  {
   "cell_type": "code",
   "execution_count": 187,
   "metadata": {
    "ExecuteTime": {
     "end_time": "2020-05-09T04:50:41.093983Z",
     "start_time": "2020-05-09T04:50:41.018962Z"
    }
   },
   "outputs": [],
   "source": [
    "result_poly = []\n",
    "for x in range(1,12):\n",
    "    y_pred= pd.read_csv(f\"./creditCard/result_poly{x}.csv\")\n",
    "    result_poly.append(f1_score(y_test,y_pred,pos_label=0))\n",
    "result_train['f1_score_poly']= result_poly"
   ]
  },
  {
   "cell_type": "code",
   "execution_count": 188,
   "metadata": {
    "ExecuteTime": {
     "end_time": "2020-05-09T04:50:41.276018Z",
     "start_time": "2020-05-09T04:50:41.202174Z"
    }
   },
   "outputs": [],
   "source": [
    "result_rbf = []\n",
    "for x in range(1,12):\n",
    "    y_pred= pd.read_csv(f\"./creditCard/result_rbf{x}.csv\")\n",
    "    result_rbf.append(f1_score(y_test,y_pred,pos_label=0))\n",
    "result_train['f1_score_rbf']= result_rbf"
   ]
  },
  {
   "cell_type": "code",
   "execution_count": 189,
   "metadata": {
    "ExecuteTime": {
     "end_time": "2020-05-09T04:50:41.398852Z",
     "start_time": "2020-05-09T04:50:41.391413Z"
    }
   },
   "outputs": [],
   "source": [
    "time_train_poly = pd.read_csv('./creditCard/result_poly')"
   ]
  },
  {
   "cell_type": "code",
   "execution_count": 190,
   "metadata": {
    "ExecuteTime": {
     "end_time": "2020-05-09T04:50:41.584105Z",
     "start_time": "2020-05-09T04:50:41.577195Z"
    }
   },
   "outputs": [],
   "source": [
    "result_train['time_train_poly']= time_train_poly['time_train']"
   ]
  },
  {
   "cell_type": "code",
   "execution_count": 191,
   "metadata": {
    "ExecuteTime": {
     "end_time": "2020-05-09T04:50:41.784176Z",
     "start_time": "2020-05-09T04:50:41.771996Z"
    }
   },
   "outputs": [],
   "source": [
    "time_train_rbf = pd.read_csv('./creditCard/result_rbf')\n",
    "result_train['time_train_rbf']= time_train_rbf['time_train']"
   ]
  },
  {
   "cell_type": "markdown",
   "metadata": {},
   "source": [
    "## Precison score"
   ]
  },
  {
   "cell_type": "code",
   "execution_count": 192,
   "metadata": {
    "ExecuteTime": {
     "end_time": "2020-05-09T04:50:42.150863Z",
     "start_time": "2020-05-09T04:50:42.137931Z"
    }
   },
   "outputs": [],
   "source": [
    "from sklearn.metrics import precision_score"
   ]
  },
  {
   "cell_type": "code",
   "execution_count": 193,
   "metadata": {
    "ExecuteTime": {
     "end_time": "2020-05-09T04:50:42.510496Z",
     "start_time": "2020-05-09T04:50:42.301717Z"
    }
   },
   "outputs": [],
   "source": [
    "result = []\n",
    "for x in range(1,12):\n",
    "    y_pred= pd.read_csv(f\"./creditCard/result_linear{x}.csv\")\n",
    "    result.append(precision_score(y_test,y_pred,pos_label=0))\n",
    "result_train['precision_score_linear']= result\n",
    "result_poly = []\n",
    "for x in range(1,12):\n",
    "    y_pred= pd.read_csv(f\"./creditCard/result_poly{x}.csv\")\n",
    "    result_poly.append(precision_score(y_test,y_pred,pos_label=0))\n",
    "result_train['precision_score_poly']= result_poly\n",
    "result_rbf = []\n",
    "for x in range(1,12):\n",
    "    y_pred= pd.read_csv(f\"./creditCard/result_rbf{x}.csv\")\n",
    "    result_rbf.append(precision_score(y_test,y_pred,pos_label=0))\n",
    "result_train['precision_score_rbf']= result_rbf"
   ]
  },
  {
   "cell_type": "code",
   "execution_count": 194,
   "metadata": {
    "ExecuteTime": {
     "end_time": "2020-05-09T04:50:42.534239Z",
     "start_time": "2020-05-09T04:50:42.512922Z"
    }
   },
   "outputs": [
    {
     "data": {
      "text/html": [
       "<div>\n",
       "<style scoped>\n",
       "    .dataframe tbody tr th:only-of-type {\n",
       "        vertical-align: middle;\n",
       "    }\n",
       "\n",
       "    .dataframe tbody tr th {\n",
       "        vertical-align: top;\n",
       "    }\n",
       "\n",
       "    .dataframe thead th {\n",
       "        text-align: right;\n",
       "    }\n",
       "</style>\n",
       "<table border=\"1\" class=\"dataframe\">\n",
       "  <thead>\n",
       "    <tr style=\"text-align: right;\">\n",
       "      <th></th>\n",
       "      <th>accuracy_scrore_linear</th>\n",
       "      <th>accuracy_scrore_poly</th>\n",
       "      <th>accuracy_scrore_rbf</th>\n",
       "      <th>size</th>\n",
       "      <th>time_train_linear</th>\n",
       "      <th>f1_score_linear</th>\n",
       "      <th>f1_score_poly</th>\n",
       "      <th>f1_score_rbf</th>\n",
       "      <th>time_train_poly</th>\n",
       "      <th>time_train_rbf</th>\n",
       "      <th>precision_score_linear</th>\n",
       "      <th>precision_score_poly</th>\n",
       "      <th>precision_score_rbf</th>\n",
       "    </tr>\n",
       "  </thead>\n",
       "  <tbody>\n",
       "    <tr>\n",
       "      <th>0</th>\n",
       "      <td>0.774000</td>\n",
       "      <td>0.775333</td>\n",
       "      <td>0.777167</td>\n",
       "      <td>500</td>\n",
       "      <td>1230.820516</td>\n",
       "      <td>0.871979</td>\n",
       "      <td>0.873403</td>\n",
       "      <td>0.874613</td>\n",
       "      <td>0.045218</td>\n",
       "      <td>0.016063</td>\n",
       "      <td>0.778883</td>\n",
       "      <td>0.776942</td>\n",
       "      <td>0.777167</td>\n",
       "    </tr>\n",
       "    <tr>\n",
       "      <th>1</th>\n",
       "      <td>0.770500</td>\n",
       "      <td>0.775000</td>\n",
       "      <td>0.777167</td>\n",
       "      <td>1000</td>\n",
       "      <td>810.762771</td>\n",
       "      <td>0.867634</td>\n",
       "      <td>0.873192</td>\n",
       "      <td>0.874613</td>\n",
       "      <td>0.215862</td>\n",
       "      <td>0.049245</td>\n",
       "      <td>0.786237</td>\n",
       "      <td>0.776868</td>\n",
       "      <td>0.777167</td>\n",
       "    </tr>\n",
       "    <tr>\n",
       "      <th>2</th>\n",
       "      <td>0.766000</td>\n",
       "      <td>0.776833</td>\n",
       "      <td>0.777167</td>\n",
       "      <td>1500</td>\n",
       "      <td>3231.008616</td>\n",
       "      <td>0.863636</td>\n",
       "      <td>0.874331</td>\n",
       "      <td>0.874613</td>\n",
       "      <td>0.337133</td>\n",
       "      <td>0.098396</td>\n",
       "      <td>0.789277</td>\n",
       "      <td>0.777370</td>\n",
       "      <td>0.777167</td>\n",
       "    </tr>\n",
       "    <tr>\n",
       "      <th>3</th>\n",
       "      <td>0.769167</td>\n",
       "      <td>0.777000</td>\n",
       "      <td>0.777167</td>\n",
       "      <td>2000</td>\n",
       "      <td>1694.808469</td>\n",
       "      <td>0.866248</td>\n",
       "      <td>0.874460</td>\n",
       "      <td>0.874613</td>\n",
       "      <td>0.834599</td>\n",
       "      <td>0.218057</td>\n",
       "      <td>0.787948</td>\n",
       "      <td>0.777314</td>\n",
       "      <td>0.777167</td>\n",
       "    </tr>\n",
       "    <tr>\n",
       "      <th>4</th>\n",
       "      <td>0.768667</td>\n",
       "      <td>0.777167</td>\n",
       "      <td>0.777167</td>\n",
       "      <td>2500</td>\n",
       "      <td>1658.121467</td>\n",
       "      <td>0.865894</td>\n",
       "      <td>0.874590</td>\n",
       "      <td>0.874613</td>\n",
       "      <td>2.195483</td>\n",
       "      <td>0.268217</td>\n",
       "      <td>0.787937</td>\n",
       "      <td>0.777259</td>\n",
       "      <td>0.777167</td>\n",
       "    </tr>\n",
       "    <tr>\n",
       "      <th>5</th>\n",
       "      <td>0.770000</td>\n",
       "      <td>0.777167</td>\n",
       "      <td>0.777167</td>\n",
       "      <td>3000</td>\n",
       "      <td>2194.306422</td>\n",
       "      <td>0.866383</td>\n",
       "      <td>0.874590</td>\n",
       "      <td>0.874613</td>\n",
       "      <td>3.721683</td>\n",
       "      <td>0.367115</td>\n",
       "      <td>0.789762</td>\n",
       "      <td>0.777259</td>\n",
       "      <td>0.777167</td>\n",
       "    </tr>\n",
       "    <tr>\n",
       "      <th>6</th>\n",
       "      <td>0.768500</td>\n",
       "      <td>0.777000</td>\n",
       "      <td>0.777167</td>\n",
       "      <td>3500</td>\n",
       "      <td>2676.464124</td>\n",
       "      <td>0.865028</td>\n",
       "      <td>0.874484</td>\n",
       "      <td>0.874613</td>\n",
       "      <td>4.546950</td>\n",
       "      <td>0.538994</td>\n",
       "      <td>0.790867</td>\n",
       "      <td>0.777222</td>\n",
       "      <td>0.777167</td>\n",
       "    </tr>\n",
       "    <tr>\n",
       "      <th>7</th>\n",
       "      <td>0.768667</td>\n",
       "      <td>0.777000</td>\n",
       "      <td>0.777167</td>\n",
       "      <td>4000</td>\n",
       "      <td>1634.008865</td>\n",
       "      <td>0.865086</td>\n",
       "      <td>0.874484</td>\n",
       "      <td>0.874613</td>\n",
       "      <td>7.555638</td>\n",
       "      <td>0.683346</td>\n",
       "      <td>0.791111</td>\n",
       "      <td>0.777222</td>\n",
       "      <td>0.777167</td>\n",
       "    </tr>\n",
       "    <tr>\n",
       "      <th>8</th>\n",
       "      <td>0.773000</td>\n",
       "      <td>0.777167</td>\n",
       "      <td>0.777167</td>\n",
       "      <td>4500</td>\n",
       "      <td>3942.417021</td>\n",
       "      <td>0.867793</td>\n",
       "      <td>0.874590</td>\n",
       "      <td>0.874613</td>\n",
       "      <td>11.041981</td>\n",
       "      <td>0.875492</td>\n",
       "      <td>0.792694</td>\n",
       "      <td>0.777259</td>\n",
       "      <td>0.777167</td>\n",
       "    </tr>\n",
       "    <tr>\n",
       "      <th>9</th>\n",
       "      <td>0.766167</td>\n",
       "      <td>0.777333</td>\n",
       "      <td>0.777167</td>\n",
       "      <td>5000</td>\n",
       "      <td>3273.297643</td>\n",
       "      <td>0.862707</td>\n",
       "      <td>0.874672</td>\n",
       "      <td>0.874613</td>\n",
       "      <td>14.790676</td>\n",
       "      <td>1.089758</td>\n",
       "      <td>0.793377</td>\n",
       "      <td>0.777389</td>\n",
       "      <td>0.777167</td>\n",
       "    </tr>\n",
       "    <tr>\n",
       "      <th>10</th>\n",
       "      <td>0.772833</td>\n",
       "      <td>0.777000</td>\n",
       "      <td>0.777167</td>\n",
       "      <td>24000</td>\n",
       "      <td>21234.234500</td>\n",
       "      <td>0.866228</td>\n",
       "      <td>0.874508</td>\n",
       "      <td>0.874613</td>\n",
       "      <td>1476.972354</td>\n",
       "      <td>26.399812</td>\n",
       "      <td>0.798588</td>\n",
       "      <td>0.777130</td>\n",
       "      <td>0.777167</td>\n",
       "    </tr>\n",
       "  </tbody>\n",
       "</table>\n",
       "</div>"
      ],
      "text/plain": [
       "    accuracy_scrore_linear  accuracy_scrore_poly  accuracy_scrore_rbf   size  \\\n",
       "0                 0.774000              0.775333             0.777167    500   \n",
       "1                 0.770500              0.775000             0.777167   1000   \n",
       "2                 0.766000              0.776833             0.777167   1500   \n",
       "3                 0.769167              0.777000             0.777167   2000   \n",
       "4                 0.768667              0.777167             0.777167   2500   \n",
       "5                 0.770000              0.777167             0.777167   3000   \n",
       "6                 0.768500              0.777000             0.777167   3500   \n",
       "7                 0.768667              0.777000             0.777167   4000   \n",
       "8                 0.773000              0.777167             0.777167   4500   \n",
       "9                 0.766167              0.777333             0.777167   5000   \n",
       "10                0.772833              0.777000             0.777167  24000   \n",
       "\n",
       "    time_train_linear  f1_score_linear  f1_score_poly  f1_score_rbf  \\\n",
       "0         1230.820516         0.871979       0.873403      0.874613   \n",
       "1          810.762771         0.867634       0.873192      0.874613   \n",
       "2         3231.008616         0.863636       0.874331      0.874613   \n",
       "3         1694.808469         0.866248       0.874460      0.874613   \n",
       "4         1658.121467         0.865894       0.874590      0.874613   \n",
       "5         2194.306422         0.866383       0.874590      0.874613   \n",
       "6         2676.464124         0.865028       0.874484      0.874613   \n",
       "7         1634.008865         0.865086       0.874484      0.874613   \n",
       "8         3942.417021         0.867793       0.874590      0.874613   \n",
       "9         3273.297643         0.862707       0.874672      0.874613   \n",
       "10       21234.234500         0.866228       0.874508      0.874613   \n",
       "\n",
       "    time_train_poly  time_train_rbf  precision_score_linear  \\\n",
       "0          0.045218        0.016063                0.778883   \n",
       "1          0.215862        0.049245                0.786237   \n",
       "2          0.337133        0.098396                0.789277   \n",
       "3          0.834599        0.218057                0.787948   \n",
       "4          2.195483        0.268217                0.787937   \n",
       "5          3.721683        0.367115                0.789762   \n",
       "6          4.546950        0.538994                0.790867   \n",
       "7          7.555638        0.683346                0.791111   \n",
       "8         11.041981        0.875492                0.792694   \n",
       "9         14.790676        1.089758                0.793377   \n",
       "10      1476.972354       26.399812                0.798588   \n",
       "\n",
       "    precision_score_poly  precision_score_rbf  \n",
       "0               0.776942             0.777167  \n",
       "1               0.776868             0.777167  \n",
       "2               0.777370             0.777167  \n",
       "3               0.777314             0.777167  \n",
       "4               0.777259             0.777167  \n",
       "5               0.777259             0.777167  \n",
       "6               0.777222             0.777167  \n",
       "7               0.777222             0.777167  \n",
       "8               0.777259             0.777167  \n",
       "9               0.777389             0.777167  \n",
       "10              0.777130             0.777167  "
      ]
     },
     "execution_count": 194,
     "metadata": {},
     "output_type": "execute_result"
    }
   ],
   "source": [
    "result_train"
   ]
  },
  {
   "cell_type": "markdown",
   "metadata": {},
   "source": [
    "## Recall score"
   ]
  },
  {
   "cell_type": "code",
   "execution_count": 195,
   "metadata": {
    "ExecuteTime": {
     "end_time": "2020-05-09T04:50:43.664155Z",
     "start_time": "2020-05-09T04:50:43.658865Z"
    }
   },
   "outputs": [],
   "source": [
    "from sklearn.metrics import recall_score"
   ]
  },
  {
   "cell_type": "code",
   "execution_count": 196,
   "metadata": {
    "ExecuteTime": {
     "end_time": "2020-05-09T04:50:44.023777Z",
     "start_time": "2020-05-09T04:50:43.828629Z"
    }
   },
   "outputs": [],
   "source": [
    "result = []\n",
    "for x in range(1,12):\n",
    "    y_pred= pd.read_csv(f\"./creditCard/result_linear{x}.csv\")\n",
    "    result.append(recall_score(y_test,y_pred,pos_label=0))\n",
    "result_train['recall_score_linear']= result\n",
    "result_poly = []\n",
    "for x in range(1,12):\n",
    "    y_pred= pd.read_csv(f\"./creditCard/result_poly{x}.csv\")\n",
    "    result_poly.append(recall_score(y_test,y_pred,pos_label=0))\n",
    "result_train['recall_score_poly']= result_poly\n",
    "result_rbf = []\n",
    "for x in range(1,12):\n",
    "    y_pred= pd.read_csv(f\"./creditCard/result_rbf{x}.csv\")\n",
    "    result_rbf.append(recall_score(y_test,y_pred,pos_label=0))\n",
    "result_train['recall_score_rbf']= result_rbf"
   ]
  },
  {
   "cell_type": "code",
   "execution_count": 199,
   "metadata": {
    "ExecuteTime": {
     "end_time": "2020-05-09T04:51:20.766315Z",
     "start_time": "2020-05-09T04:51:20.756705Z"
    }
   },
   "outputs": [],
   "source": [
    "result_train.to_csv('credictcard_result.csv',index=False)"
   ]
  },
  {
   "cell_type": "code",
   "execution_count": null,
   "metadata": {},
   "outputs": [],
   "source": []
  },
  {
   "cell_type": "code",
   "execution_count": null,
   "metadata": {},
   "outputs": [],
   "source": []
  }
 ],
 "metadata": {
  "kernelspec": {
   "display_name": "Python 3",
   "language": "python",
   "name": "python3"
  },
  "language_info": {
   "codemirror_mode": {
    "name": "ipython",
    "version": 3
   },
   "file_extension": ".py",
   "mimetype": "text/x-python",
   "name": "python",
   "nbconvert_exporter": "python",
   "pygments_lexer": "ipython3",
   "version": "3.7.3"
  },
  "toc": {
   "base_numbering": 1,
   "nav_menu": {},
   "number_sections": true,
   "sideBar": true,
   "skip_h1_title": false,
   "title_cell": "Table of Contents",
   "title_sidebar": "Contents",
   "toc_cell": false,
   "toc_position": {},
   "toc_section_display": true,
   "toc_window_display": false
  }
 },
 "nbformat": 4,
 "nbformat_minor": 4
}
