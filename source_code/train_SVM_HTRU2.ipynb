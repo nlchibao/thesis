{
 "cells": [
  {
   "cell_type": "code",
   "execution_count": 1,
   "metadata": {
    "ExecuteTime": {
     "end_time": "2020-05-01T12:29:48.430555Z",
     "start_time": "2020-05-01T12:29:48.413577Z"
    }
   },
   "outputs": [
    {
     "data": {
      "text/html": [
       "<style>\n",
       "div.output_area pre {\n",
       "    white-space: pre;\n",
       "    word-wrap: normal;\n",
       "}\n",
       ".container { \n",
       "    width:100% !important; \n",
       "}\n",
       "</style>\n"
      ],
      "text/plain": [
       "<IPython.core.display.HTML object>"
      ]
     },
     "metadata": {},
     "output_type": "display_data"
    }
   ],
   "source": [
    "%%html\n",
    "<style>\n",
    "div.output_area pre {\n",
    "    white-space: pre;\n",
    "    word-wrap: normal;\n",
    "}\n",
    ".container { \n",
    "    width:100% !important; \n",
    "}\n",
    "</style>"
   ]
  },
  {
   "cell_type": "code",
   "execution_count": 3,
   "metadata": {
    "ExecuteTime": {
     "end_time": "2020-05-01T12:29:53.953214Z",
     "start_time": "2020-05-01T12:29:53.328424Z"
    }
   },
   "outputs": [],
   "source": [
    "import pandas as pd\n",
    "import numpy as np\n",
    "import matplotlib.pyplot as plt\n",
    "import itertools\n",
    "from sklearn.model_selection import train_test_split\n",
    "from sklearn.svm import SVC\n",
    "from sklearn import svm\n",
    "from sklearn.metrics import classification_report, confusion_matrix\n",
    "from sklearn.metrics import hinge_loss\n",
    "from sklearn import metrics\n",
    "import datetime\n",
    "from datetime import date"
   ]
  },
  {
   "cell_type": "code",
   "execution_count": 4,
   "metadata": {
    "ExecuteTime": {
     "end_time": "2020-05-01T12:29:53.974115Z",
     "start_time": "2020-05-01T12:29:53.955823Z"
    }
   },
   "outputs": [],
   "source": [
    "def plot_confusion_matrix(cm, classes,\n",
    "                          normalize=False,\n",
    "                          title='Confusion matrix',\n",
    "                          cmap=plt.cm.Blues):\n",
    "    \"\"\"\n",
    "    This function prints and plots the confusion matrix.\n",
    "    Normalization can be applied by setting `normalize=True`.\n",
    "    \"\"\"\n",
    "    if normalize:\n",
    "        cm = cm.astype('float') / cm.sum(axis=1)[:, np.newaxis]\n",
    "        print(\"Normalized confusion matrix\")\n",
    "    else:\n",
    "        print('Confusion matrix, without normalization')\n",
    "\n",
    "    print(cm)\n",
    "\n",
    "    plt.imshow(cm, interpolation='nearest', cmap=cmap)\n",
    "    plt.title(title)\n",
    "    plt.colorbar()\n",
    "    tick_marks = np.arange(len(classes))\n",
    "    plt.xticks(tick_marks, classes, rotation=45)\n",
    "    plt.yticks(tick_marks, classes)\n",
    "\n",
    "    fmt = '.2f' if normalize else 'd'\n",
    "    thresh = cm.max() / 2.\n",
    "    for i, j in itertools.product(range(cm.shape[0]), range(cm.shape[1])):\n",
    "        plt.text(j, i, format(cm[i, j], fmt),\n",
    "                 horizontalalignment=\"center\",\n",
    "                 color=\"white\" if cm[i, j] > thresh else \"black\")\n",
    "\n",
    "    plt.ylabel('True label')\n",
    "    plt.xlabel('Predicted label')\n",
    "    plt.tight_layout()"
   ]
  },
  {
   "cell_type": "code",
   "execution_count": 5,
   "metadata": {
    "ExecuteTime": {
     "end_time": "2020-05-01T12:29:54.949104Z",
     "start_time": "2020-05-01T12:29:54.906778Z"
    }
   },
   "outputs": [],
   "source": [
    "HTRU2 = pd.read_csv(\"./HTRU2/HTRU_2.csv\",header=None)"
   ]
  },
  {
   "cell_type": "code",
   "execution_count": 6,
   "metadata": {
    "ExecuteTime": {
     "end_time": "2020-05-01T12:29:56.237420Z",
     "start_time": "2020-05-01T12:29:56.231646Z"
    }
   },
   "outputs": [],
   "source": [
    "svclassifier = svm.SVC(kernel='rbf',random_state = 1)"
   ]
  },
  {
   "cell_type": "code",
   "execution_count": 25,
   "metadata": {
    "ExecuteTime": {
     "end_time": "2020-05-01T12:33:49.118461Z",
     "start_time": "2020-05-01T12:33:49.086160Z"
    }
   },
   "outputs": [],
   "source": [
    "data_train = pd.read_csv(\"./HTRU2/HTRU_2_train.csv\")"
   ]
  },
  {
   "cell_type": "code",
   "execution_count": 31,
   "metadata": {
    "ExecuteTime": {
     "end_time": "2020-05-01T12:35:14.397547Z",
     "start_time": "2020-05-01T12:35:14.387826Z"
    }
   },
   "outputs": [],
   "source": [
    "X_train = data_train.drop('8',axis=1)\n",
    "y_train = data_train['8']"
   ]
  },
  {
   "cell_type": "code",
   "execution_count": 41,
   "metadata": {
    "ExecuteTime": {
     "end_time": "2020-05-01T12:37:36.805651Z",
     "start_time": "2020-05-01T12:37:36.783618Z"
    }
   },
   "outputs": [],
   "source": [
    "data_test = pd.read_csv(\"./HTRU2/HTRU_2_test.csv\")"
   ]
  },
  {
   "cell_type": "code",
   "execution_count": 42,
   "metadata": {
    "ExecuteTime": {
     "end_time": "2020-05-01T12:38:01.773433Z",
     "start_time": "2020-05-01T12:38:01.763495Z"
    }
   },
   "outputs": [],
   "source": [
    "X_test = data_test.drop('8',axis=1)\n",
    "y_test = data_test['8']"
   ]
  },
  {
   "cell_type": "code",
   "execution_count": 43,
   "metadata": {
    "ExecuteTime": {
     "end_time": "2020-05-01T12:38:05.512832Z",
     "start_time": "2020-05-01T12:38:05.508026Z"
    }
   },
   "outputs": [],
   "source": [
    "# HTRU2 = pd.read_csv(\"./HTRU2/HTRU_2.csv\",header=None)\n",
    "# X = HTRU2.drop(8, axis=1)\n",
    "# y = HTRU2[8]\n",
    "# X_train, X_test, y_train, y_test = train_test_split(X, y, test_size = 0.30, random_state = 1)\n",
    "# svclassifier = svm.SVC(kernel='rbf',random_state = 1)"
   ]
  },
  {
   "cell_type": "code",
   "execution_count": 44,
   "metadata": {
    "ExecuteTime": {
     "end_time": "2020-05-01T12:38:05.896848Z",
     "start_time": "2020-05-01T12:38:05.892148Z"
    }
   },
   "outputs": [],
   "source": [
    "# X_train[8]= y_train"
   ]
  },
  {
   "cell_type": "code",
   "execution_count": 45,
   "metadata": {
    "ExecuteTime": {
     "end_time": "2020-05-01T12:38:06.227968Z",
     "start_time": "2020-05-01T12:38:06.223675Z"
    }
   },
   "outputs": [],
   "source": [
    "# X_train.to_csv(\"./HTRU2/HTRU_2_train.csv\", index=False)"
   ]
  },
  {
   "cell_type": "code",
   "execution_count": 46,
   "metadata": {
    "ExecuteTime": {
     "end_time": "2020-05-01T12:38:06.444405Z",
     "start_time": "2020-05-01T12:38:06.439902Z"
    }
   },
   "outputs": [],
   "source": [
    "# X_test[8]= y_test"
   ]
  },
  {
   "cell_type": "code",
   "execution_count": 47,
   "metadata": {
    "ExecuteTime": {
     "end_time": "2020-05-01T12:38:08.011943Z",
     "start_time": "2020-05-01T12:38:08.007453Z"
    }
   },
   "outputs": [],
   "source": [
    "# X_test.to_csv(\"./HTRU2/HTRU_2_test.csv\", index=False)"
   ]
  },
  {
   "cell_type": "markdown",
   "metadata": {},
   "source": [
    "## Train full data"
   ]
  },
  {
   "cell_type": "code",
   "execution_count": 49,
   "metadata": {
    "ExecuteTime": {
     "end_time": "2020-05-01T12:38:08.932881Z",
     "start_time": "2020-05-01T12:38:08.928170Z"
    }
   },
   "outputs": [],
   "source": [
    "# start = datetime.datetime.now()\n",
    "# svclassifier.fit(X_train, y_train)\n",
    "# end = datetime.datetime.now()\n",
    "# y_pred = svclassifier.predict(X_test)\n",
    "# info_train= {'size': len(X_train), 'accuracy':metrics.accuracy_score(y_test,y_pred).tolist(),'time_train': (end-start).total_seconds() }\n",
    "# result.append(info_train)"
   ]
  },
  {
   "cell_type": "code",
   "execution_count": 50,
   "metadata": {
    "ExecuteTime": {
     "end_time": "2020-05-01T12:38:10.265576Z",
     "start_time": "2020-05-01T12:38:10.261090Z"
    }
   },
   "outputs": [],
   "source": [
    "# y_pred = svclassifier.predict(X_test)\n",
    "# cnf_matrix = confusion_matrix(y_test,y_pred)\n",
    "# class_names = ['male','female']\n",
    "# plt.figure()\n",
    "# plot_confusion_matrix(cnf_matrix, classes=class_names,\n",
    "#                       title='Confusion matrix, without normalization')\n",
    "# plt.show()"
   ]
  },
  {
   "cell_type": "code",
   "execution_count": 52,
   "metadata": {
    "ExecuteTime": {
     "end_time": "2020-05-01T12:40:27.934772Z",
     "start_time": "2020-05-01T12:40:27.927184Z"
    }
   },
   "outputs": [],
   "source": [
    "pathname ='./HTRU2/'\n",
    "list_file = []\n",
    "for i in range(1,11):\n",
    "    list_file.append(pathname +'coreset'+str(i)+'.csv')\n",
    "list_file.append('./HTRU2/HTRU_2_train.csv')"
   ]
  },
  {
   "cell_type": "code",
   "execution_count": 55,
   "metadata": {
    "ExecuteTime": {
     "end_time": "2020-05-01T12:41:36.982994Z",
     "start_time": "2020-05-01T12:41:36.975063Z"
    }
   },
   "outputs": [
    {
     "data": {
      "text/plain": [
       "['./HTRU2/coreset1.csv',\n",
       " './HTRU2/coreset2.csv',\n",
       " './HTRU2/coreset3.csv',\n",
       " './HTRU2/coreset4.csv',\n",
       " './HTRU2/coreset5.csv',\n",
       " './HTRU2/coreset6.csv',\n",
       " './HTRU2/coreset7.csv',\n",
       " './HTRU2/coreset8.csv',\n",
       " './HTRU2/coreset9.csv',\n",
       " './HTRU2/coreset10.csv',\n",
       " './HTRU2/HTRU_2_train.csv']"
      ]
     },
     "execution_count": 55,
     "metadata": {},
     "output_type": "execute_result"
    }
   ],
   "source": [
    "list_file"
   ]
  },
  {
   "cell_type": "code",
   "execution_count": 70,
   "metadata": {
    "ExecuteTime": {
     "end_time": "2020-05-01T12:54:28.233828Z",
     "start_time": "2020-05-01T12:54:26.539072Z"
    }
   },
   "outputs": [
    {
     "name": "stdout",
     "output_type": "stream",
     "text": [
      "{'size': 500, 'accuracy': 0.9659217877094972, 'time_train': 0.003769}\n",
      "{'size': 1000, 'accuracy': 0.9702048417132216, 'time_train': 0.0062}\n",
      "{'size': 1500, 'accuracy': 0.9713221601489758, 'time_train': 0.011535}\n",
      "{'size': 2000, 'accuracy': 0.9716945996275606, 'time_train': 0.024035}\n",
      "{'size': 2500, 'accuracy': 0.9713221601489758, 'time_train': 0.02978}\n",
      "{'size': 3000, 'accuracy': 0.9713221601489758, 'time_train': 0.044296}\n",
      "{'size': 3500, 'accuracy': 0.9711359404096834, 'time_train': 0.058924}\n",
      "{'size': 4000, 'accuracy': 0.9716945996275606, 'time_train': 0.071793}\n",
      "{'size': 4500, 'accuracy': 0.9713221601489758, 'time_train': 0.091646}\n",
      "{'size': 5000, 'accuracy': 0.9716945996275606, 'time_train': 0.109124}\n",
      "{'size': 12528, 'accuracy': 0.9715083798882681, 'time_train': 0.567452}\n"
     ]
    }
   ],
   "source": [
    "i = 1\n",
    "result = []\n",
    "for file in list_file:\n",
    "    global coreset,y_coreset,X_coreset\n",
    "    if file == './HTRU2/HTRU_2_train.csv':\n",
    "        coreset = pd.read_csv(file)\n",
    "        y_coreset = coreset['8']\n",
    "        X_coreset = coreset.drop('8', axis=1)\n",
    "    else:\n",
    "        coreset = pd.read_csv(file,header=None)\n",
    "        y_coreset = coreset[8]\n",
    "        X_coreset = coreset.drop(8, axis=1)\n",
    "    svclassifier = svm.SVC(kernel='poly')\n",
    "    start = datetime.datetime.now()\n",
    "    svclassifier.fit(X_coreset, y_coreset)\n",
    "    end = datetime.datetime.now()\n",
    "    output = pathname +'result_poly'+str(i)+'.csv'\n",
    "    i +=1\n",
    "    y_pred = svclassifier.predict(X_test)\n",
    "    pd.DataFrame(y_pred).to_csv(output,index=False)\n",
    "    info_train= {'size': len(X_coreset),'accuracy':metrics.accuracy_score(y_test,y_pred).tolist(),'time_train': (end-start).total_seconds() }\n",
    "    print({'size': len(X_coreset),'accuracy':metrics.accuracy_score(y_test,y_pred).tolist(),'time_train': (end-start).total_seconds() })\n",
    "    result.append(info_train)"
   ]
  },
  {
   "cell_type": "code",
   "execution_count": null,
   "metadata": {},
   "outputs": [],
   "source": []
  },
  {
   "cell_type": "code",
   "execution_count": 71,
   "metadata": {
    "ExecuteTime": {
     "end_time": "2020-05-01T12:54:34.880189Z",
     "start_time": "2020-05-01T12:54:34.871680Z"
    }
   },
   "outputs": [],
   "source": [
    "import csv\n",
    "with open(\"./HTRU2/result_poly.csv\",\"w\",newline=\"\") as f:  # python 2: open(\"output.csv\",\"wb\")\n",
    "    title = \"size,accuracy,time_train\".split(\",\") # quick hack\n",
    "    cw = csv.DictWriter(f,title,delimiter=',', quotechar='|', quoting=csv.QUOTE_MINIMAL)\n",
    "    cw.writeheader()\n",
    "    cw.writerows(result)"
   ]
  },
  {
   "cell_type": "code",
   "execution_count": 185,
   "metadata": {
    "ExecuteTime": {
     "end_time": "2020-04-04T12:10:23.089532Z",
     "start_time": "2020-04-04T12:10:23.077133Z"
    }
   },
   "outputs": [],
   "source": [
    "size=[]\n",
    "accuracy=[]\n",
    "time_train =[]\n",
    "for data in result:\n",
    "    size.append(data['size'])\n",
    "    accuracy.append(data['accuracy']*100)\n",
    "    time_train.append(data['time_train'])\n",
    "    "
   ]
  },
  {
   "cell_type": "code",
   "execution_count": 191,
   "metadata": {},
   "outputs": [],
   "source": [
    "full_data = result[-1]"
   ]
  },
  {
   "cell_type": "code",
   "execution_count": 192,
   "metadata": {},
   "outputs": [],
   "source": [
    "df_train = pd.DataFrame([size[:6],accuracy[:6]]).T"
   ]
  },
  {
   "cell_type": "code",
   "execution_count": 193,
   "metadata": {
    "ExecuteTime": {
     "end_time": "2020-04-04T12:10:23.728685Z",
     "start_time": "2020-04-04T12:10:23.722818Z"
    }
   },
   "outputs": [],
   "source": [
    "df_train.columns = ['size','accuracy']"
   ]
  },
  {
   "cell_type": "code",
   "execution_count": 194,
   "metadata": {
    "ExecuteTime": {
     "end_time": "2020-04-04T14:42:33.680762Z",
     "start_time": "2020-04-04T14:42:33.673196Z"
    }
   },
   "outputs": [],
   "source": [
    "df_train['full_data']= full_data['accuracy']*100"
   ]
  },
  {
   "cell_type": "code",
   "execution_count": 195,
   "metadata": {
    "ExecuteTime": {
     "end_time": "2020-04-04T14:42:45.239014Z",
     "start_time": "2020-04-04T14:42:44.936200Z"
    }
   },
   "outputs": [
    {
     "data": {
      "text/plain": [
       "<matplotlib.axes._subplots.AxesSubplot at 0x7fba68683208>"
      ]
     },
     "execution_count": 195,
     "metadata": {},
     "output_type": "execute_result"
    },
    {
     "data": {
      "image/png": "[encoded data removed]",
      "text/plain": [
       "<Figure size 432x288 with 1 Axes>"
      ]
     },
     "metadata": {
      "needs_background": "light"
     },
     "output_type": "display_data"
    }
   ],
   "source": [
    "df_train.sort_values(by='size',ascending=False).plot.line(x='size',y=['accuracy','full_data'])"
   ]
  },
  {
   "cell_type": "code",
   "execution_count": 196,
   "metadata": {},
   "outputs": [
    {
     "data": {
      "text/plain": [
       "<matplotlib.axes._subplots.AxesSubplot at 0x7fba68bf3e48>"
      ]
     },
     "execution_count": 196,
     "metadata": {},
     "output_type": "execute_result"
    },
    {
     "data": {
      "image/png": "[encoded data removed]",
      "text/plain": [
       "<Figure size 432x288 with 1 Axes>"
      ]
     },
     "metadata": {
      "needs_background": "light"
     },
     "output_type": "display_data"
    }
   ],
   "source": [
    "df_train = pd.DataFrame([size[:6],time_train[:6]]).T\n",
    "df_train.columns = ['size','time_train']\n",
    "df_train['full_data']= full_data['time_train']\n",
    "df_train.sort_values(by='size',ascending=False).plot.line(x='size',y=['time_train','full_data'])"
   ]
  },
  {
   "cell_type": "code",
   "execution_count": null,
   "metadata": {},
   "outputs": [],
   "source": []
  }
 ],
 "metadata": {
  "kernelspec": {
   "display_name": "Python 3",
   "language": "python",
   "name": "python3"
  },
  "language_info": {
   "codemirror_mode": {
    "name": "ipython",
    "version": 3
   },
   "file_extension": ".py",
   "mimetype": "text/x-python",
   "name": "python",
   "nbconvert_exporter": "python",
   "pygments_lexer": "ipython3",
   "version": "3.5.2"
  },
  "toc": {
   "base_numbering": 1,
   "nav_menu": {},
   "number_sections": true,
   "sideBar": true,
   "skip_h1_title": false,
   "title_cell": "Table of Contents",
   "title_sidebar": "Contents",
   "toc_cell": false,
   "toc_position": {},
   "toc_section_display": true,
   "toc_window_display": false
  }
 },
 "nbformat": 4,
 "nbformat_minor": 4
}
