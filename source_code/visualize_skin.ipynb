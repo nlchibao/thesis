{
 "cells": [
  {
   "cell_type": "code",
   "execution_count": 1,
   "metadata": {
    "ExecuteTime": {
     "end_time": "2020-07-05T16:25:16.969020Z",
     "start_time": "2020-07-05T16:25:16.279663Z"
    }
   },
   "outputs": [],
   "source": [
    "import pandas as pd\n",
    "import numpy as np\n",
    "import matplotlib.pyplot as plt\n",
    "import itertools\n",
    "from sklearn.model_selection import train_test_split\n",
    "from sklearn.svm import SVC\n",
    "from sklearn import svm\n",
    "from sklearn.metrics import classification_report, confusion_matrix\n",
    "from sklearn.metrics import hinge_loss\n",
    "from sklearn import metrics\n",
    "import datetime\n",
    "from datetime import date\n",
    "from sklearn.metrics import f1_score"
   ]
  },
  {
   "cell_type": "code",
   "execution_count": 23,
   "metadata": {
    "ExecuteTime": {
     "end_time": "2020-06-30T15:25:29.592476Z",
     "start_time": "2020-06-30T15:25:29.587100Z"
    }
   },
   "outputs": [],
   "source": [
    "from sklearn.metrics import recall_score"
   ]
  },
  {
   "cell_type": "code",
   "execution_count": 24,
   "metadata": {
    "ExecuteTime": {
     "end_time": "2020-06-30T15:25:30.160148Z",
     "start_time": "2020-06-30T15:25:29.962503Z"
    }
   },
   "outputs": [],
   "source": [
    "result = []\n",
    "for x in range(1,12):\n",
    "    y_pred= pd.read_csv(f\"./HTRU2/result_linear{x}.csv\")\n",
    "    result.append(recall_score(y_test,y_pred))\n",
    "result_train['recall_score_linear']= result\n",
    "result_poly = []\n",
    "for x in range(1,12):\n",
    "    y_pred= pd.read_csv(f\"./HTRU2/result_poly{x}.csv\")\n",
    "    result_poly.append(recall_score(y_test,y_pred))\n",
    "result_train['recall_score_poly']= result_poly\n",
    "result_rbf = []\n",
    "for x in range(1,12):\n",
    "    y_pred= pd.read_csv(f\"./HTRU2/result_rbf{x}.csv\")\n",
    "    result_rbf.append(recall_score(y_test,y_pred))\n",
    "result_train['recall_score_rbf']= result_rbf"
   ]
  },
  {
   "cell_type": "code",
   "execution_count": 47,
   "metadata": {
    "ExecuteTime": {
     "end_time": "2020-07-05T16:46:42.512001Z",
     "start_time": "2020-07-05T16:46:42.501883Z"
    }
   },
   "outputs": [],
   "source": [
    "result_train = pd.read_csv('./skin/result_rbf')"
   ]
  },
  {
   "cell_type": "code",
   "execution_count": 48,
   "metadata": {
    "ExecuteTime": {
     "end_time": "2020-07-05T16:46:42.756114Z",
     "start_time": "2020-07-05T16:46:42.745507Z"
    }
   },
   "outputs": [],
   "source": [
    "result_rbf = pd.read_csv('./skin/result_rbf') "
   ]
  },
  {
   "cell_type": "code",
   "execution_count": 49,
   "metadata": {
    "ExecuteTime": {
     "end_time": "2020-07-05T16:46:42.973867Z",
     "start_time": "2020-07-05T16:46:42.954313Z"
    }
   },
   "outputs": [
    {
     "data": {
      "text/html": [
       "<div>\n",
       "<style scoped>\n",
       "    .dataframe tbody tr th:only-of-type {\n",
       "        vertical-align: middle;\n",
       "    }\n",
       "\n",
       "    .dataframe tbody tr th {\n",
       "        vertical-align: top;\n",
       "    }\n",
       "\n",
       "    .dataframe thead th {\n",
       "        text-align: right;\n",
       "    }\n",
       "</style>\n",
       "<table border=\"1\" class=\"dataframe\">\n",
       "  <thead>\n",
       "    <tr style=\"text-align: right;\">\n",
       "      <th></th>\n",
       "      <th>size</th>\n",
       "      <th>accuracy</th>\n",
       "      <th>time_train</th>\n",
       "      <th>f1_score</th>\n",
       "      <th>precison</th>\n",
       "      <th>recall</th>\n",
       "    </tr>\n",
       "  </thead>\n",
       "  <tbody>\n",
       "    <tr>\n",
       "      <th>0</th>\n",
       "      <td>448</td>\n",
       "      <td>0.980617</td>\n",
       "      <td>0.009369</td>\n",
       "      <td>0.953399</td>\n",
       "      <td>0.954617</td>\n",
       "      <td>0.952185</td>\n",
       "    </tr>\n",
       "    <tr>\n",
       "      <th>1</th>\n",
       "      <td>896</td>\n",
       "      <td>0.990737</td>\n",
       "      <td>0.007915</td>\n",
       "      <td>0.978051</td>\n",
       "      <td>0.965356</td>\n",
       "      <td>0.991084</td>\n",
       "    </tr>\n",
       "    <tr>\n",
       "      <th>2</th>\n",
       "      <td>1344</td>\n",
       "      <td>0.992410</td>\n",
       "      <td>0.015142</td>\n",
       "      <td>0.982055</td>\n",
       "      <td>0.967218</td>\n",
       "      <td>0.997354</td>\n",
       "    </tr>\n",
       "    <tr>\n",
       "      <th>3</th>\n",
       "      <td>1792</td>\n",
       "      <td>0.993328</td>\n",
       "      <td>0.031715</td>\n",
       "      <td>0.984201</td>\n",
       "      <td>0.970832</td>\n",
       "      <td>0.997942</td>\n",
       "    </tr>\n",
       "    <tr>\n",
       "      <th>4</th>\n",
       "      <td>2240</td>\n",
       "      <td>0.993757</td>\n",
       "      <td>0.038063</td>\n",
       "      <td>0.985210</td>\n",
       "      <td>0.972148</td>\n",
       "      <td>0.998628</td>\n",
       "    </tr>\n",
       "    <tr>\n",
       "      <th>5</th>\n",
       "      <td>2688</td>\n",
       "      <td>0.993961</td>\n",
       "      <td>0.050656</td>\n",
       "      <td>0.985698</td>\n",
       "      <td>0.972355</td>\n",
       "      <td>0.999412</td>\n",
       "    </tr>\n",
       "    <tr>\n",
       "      <th>6</th>\n",
       "      <td>3136</td>\n",
       "      <td>0.994083</td>\n",
       "      <td>0.070896</td>\n",
       "      <td>0.985985</td>\n",
       "      <td>0.972821</td>\n",
       "      <td>0.999510</td>\n",
       "    </tr>\n",
       "    <tr>\n",
       "      <th>7</th>\n",
       "      <td>3584</td>\n",
       "      <td>0.994267</td>\n",
       "      <td>0.079596</td>\n",
       "      <td>0.986415</td>\n",
       "      <td>0.973566</td>\n",
       "      <td>0.999608</td>\n",
       "    </tr>\n",
       "    <tr>\n",
       "      <th>8</th>\n",
       "      <td>4032</td>\n",
       "      <td>0.994328</td>\n",
       "      <td>0.074422</td>\n",
       "      <td>0.986558</td>\n",
       "      <td>0.973845</td>\n",
       "      <td>0.999608</td>\n",
       "    </tr>\n",
       "    <tr>\n",
       "      <th>9</th>\n",
       "      <td>4480</td>\n",
       "      <td>0.994389</td>\n",
       "      <td>0.089576</td>\n",
       "      <td>0.986701</td>\n",
       "      <td>0.974124</td>\n",
       "      <td>0.999608</td>\n",
       "    </tr>\n",
       "    <tr>\n",
       "      <th>10</th>\n",
       "      <td>4928</td>\n",
       "      <td>0.994369</td>\n",
       "      <td>0.105508</td>\n",
       "      <td>0.986654</td>\n",
       "      <td>0.974031</td>\n",
       "      <td>0.999608</td>\n",
       "    </tr>\n",
       "    <tr>\n",
       "      <th>11</th>\n",
       "      <td>196045</td>\n",
       "      <td>0.998164</td>\n",
       "      <td>219.902349</td>\n",
       "      <td>0.995609</td>\n",
       "      <td>0.991545</td>\n",
       "      <td>0.999706</td>\n",
       "    </tr>\n",
       "  </tbody>\n",
       "</table>\n",
       "</div>"
      ],
      "text/plain": [
       "      size  accuracy  time_train  f1_score  precison    recall\n",
       "0      448  0.980617    0.009369  0.953399  0.954617  0.952185\n",
       "1      896  0.990737    0.007915  0.978051  0.965356  0.991084\n",
       "2     1344  0.992410    0.015142  0.982055  0.967218  0.997354\n",
       "3     1792  0.993328    0.031715  0.984201  0.970832  0.997942\n",
       "4     2240  0.993757    0.038063  0.985210  0.972148  0.998628\n",
       "5     2688  0.993961    0.050656  0.985698  0.972355  0.999412\n",
       "6     3136  0.994083    0.070896  0.985985  0.972821  0.999510\n",
       "7     3584  0.994267    0.079596  0.986415  0.973566  0.999608\n",
       "8     4032  0.994328    0.074422  0.986558  0.973845  0.999608\n",
       "9     4480  0.994389    0.089576  0.986701  0.974124  0.999608\n",
       "10    4928  0.994369    0.105508  0.986654  0.974031  0.999608\n",
       "11  196045  0.998164  219.902349  0.995609  0.991545  0.999706"
      ]
     },
     "execution_count": 49,
     "metadata": {},
     "output_type": "execute_result"
    }
   ],
   "source": [
    "result_train"
   ]
  },
  {
   "cell_type": "code",
   "execution_count": null,
   "metadata": {},
   "outputs": [],
   "source": []
  },
  {
   "cell_type": "code",
   "execution_count": 50,
   "metadata": {
    "ExecuteTime": {
     "end_time": "2020-07-05T16:46:43.382557Z",
     "start_time": "2020-07-05T16:46:43.374293Z"
    }
   },
   "outputs": [],
   "source": [
    "result_train['time train full data']=  result_train.iloc[11].time_train\t"
   ]
  },
  {
   "cell_type": "code",
   "execution_count": 51,
   "metadata": {
    "ExecuteTime": {
     "end_time": "2020-07-05T16:46:43.632629Z",
     "start_time": "2020-07-05T16:46:43.625363Z"
    }
   },
   "outputs": [],
   "source": [
    "result_train['accuracy score full data']= result_train.iloc[11].accuracy"
   ]
  },
  {
   "cell_type": "code",
   "execution_count": 52,
   "metadata": {
    "ExecuteTime": {
     "end_time": "2020-07-05T16:46:43.866759Z",
     "start_time": "2020-07-05T16:46:43.861580Z"
    }
   },
   "outputs": [],
   "source": [
    "result_train['f1 score full data']= result_train.iloc[11].f1_score"
   ]
  },
  {
   "cell_type": "code",
   "execution_count": 53,
   "metadata": {
    "ExecuteTime": {
     "end_time": "2020-07-05T16:46:44.125631Z",
     "start_time": "2020-07-05T16:46:44.117543Z"
    }
   },
   "outputs": [],
   "source": [
    "result_train['recall score full data']= result_train.iloc[11].recall"
   ]
  },
  {
   "cell_type": "code",
   "execution_count": 54,
   "metadata": {
    "ExecuteTime": {
     "end_time": "2020-07-05T16:46:44.355978Z",
     "start_time": "2020-07-05T16:46:44.350805Z"
    }
   },
   "outputs": [],
   "source": [
    "result_train['precision score full data']= result_train.iloc[11].precison"
   ]
  },
  {
   "cell_type": "code",
   "execution_count": 55,
   "metadata": {
    "ExecuteTime": {
     "end_time": "2020-07-05T16:46:44.590337Z",
     "start_time": "2020-07-05T16:46:44.579511Z"
    }
   },
   "outputs": [],
   "source": [
    "result_train.rename(columns={'accuracy':'accuracy score','f1_score': 'f1 score','precison': 'precision score','recall':'recall score','time_train':'time train'}, inplace=True)"
   ]
  },
  {
   "cell_type": "code",
   "execution_count": 56,
   "metadata": {
    "ExecuteTime": {
     "end_time": "2020-07-05T16:46:44.997368Z",
     "start_time": "2020-07-05T16:46:44.969007Z"
    }
   },
   "outputs": [
    {
     "data": {
      "text/html": [
       "<div>\n",
       "<style scoped>\n",
       "    .dataframe tbody tr th:only-of-type {\n",
       "        vertical-align: middle;\n",
       "    }\n",
       "\n",
       "    .dataframe tbody tr th {\n",
       "        vertical-align: top;\n",
       "    }\n",
       "\n",
       "    .dataframe thead th {\n",
       "        text-align: right;\n",
       "    }\n",
       "</style>\n",
       "<table border=\"1\" class=\"dataframe\">\n",
       "  <thead>\n",
       "    <tr style=\"text-align: right;\">\n",
       "      <th></th>\n",
       "      <th>size</th>\n",
       "      <th>accuracy score</th>\n",
       "      <th>time train</th>\n",
       "      <th>f1 score</th>\n",
       "      <th>precision score</th>\n",
       "      <th>recall score</th>\n",
       "      <th>time train full data</th>\n",
       "      <th>accuracy score full data</th>\n",
       "      <th>f1 score full data</th>\n",
       "      <th>recall score full data</th>\n",
       "      <th>precision score full data</th>\n",
       "    </tr>\n",
       "  </thead>\n",
       "  <tbody>\n",
       "    <tr>\n",
       "      <th>0</th>\n",
       "      <td>448</td>\n",
       "      <td>0.980617</td>\n",
       "      <td>0.009369</td>\n",
       "      <td>0.953399</td>\n",
       "      <td>0.954617</td>\n",
       "      <td>0.952185</td>\n",
       "      <td>219.902349</td>\n",
       "      <td>0.998164</td>\n",
       "      <td>0.995609</td>\n",
       "      <td>0.999706</td>\n",
       "      <td>0.991545</td>\n",
       "    </tr>\n",
       "    <tr>\n",
       "      <th>1</th>\n",
       "      <td>896</td>\n",
       "      <td>0.990737</td>\n",
       "      <td>0.007915</td>\n",
       "      <td>0.978051</td>\n",
       "      <td>0.965356</td>\n",
       "      <td>0.991084</td>\n",
       "      <td>219.902349</td>\n",
       "      <td>0.998164</td>\n",
       "      <td>0.995609</td>\n",
       "      <td>0.999706</td>\n",
       "      <td>0.991545</td>\n",
       "    </tr>\n",
       "    <tr>\n",
       "      <th>2</th>\n",
       "      <td>1344</td>\n",
       "      <td>0.992410</td>\n",
       "      <td>0.015142</td>\n",
       "      <td>0.982055</td>\n",
       "      <td>0.967218</td>\n",
       "      <td>0.997354</td>\n",
       "      <td>219.902349</td>\n",
       "      <td>0.998164</td>\n",
       "      <td>0.995609</td>\n",
       "      <td>0.999706</td>\n",
       "      <td>0.991545</td>\n",
       "    </tr>\n",
       "    <tr>\n",
       "      <th>3</th>\n",
       "      <td>1792</td>\n",
       "      <td>0.993328</td>\n",
       "      <td>0.031715</td>\n",
       "      <td>0.984201</td>\n",
       "      <td>0.970832</td>\n",
       "      <td>0.997942</td>\n",
       "      <td>219.902349</td>\n",
       "      <td>0.998164</td>\n",
       "      <td>0.995609</td>\n",
       "      <td>0.999706</td>\n",
       "      <td>0.991545</td>\n",
       "    </tr>\n",
       "    <tr>\n",
       "      <th>4</th>\n",
       "      <td>2240</td>\n",
       "      <td>0.993757</td>\n",
       "      <td>0.038063</td>\n",
       "      <td>0.985210</td>\n",
       "      <td>0.972148</td>\n",
       "      <td>0.998628</td>\n",
       "      <td>219.902349</td>\n",
       "      <td>0.998164</td>\n",
       "      <td>0.995609</td>\n",
       "      <td>0.999706</td>\n",
       "      <td>0.991545</td>\n",
       "    </tr>\n",
       "    <tr>\n",
       "      <th>5</th>\n",
       "      <td>2688</td>\n",
       "      <td>0.993961</td>\n",
       "      <td>0.050656</td>\n",
       "      <td>0.985698</td>\n",
       "      <td>0.972355</td>\n",
       "      <td>0.999412</td>\n",
       "      <td>219.902349</td>\n",
       "      <td>0.998164</td>\n",
       "      <td>0.995609</td>\n",
       "      <td>0.999706</td>\n",
       "      <td>0.991545</td>\n",
       "    </tr>\n",
       "    <tr>\n",
       "      <th>6</th>\n",
       "      <td>3136</td>\n",
       "      <td>0.994083</td>\n",
       "      <td>0.070896</td>\n",
       "      <td>0.985985</td>\n",
       "      <td>0.972821</td>\n",
       "      <td>0.999510</td>\n",
       "      <td>219.902349</td>\n",
       "      <td>0.998164</td>\n",
       "      <td>0.995609</td>\n",
       "      <td>0.999706</td>\n",
       "      <td>0.991545</td>\n",
       "    </tr>\n",
       "    <tr>\n",
       "      <th>7</th>\n",
       "      <td>3584</td>\n",
       "      <td>0.994267</td>\n",
       "      <td>0.079596</td>\n",
       "      <td>0.986415</td>\n",
       "      <td>0.973566</td>\n",
       "      <td>0.999608</td>\n",
       "      <td>219.902349</td>\n",
       "      <td>0.998164</td>\n",
       "      <td>0.995609</td>\n",
       "      <td>0.999706</td>\n",
       "      <td>0.991545</td>\n",
       "    </tr>\n",
       "    <tr>\n",
       "      <th>8</th>\n",
       "      <td>4032</td>\n",
       "      <td>0.994328</td>\n",
       "      <td>0.074422</td>\n",
       "      <td>0.986558</td>\n",
       "      <td>0.973845</td>\n",
       "      <td>0.999608</td>\n",
       "      <td>219.902349</td>\n",
       "      <td>0.998164</td>\n",
       "      <td>0.995609</td>\n",
       "      <td>0.999706</td>\n",
       "      <td>0.991545</td>\n",
       "    </tr>\n",
       "    <tr>\n",
       "      <th>9</th>\n",
       "      <td>4480</td>\n",
       "      <td>0.994389</td>\n",
       "      <td>0.089576</td>\n",
       "      <td>0.986701</td>\n",
       "      <td>0.974124</td>\n",
       "      <td>0.999608</td>\n",
       "      <td>219.902349</td>\n",
       "      <td>0.998164</td>\n",
       "      <td>0.995609</td>\n",
       "      <td>0.999706</td>\n",
       "      <td>0.991545</td>\n",
       "    </tr>\n",
       "    <tr>\n",
       "      <th>10</th>\n",
       "      <td>4928</td>\n",
       "      <td>0.994369</td>\n",
       "      <td>0.105508</td>\n",
       "      <td>0.986654</td>\n",
       "      <td>0.974031</td>\n",
       "      <td>0.999608</td>\n",
       "      <td>219.902349</td>\n",
       "      <td>0.998164</td>\n",
       "      <td>0.995609</td>\n",
       "      <td>0.999706</td>\n",
       "      <td>0.991545</td>\n",
       "    </tr>\n",
       "    <tr>\n",
       "      <th>11</th>\n",
       "      <td>196045</td>\n",
       "      <td>0.998164</td>\n",
       "      <td>219.902349</td>\n",
       "      <td>0.995609</td>\n",
       "      <td>0.991545</td>\n",
       "      <td>0.999706</td>\n",
       "      <td>219.902349</td>\n",
       "      <td>0.998164</td>\n",
       "      <td>0.995609</td>\n",
       "      <td>0.999706</td>\n",
       "      <td>0.991545</td>\n",
       "    </tr>\n",
       "  </tbody>\n",
       "</table>\n",
       "</div>"
      ],
      "text/plain": [
       "      size  accuracy score  time train  f1 score  precision score  \\\n",
       "0      448        0.980617    0.009369  0.953399         0.954617   \n",
       "1      896        0.990737    0.007915  0.978051         0.965356   \n",
       "2     1344        0.992410    0.015142  0.982055         0.967218   \n",
       "3     1792        0.993328    0.031715  0.984201         0.970832   \n",
       "4     2240        0.993757    0.038063  0.985210         0.972148   \n",
       "5     2688        0.993961    0.050656  0.985698         0.972355   \n",
       "6     3136        0.994083    0.070896  0.985985         0.972821   \n",
       "7     3584        0.994267    0.079596  0.986415         0.973566   \n",
       "8     4032        0.994328    0.074422  0.986558         0.973845   \n",
       "9     4480        0.994389    0.089576  0.986701         0.974124   \n",
       "10    4928        0.994369    0.105508  0.986654         0.974031   \n",
       "11  196045        0.998164  219.902349  0.995609         0.991545   \n",
       "\n",
       "    recall score  time train full data  accuracy score full data  \\\n",
       "0       0.952185            219.902349                  0.998164   \n",
       "1       0.991084            219.902349                  0.998164   \n",
       "2       0.997354            219.902349                  0.998164   \n",
       "3       0.997942            219.902349                  0.998164   \n",
       "4       0.998628            219.902349                  0.998164   \n",
       "5       0.999412            219.902349                  0.998164   \n",
       "6       0.999510            219.902349                  0.998164   \n",
       "7       0.999608            219.902349                  0.998164   \n",
       "8       0.999608            219.902349                  0.998164   \n",
       "9       0.999608            219.902349                  0.998164   \n",
       "10      0.999608            219.902349                  0.998164   \n",
       "11      0.999706            219.902349                  0.998164   \n",
       "\n",
       "    f1 score full data  recall score full data  precision score full data  \n",
       "0             0.995609                0.999706                   0.991545  \n",
       "1             0.995609                0.999706                   0.991545  \n",
       "2             0.995609                0.999706                   0.991545  \n",
       "3             0.995609                0.999706                   0.991545  \n",
       "4             0.995609                0.999706                   0.991545  \n",
       "5             0.995609                0.999706                   0.991545  \n",
       "6             0.995609                0.999706                   0.991545  \n",
       "7             0.995609                0.999706                   0.991545  \n",
       "8             0.995609                0.999706                   0.991545  \n",
       "9             0.995609                0.999706                   0.991545  \n",
       "10            0.995609                0.999706                   0.991545  \n",
       "11            0.995609                0.999706                   0.991545  "
      ]
     },
     "execution_count": 56,
     "metadata": {},
     "output_type": "execute_result"
    }
   ],
   "source": [
    "result_train"
   ]
  },
  {
   "cell_type": "code",
   "execution_count": 61,
   "metadata": {
    "ExecuteTime": {
     "end_time": "2020-07-05T16:53:21.113062Z",
     "start_time": "2020-07-05T16:53:20.886879Z"
    }
   },
   "outputs": [
    {
     "data": {
      "image/png": "[encoded data removed]",
      "text/plain": [
       "<Figure size 720x360 with 1 Axes>"
      ]
     },
     "metadata": {
      "needs_background": "light"
     },
     "output_type": "display_data"
    }
   ],
   "source": [
    "ax= result_train[:10].plot(kind='line', x='size', y=['accuracy score','accuracy score full data'],figsize=(10,5))\n",
    "ax.set(xlabel='coreset size', ylabel='accuracy score')\n",
    "plt.show()"
   ]
  },
  {
   "cell_type": "code",
   "execution_count": 57,
   "metadata": {
    "ExecuteTime": {
     "end_time": "2020-07-05T16:46:49.839345Z",
     "start_time": "2020-07-05T16:46:49.614481Z"
    }
   },
   "outputs": [
    {
     "data": {
      "image/png": "[encoded data removed]",
      "text/plain": [
       "<Figure size 720x360 with 1 Axes>"
      ]
     },
     "metadata": {
      "needs_background": "light"
     },
     "output_type": "display_data"
    }
   ],
   "source": [
    "ax= result_train[:10].plot(kind='line', x='size', y=['precision score','precision score full data'],figsize=(10,5))\n",
    "ax.set(xlabel='coreset size', ylabel='precision score')\n",
    "plt.show()"
   ]
  },
  {
   "cell_type": "code",
   "execution_count": 58,
   "metadata": {
    "ExecuteTime": {
     "end_time": "2020-07-05T16:46:50.103815Z",
     "start_time": "2020-07-05T16:46:49.937668Z"
    }
   },
   "outputs": [
    {
     "data": {
      "image/png": "[encoded data removed]",
      "text/plain": [
       "<Figure size 720x360 with 1 Axes>"
      ]
     },
     "metadata": {
      "needs_background": "light"
     },
     "output_type": "display_data"
    }
   ],
   "source": [
    "ax= result_train[:10].plot(kind='line', x='size', y=['f1 score','f1 score full data'],figsize=(10,5))\n",
    "ax.set(xlabel='coreset size', ylabel='f1 score')\n",
    "plt.show()"
   ]
  },
  {
   "cell_type": "code",
   "execution_count": 59,
   "metadata": {
    "ExecuteTime": {
     "end_time": "2020-07-05T16:46:50.498370Z",
     "start_time": "2020-07-05T16:46:50.311204Z"
    }
   },
   "outputs": [
    {
     "data": {
      "image/png": "[encoded data removed]",
      "text/plain": [
       "<Figure size 720x360 with 1 Axes>"
      ]
     },
     "metadata": {
      "needs_background": "light"
     },
     "output_type": "display_data"
    }
   ],
   "source": [
    "ax= result_train[:10].plot(kind='line', x='size', y=['recall score','recall score full data'],figsize=(10,5))\n",
    "ax.set(xlabel='coreset size', ylabel='recall score')\n",
    "plt.show()"
   ]
  },
  {
   "cell_type": "code",
   "execution_count": 60,
   "metadata": {
    "ExecuteTime": {
     "end_time": "2020-07-05T16:46:51.233580Z",
     "start_time": "2020-07-05T16:46:51.009889Z"
    }
   },
   "outputs": [
    {
     "data": {
      "image/png": "[encoded data removed]",
      "text/plain": [
       "<Figure size 720x360 with 1 Axes>"
      ]
     },
     "metadata": {
      "needs_background": "light"
     },
     "output_type": "display_data"
    }
   ],
   "source": [
    "ax= result_train[:10].plot(kind='line', x='size', y=['time train','time train full data'],figsize=(10,5))\n",
    "ax.set(xlabel='coreset size', ylabel='time train (s)')\n",
    "plt.show()"
   ]
  },
  {
   "cell_type": "code",
   "execution_count": null,
   "metadata": {},
   "outputs": [],
   "source": []
  },
  {
   "cell_type": "code",
   "execution_count": null,
   "metadata": {},
   "outputs": [],
   "source": []
  },
  {
   "cell_type": "code",
   "execution_count": 57,
   "metadata": {
    "ExecuteTime": {
     "end_time": "2020-05-09T04:51:51.889704Z",
     "start_time": "2020-05-09T04:51:51.868626Z"
    }
   },
   "outputs": [],
   "source": [
    "result_train.to_csv('HTRU2_result.csv', index=False)"
   ]
  },
  {
   "cell_type": "code",
   "execution_count": null,
   "metadata": {},
   "outputs": [],
   "source": []
  }
 ],
 "metadata": {
  "kernelspec": {
   "display_name": "Python 3",
   "language": "python",
   "name": "python3"
  },
  "language_info": {
   "codemirror_mode": {
    "name": "ipython",
    "version": 3
   },
   "file_extension": ".py",
   "mimetype": "text/x-python",
   "name": "python",
   "nbconvert_exporter": "python",
   "pygments_lexer": "ipython3",
   "version": "3.7.3"
  },
  "toc": {
   "base_numbering": 1,
   "nav_menu": {},
   "number_sections": true,
   "sideBar": true,
   "skip_h1_title": false,
   "title_cell": "Table of Contents",
   "title_sidebar": "Contents",
   "toc_cell": false,
   "toc_position": {},
   "toc_section_display": true,
   "toc_window_display": false
  }
 },
 "nbformat": 4,
 "nbformat_minor": 4
}
