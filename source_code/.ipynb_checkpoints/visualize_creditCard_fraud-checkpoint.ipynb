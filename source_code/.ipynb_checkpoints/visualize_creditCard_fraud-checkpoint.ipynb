{
 "cells": [
  {
   "cell_type": "code",
   "execution_count": 40,
   "metadata": {
    "ExecuteTime": {
     "end_time": "2020-05-09T03:30:28.416760Z",
     "start_time": "2020-05-09T03:30:28.406044Z"
    }
   },
   "outputs": [],
   "source": [
    "import pandas as pd\n",
    "import numpy as np\n",
    "import matplotlib.pyplot as plt\n",
    "import itertools\n",
    "from sklearn.model_selection import train_test_split\n",
    "from sklearn.svm import SVC\n",
    "from sklearn import svm\n",
    "from sklearn.metrics import classification_report, confusion_matrix\n",
    "from sklearn.metrics import hinge_loss\n",
    "from sklearn import metrics\n",
    "import datetime\n",
    "from datetime import date\n",
    "from sklearn.metrics import f1_score"
   ]
  },
  {
   "cell_type": "code",
   "execution_count": 10,
   "metadata": {
    "ExecuteTime": {
     "end_time": "2020-05-09T03:04:54.222583Z",
     "start_time": "2020-05-09T03:04:54.197452Z"
    }
   },
   "outputs": [],
   "source": [
    "data_test = pd.read_csv(\"./HTRU2/HTRU_2_test.csv\")\n",
    "X_test = data_test.drop('8',axis=1)\n",
    "y_test = data_test['8']"
   ]
  },
  {
   "cell_type": "code",
   "execution_count": 11,
   "metadata": {
    "ExecuteTime": {
     "end_time": "2020-05-09T03:04:59.264417Z",
     "start_time": "2020-05-09T03:04:59.252509Z"
    }
   },
   "outputs": [],
   "source": [
    "x = pd.read_csv(\"./HTRU2/result_linear1.csv\")"
   ]
  },
  {
   "cell_type": "code",
   "execution_count": 26,
   "metadata": {
    "ExecuteTime": {
     "end_time": "2020-05-09T03:12:04.866927Z",
     "start_time": "2020-05-09T03:12:04.823634Z"
    }
   },
   "outputs": [],
   "source": [
    "result = []\n",
    "for x in range(1,12):\n",
    "    y_pred= pd.read_csv(f\"./HTRU2/result_linear{x}.csv\")\n",
    "    result.append(metrics.accuracy_score(y_test,y_pred).tolist())"
   ]
  },
  {
   "cell_type": "code",
   "execution_count": 27,
   "metadata": {
    "ExecuteTime": {
     "end_time": "2020-05-09T03:12:06.522129Z",
     "start_time": "2020-05-09T03:12:06.514762Z"
    }
   },
   "outputs": [],
   "source": [
    "result_train = pd.DataFrame(result, columns=['accuracy_scrore_linear'])"
   ]
  },
  {
   "cell_type": "code",
   "execution_count": 28,
   "metadata": {
    "ExecuteTime": {
     "end_time": "2020-05-09T03:12:11.764229Z",
     "start_time": "2020-05-09T03:12:11.721425Z"
    }
   },
   "outputs": [],
   "source": [
    "result_poly = []\n",
    "for x in range(1,12):\n",
    "    y_pred= pd.read_csv(f\"./HTRU2/result_poly{x}.csv\")\n",
    "    result_poly.append(metrics.accuracy_score(y_test,y_pred).tolist())"
   ]
  },
  {
   "cell_type": "code",
   "execution_count": 30,
   "metadata": {
    "ExecuteTime": {
     "end_time": "2020-05-09T03:13:19.395549Z",
     "start_time": "2020-05-09T03:13:19.387476Z"
    }
   },
   "outputs": [],
   "source": [
    "result_train['accuracy_scrore_poly']= result_poly"
   ]
  },
  {
   "cell_type": "code",
   "execution_count": 32,
   "metadata": {
    "ExecuteTime": {
     "end_time": "2020-05-09T03:15:06.371054Z",
     "start_time": "2020-05-09T03:15:06.308248Z"
    }
   },
   "outputs": [],
   "source": [
    "result_rbf = []\n",
    "for x in range(1,12):\n",
    "    y_pred= pd.read_csv(f\"./HTRU2/result_rbf{x}.csv\")\n",
    "    result_rbf.append(metrics.accuracy_score(y_test,y_pred).tolist())"
   ]
  },
  {
   "cell_type": "code",
   "execution_count": 33,
   "metadata": {
    "ExecuteTime": {
     "end_time": "2020-05-09T03:15:19.344519Z",
     "start_time": "2020-05-09T03:15:19.337381Z"
    }
   },
   "outputs": [],
   "source": [
    "result_train['accuracy_scrore_rbf']= result_rbf"
   ]
  },
  {
   "cell_type": "code",
   "execution_count": 35,
   "metadata": {
    "ExecuteTime": {
     "end_time": "2020-05-09T03:16:52.104636Z",
     "start_time": "2020-05-09T03:16:52.092989Z"
    }
   },
   "outputs": [],
   "source": [
    "time_train_linear = pd.read_csv('./HTRU2/result_linear.csv')"
   ]
  },
  {
   "cell_type": "code",
   "execution_count": 37,
   "metadata": {
    "ExecuteTime": {
     "end_time": "2020-05-09T03:23:10.229557Z",
     "start_time": "2020-05-09T03:23:10.221874Z"
    }
   },
   "outputs": [],
   "source": [
    "result_train['size']=time_train_linear['size']"
   ]
  },
  {
   "cell_type": "code",
   "execution_count": 38,
   "metadata": {
    "ExecuteTime": {
     "end_time": "2020-05-09T03:27:58.313916Z",
     "start_time": "2020-05-09T03:27:58.305361Z"
    }
   },
   "outputs": [],
   "source": [
    "result_train['time_train_linear']= time_train_linear['time_train']"
   ]
  },
  {
   "cell_type": "code",
   "execution_count": 39,
   "metadata": {
    "ExecuteTime": {
     "end_time": "2020-05-09T03:28:06.098745Z",
     "start_time": "2020-05-09T03:28:06.079689Z"
    }
   },
   "outputs": [
    {
     "data": {
      "text/html": [
       "<div>\n",
       "<style scoped>\n",
       "    .dataframe tbody tr th:only-of-type {\n",
       "        vertical-align: middle;\n",
       "    }\n",
       "\n",
       "    .dataframe tbody tr th {\n",
       "        vertical-align: top;\n",
       "    }\n",
       "\n",
       "    .dataframe thead th {\n",
       "        text-align: right;\n",
       "    }\n",
       "</style>\n",
       "<table border=\"1\" class=\"dataframe\">\n",
       "  <thead>\n",
       "    <tr style=\"text-align: right;\">\n",
       "      <th></th>\n",
       "      <th>accuracy_scrore_linear</th>\n",
       "      <th>accuracy_scrore_poly</th>\n",
       "      <th>accuracy_scrore_rbf</th>\n",
       "      <th>size</th>\n",
       "      <th>time_train_linear</th>\n",
       "    </tr>\n",
       "  </thead>\n",
       "  <tbody>\n",
       "    <tr>\n",
       "      <th>0</th>\n",
       "      <td>0.972067</td>\n",
       "      <td>0.965922</td>\n",
       "      <td>0.966480</td>\n",
       "      <td>500</td>\n",
       "      <td>0.631358</td>\n",
       "    </tr>\n",
       "    <tr>\n",
       "      <th>1</th>\n",
       "      <td>0.977095</td>\n",
       "      <td>0.970205</td>\n",
       "      <td>0.968529</td>\n",
       "      <td>1000</td>\n",
       "      <td>1.768330</td>\n",
       "    </tr>\n",
       "    <tr>\n",
       "      <th>2</th>\n",
       "      <td>0.977654</td>\n",
       "      <td>0.971322</td>\n",
       "      <td>0.970577</td>\n",
       "      <td>1500</td>\n",
       "      <td>1.713746</td>\n",
       "    </tr>\n",
       "    <tr>\n",
       "      <th>3</th>\n",
       "      <td>0.978957</td>\n",
       "      <td>0.971695</td>\n",
       "      <td>0.970391</td>\n",
       "      <td>2000</td>\n",
       "      <td>2.317955</td>\n",
       "    </tr>\n",
       "    <tr>\n",
       "      <th>4</th>\n",
       "      <td>0.978399</td>\n",
       "      <td>0.971322</td>\n",
       "      <td>0.970764</td>\n",
       "      <td>2500</td>\n",
       "      <td>3.348374</td>\n",
       "    </tr>\n",
       "    <tr>\n",
       "      <th>5</th>\n",
       "      <td>0.979330</td>\n",
       "      <td>0.971322</td>\n",
       "      <td>0.970950</td>\n",
       "      <td>3000</td>\n",
       "      <td>9.289291</td>\n",
       "    </tr>\n",
       "    <tr>\n",
       "      <th>6</th>\n",
       "      <td>0.978585</td>\n",
       "      <td>0.971136</td>\n",
       "      <td>0.970950</td>\n",
       "      <td>3500</td>\n",
       "      <td>4.234474</td>\n",
       "    </tr>\n",
       "    <tr>\n",
       "      <th>7</th>\n",
       "      <td>0.979330</td>\n",
       "      <td>0.971695</td>\n",
       "      <td>0.971136</td>\n",
       "      <td>4000</td>\n",
       "      <td>5.693181</td>\n",
       "    </tr>\n",
       "    <tr>\n",
       "      <th>8</th>\n",
       "      <td>0.979516</td>\n",
       "      <td>0.971322</td>\n",
       "      <td>0.970764</td>\n",
       "      <td>4500</td>\n",
       "      <td>8.809203</td>\n",
       "    </tr>\n",
       "    <tr>\n",
       "      <th>9</th>\n",
       "      <td>0.979516</td>\n",
       "      <td>0.971695</td>\n",
       "      <td>0.970950</td>\n",
       "      <td>5000</td>\n",
       "      <td>8.083553</td>\n",
       "    </tr>\n",
       "    <tr>\n",
       "      <th>10</th>\n",
       "      <td>0.979702</td>\n",
       "      <td>0.971508</td>\n",
       "      <td>0.971881</td>\n",
       "      <td>12528</td>\n",
       "      <td>18.346721</td>\n",
       "    </tr>\n",
       "  </tbody>\n",
       "</table>\n",
       "</div>"
      ],
      "text/plain": [
       "    accuracy_scrore_linear  accuracy_scrore_poly  accuracy_scrore_rbf   size  \\\n",
       "0                 0.972067              0.965922             0.966480    500   \n",
       "1                 0.977095              0.970205             0.968529   1000   \n",
       "2                 0.977654              0.971322             0.970577   1500   \n",
       "3                 0.978957              0.971695             0.970391   2000   \n",
       "4                 0.978399              0.971322             0.970764   2500   \n",
       "5                 0.979330              0.971322             0.970950   3000   \n",
       "6                 0.978585              0.971136             0.970950   3500   \n",
       "7                 0.979330              0.971695             0.971136   4000   \n",
       "8                 0.979516              0.971322             0.970764   4500   \n",
       "9                 0.979516              0.971695             0.970950   5000   \n",
       "10                0.979702              0.971508             0.971881  12528   \n",
       "\n",
       "    time_train_linear  \n",
       "0            0.631358  \n",
       "1            1.768330  \n",
       "2            1.713746  \n",
       "3            2.317955  \n",
       "4            3.348374  \n",
       "5            9.289291  \n",
       "6            4.234474  \n",
       "7            5.693181  \n",
       "8            8.809203  \n",
       "9            8.083553  \n",
       "10          18.346721  "
      ]
     },
     "execution_count": 39,
     "metadata": {},
     "output_type": "execute_result"
    }
   ],
   "source": [
    "result_train"
   ]
  },
  {
   "cell_type": "markdown",
   "metadata": {},
   "source": [
    "## F1 score"
   ]
  },
  {
   "cell_type": "code",
   "execution_count": 43,
   "metadata": {
    "ExecuteTime": {
     "end_time": "2020-05-09T03:36:22.252132Z",
     "start_time": "2020-05-09T03:36:22.175855Z"
    }
   },
   "outputs": [],
   "source": [
    "result = []\n",
    "for x in range(1,12):\n",
    "    y_pred= pd.read_csv(f\"./HTRU2/result_linear{x}.csv\")\n",
    "    result.append(f1_score(y_test,y_pred))\n",
    "result_train['f1_score_linear']= result"
   ]
  },
  {
   "cell_type": "code",
   "execution_count": 44,
   "metadata": {
    "ExecuteTime": {
     "end_time": "2020-05-09T03:36:47.325551Z",
     "start_time": "2020-05-09T03:36:47.235991Z"
    }
   },
   "outputs": [],
   "source": [
    "result_poly = []\n",
    "for x in range(1,12):\n",
    "    y_pred= pd.read_csv(f\"./HTRU2/result_poly{x}.csv\")\n",
    "    result_poly.append(f1_score(y_test,y_pred))\n",
    "result_train['f1_score_poly']= result_poly"
   ]
  },
  {
   "cell_type": "code",
   "execution_count": 45,
   "metadata": {
    "ExecuteTime": {
     "end_time": "2020-05-09T03:37:38.181533Z",
     "start_time": "2020-05-09T03:37:38.103486Z"
    }
   },
   "outputs": [],
   "source": [
    "result_rbf = []\n",
    "for x in range(1,12):\n",
    "    y_pred= pd.read_csv(f\"./HTRU2/result_rbf{x}.csv\")\n",
    "    result_rbf.append(f1_score(y_test,y_pred))\n",
    "result_train['f1_score_rbf']= result_rbf"
   ]
  },
  {
   "cell_type": "code",
   "execution_count": 46,
   "metadata": {
    "ExecuteTime": {
     "end_time": "2020-05-09T03:50:40.632702Z",
     "start_time": "2020-05-09T03:50:40.609582Z"
    }
   },
   "outputs": [],
   "source": [
    "time_train_poly = pd.read_csv('./HTRU2/result_poly.csv')"
   ]
  },
  {
   "cell_type": "code",
   "execution_count": 48,
   "metadata": {
    "ExecuteTime": {
     "end_time": "2020-05-09T03:54:24.427776Z",
     "start_time": "2020-05-09T03:54:24.419358Z"
    }
   },
   "outputs": [],
   "source": [
    "result_train['time_train_poly']= time_train_poly['time_train']"
   ]
  },
  {
   "cell_type": "code",
   "execution_count": 50,
   "metadata": {
    "ExecuteTime": {
     "end_time": "2020-05-09T03:56:22.547352Z",
     "start_time": "2020-05-09T03:56:22.532824Z"
    }
   },
   "outputs": [],
   "source": [
    "time_train_rbf = pd.read_csv('./HTRU2/result_rbf.csv')\n",
    "result_train['time_train_rbf']= time_train_rbf['time_train']"
   ]
  },
  {
   "cell_type": "markdown",
   "metadata": {},
   "source": [
    "## Precison score"
   ]
  },
  {
   "cell_type": "code",
   "execution_count": 51,
   "metadata": {
    "ExecuteTime": {
     "end_time": "2020-05-09T03:58:00.294159Z",
     "start_time": "2020-05-09T03:58:00.288104Z"
    }
   },
   "outputs": [],
   "source": [
    "from sklearn.metrics import precision_score"
   ]
  },
  {
   "cell_type": "code",
   "execution_count": 52,
   "metadata": {
    "ExecuteTime": {
     "end_time": "2020-05-09T03:59:35.134096Z",
     "start_time": "2020-05-09T03:59:34.929927Z"
    }
   },
   "outputs": [],
   "source": [
    "result = []\n",
    "for x in range(1,12):\n",
    "    y_pred= pd.read_csv(f\"./HTRU2/result_linear{x}.csv\")\n",
    "    result.append(precision_score(y_test,y_pred))\n",
    "result_train['precision_score_linear']= result\n",
    "result_poly = []\n",
    "for x in range(1,12):\n",
    "    y_pred= pd.read_csv(f\"./HTRU2/result_poly{x}.csv\")\n",
    "    result_poly.append(precision_score(y_test,y_pred))\n",
    "result_train['precision_score_poly']= result_poly\n",
    "result_rbf = []\n",
    "for x in range(1,12):\n",
    "    y_pred= pd.read_csv(f\"./HTRU2/result_rbf{x}.csv\")\n",
    "    result_rbf.append(precision_score(y_test,y_pred))\n",
    "result_train['precision_score_rbf']= result_rbf"
   ]
  },
  {
   "cell_type": "code",
   "execution_count": 53,
   "metadata": {
    "ExecuteTime": {
     "end_time": "2020-05-09T03:59:39.823603Z",
     "start_time": "2020-05-09T03:59:39.781654Z"
    }
   },
   "outputs": [
    {
     "data": {
      "text/html": [
       "<div>\n",
       "<style scoped>\n",
       "    .dataframe tbody tr th:only-of-type {\n",
       "        vertical-align: middle;\n",
       "    }\n",
       "\n",
       "    .dataframe tbody tr th {\n",
       "        vertical-align: top;\n",
       "    }\n",
       "\n",
       "    .dataframe thead th {\n",
       "        text-align: right;\n",
       "    }\n",
       "</style>\n",
       "<table border=\"1\" class=\"dataframe\">\n",
       "  <thead>\n",
       "    <tr style=\"text-align: right;\">\n",
       "      <th></th>\n",
       "      <th>accuracy_scrore_linear</th>\n",
       "      <th>accuracy_scrore_poly</th>\n",
       "      <th>accuracy_scrore_rbf</th>\n",
       "      <th>size</th>\n",
       "      <th>time_train_linear</th>\n",
       "      <th>f1_score_linear</th>\n",
       "      <th>f1_score_poly</th>\n",
       "      <th>f1_score_rbf</th>\n",
       "      <th>time_train_poly</th>\n",
       "      <th>time_train_rbf</th>\n",
       "      <th>precision_score_linear</th>\n",
       "      <th>precision_score_poly</th>\n",
       "      <th>precision_score_rbf</th>\n",
       "    </tr>\n",
       "  </thead>\n",
       "  <tbody>\n",
       "    <tr>\n",
       "      <th>0</th>\n",
       "      <td>0.972067</td>\n",
       "      <td>0.965922</td>\n",
       "      <td>0.966480</td>\n",
       "      <td>500</td>\n",
       "      <td>0.631358</td>\n",
       "      <td>0.826389</td>\n",
       "      <td>0.780312</td>\n",
       "      <td>0.784689</td>\n",
       "      <td>0.003769</td>\n",
       "      <td>0.006285</td>\n",
       "      <td>0.954545</td>\n",
       "      <td>0.947522</td>\n",
       "      <td>0.947977</td>\n",
       "    </tr>\n",
       "    <tr>\n",
       "      <th>1</th>\n",
       "      <td>0.977095</td>\n",
       "      <td>0.970205</td>\n",
       "      <td>0.968529</td>\n",
       "      <td>1000</td>\n",
       "      <td>1.768330</td>\n",
       "      <td>0.862876</td>\n",
       "      <td>0.819820</td>\n",
       "      <td>0.801410</td>\n",
       "      <td>0.006200</td>\n",
       "      <td>0.010302</td>\n",
       "      <td>0.950860</td>\n",
       "      <td>0.914573</td>\n",
       "      <td>0.944598</td>\n",
       "    </tr>\n",
       "    <tr>\n",
       "      <th>2</th>\n",
       "      <td>0.977654</td>\n",
       "      <td>0.971322</td>\n",
       "      <td>0.970577</td>\n",
       "      <td>1500</td>\n",
       "      <td>1.713746</td>\n",
       "      <td>0.866667</td>\n",
       "      <td>0.827740</td>\n",
       "      <td>0.816705</td>\n",
       "      <td>0.011535</td>\n",
       "      <td>0.019578</td>\n",
       "      <td>0.951220</td>\n",
       "      <td>0.915842</td>\n",
       "      <td>0.946237</td>\n",
       "    </tr>\n",
       "    <tr>\n",
       "      <th>3</th>\n",
       "      <td>0.978957</td>\n",
       "      <td>0.971695</td>\n",
       "      <td>0.970391</td>\n",
       "      <td>2000</td>\n",
       "      <td>2.317955</td>\n",
       "      <td>0.876232</td>\n",
       "      <td>0.831111</td>\n",
       "      <td>0.817031</td>\n",
       "      <td>0.024035</td>\n",
       "      <td>0.024727</td>\n",
       "      <td>0.945626</td>\n",
       "      <td>0.912195</td>\n",
       "      <td>0.936675</td>\n",
       "    </tr>\n",
       "    <tr>\n",
       "      <th>4</th>\n",
       "      <td>0.978399</td>\n",
       "      <td>0.971322</td>\n",
       "      <td>0.970764</td>\n",
       "      <td>2500</td>\n",
       "      <td>3.348374</td>\n",
       "      <td>0.872247</td>\n",
       "      <td>0.826577</td>\n",
       "      <td>0.818916</td>\n",
       "      <td>0.029780</td>\n",
       "      <td>0.034758</td>\n",
       "      <td>0.947368</td>\n",
       "      <td>0.922111</td>\n",
       "      <td>0.941645</td>\n",
       "    </tr>\n",
       "    <tr>\n",
       "      <th>5</th>\n",
       "      <td>0.979330</td>\n",
       "      <td>0.971322</td>\n",
       "      <td>0.970950</td>\n",
       "      <td>3000</td>\n",
       "      <td>9.289291</td>\n",
       "      <td>0.878689</td>\n",
       "      <td>0.827354</td>\n",
       "      <td>0.821918</td>\n",
       "      <td>0.044296</td>\n",
       "      <td>0.048396</td>\n",
       "      <td>0.945882</td>\n",
       "      <td>0.917910</td>\n",
       "      <td>0.932642</td>\n",
       "    </tr>\n",
       "    <tr>\n",
       "      <th>6</th>\n",
       "      <td>0.978585</td>\n",
       "      <td>0.971136</td>\n",
       "      <td>0.970950</td>\n",
       "      <td>3500</td>\n",
       "      <td>4.234474</td>\n",
       "      <td>0.873765</td>\n",
       "      <td>0.827202</td>\n",
       "      <td>0.822323</td>\n",
       "      <td>0.058924</td>\n",
       "      <td>0.064608</td>\n",
       "      <td>0.945368</td>\n",
       "      <td>0.911548</td>\n",
       "      <td>0.930412</td>\n",
       "    </tr>\n",
       "    <tr>\n",
       "      <th>7</th>\n",
       "      <td>0.979330</td>\n",
       "      <td>0.971695</td>\n",
       "      <td>0.971136</td>\n",
       "      <td>4000</td>\n",
       "      <td>5.693181</td>\n",
       "      <td>0.878423</td>\n",
       "      <td>0.831111</td>\n",
       "      <td>0.822857</td>\n",
       "      <td>0.071793</td>\n",
       "      <td>0.082703</td>\n",
       "      <td>0.947991</td>\n",
       "      <td>0.912195</td>\n",
       "      <td>0.935065</td>\n",
       "    </tr>\n",
       "    <tr>\n",
       "      <th>8</th>\n",
       "      <td>0.979516</td>\n",
       "      <td>0.971322</td>\n",
       "      <td>0.970764</td>\n",
       "      <td>4500</td>\n",
       "      <td>8.809203</td>\n",
       "      <td>0.880174</td>\n",
       "      <td>0.829268</td>\n",
       "      <td>0.820981</td>\n",
       "      <td>0.091646</td>\n",
       "      <td>0.105665</td>\n",
       "      <td>0.943925</td>\n",
       "      <td>0.907767</td>\n",
       "      <td>0.930233</td>\n",
       "    </tr>\n",
       "    <tr>\n",
       "      <th>9</th>\n",
       "      <td>0.979516</td>\n",
       "      <td>0.971695</td>\n",
       "      <td>0.970950</td>\n",
       "      <td>5000</td>\n",
       "      <td>8.083553</td>\n",
       "      <td>0.880174</td>\n",
       "      <td>0.831111</td>\n",
       "      <td>0.822323</td>\n",
       "      <td>0.109124</td>\n",
       "      <td>0.125014</td>\n",
       "      <td>0.943925</td>\n",
       "      <td>0.912195</td>\n",
       "      <td>0.930412</td>\n",
       "    </tr>\n",
       "    <tr>\n",
       "      <th>10</th>\n",
       "      <td>0.979702</td>\n",
       "      <td>0.971508</td>\n",
       "      <td>0.971881</td>\n",
       "      <td>12528</td>\n",
       "      <td>18.346721</td>\n",
       "      <td>0.881393</td>\n",
       "      <td>0.828667</td>\n",
       "      <td>0.827429</td>\n",
       "      <td>0.567452</td>\n",
       "      <td>0.596062</td>\n",
       "      <td>0.944056</td>\n",
       "      <td>0.918114</td>\n",
       "      <td>0.940260</td>\n",
       "    </tr>\n",
       "  </tbody>\n",
       "</table>\n",
       "</div>"
      ],
      "text/plain": [
       "    accuracy_scrore_linear  accuracy_scrore_poly  accuracy_scrore_rbf   size  \\\n",
       "0                 0.972067              0.965922             0.966480    500   \n",
       "1                 0.977095              0.970205             0.968529   1000   \n",
       "2                 0.977654              0.971322             0.970577   1500   \n",
       "3                 0.978957              0.971695             0.970391   2000   \n",
       "4                 0.978399              0.971322             0.970764   2500   \n",
       "5                 0.979330              0.971322             0.970950   3000   \n",
       "6                 0.978585              0.971136             0.970950   3500   \n",
       "7                 0.979330              0.971695             0.971136   4000   \n",
       "8                 0.979516              0.971322             0.970764   4500   \n",
       "9                 0.979516              0.971695             0.970950   5000   \n",
       "10                0.979702              0.971508             0.971881  12528   \n",
       "\n",
       "    time_train_linear  f1_score_linear  f1_score_poly  f1_score_rbf  \\\n",
       "0            0.631358         0.826389       0.780312      0.784689   \n",
       "1            1.768330         0.862876       0.819820      0.801410   \n",
       "2            1.713746         0.866667       0.827740      0.816705   \n",
       "3            2.317955         0.876232       0.831111      0.817031   \n",
       "4            3.348374         0.872247       0.826577      0.818916   \n",
       "5            9.289291         0.878689       0.827354      0.821918   \n",
       "6            4.234474         0.873765       0.827202      0.822323   \n",
       "7            5.693181         0.878423       0.831111      0.822857   \n",
       "8            8.809203         0.880174       0.829268      0.820981   \n",
       "9            8.083553         0.880174       0.831111      0.822323   \n",
       "10          18.346721         0.881393       0.828667      0.827429   \n",
       "\n",
       "    time_train_poly  time_train_rbf  precision_score_linear  \\\n",
       "0          0.003769        0.006285                0.954545   \n",
       "1          0.006200        0.010302                0.950860   \n",
       "2          0.011535        0.019578                0.951220   \n",
       "3          0.024035        0.024727                0.945626   \n",
       "4          0.029780        0.034758                0.947368   \n",
       "5          0.044296        0.048396                0.945882   \n",
       "6          0.058924        0.064608                0.945368   \n",
       "7          0.071793        0.082703                0.947991   \n",
       "8          0.091646        0.105665                0.943925   \n",
       "9          0.109124        0.125014                0.943925   \n",
       "10         0.567452        0.596062                0.944056   \n",
       "\n",
       "    precision_score_poly  precision_score_rbf  \n",
       "0               0.947522             0.947977  \n",
       "1               0.914573             0.944598  \n",
       "2               0.915842             0.946237  \n",
       "3               0.912195             0.936675  \n",
       "4               0.922111             0.941645  \n",
       "5               0.917910             0.932642  \n",
       "6               0.911548             0.930412  \n",
       "7               0.912195             0.935065  \n",
       "8               0.907767             0.930233  \n",
       "9               0.912195             0.930412  \n",
       "10              0.918114             0.940260  "
      ]
     },
     "execution_count": 53,
     "metadata": {},
     "output_type": "execute_result"
    }
   ],
   "source": [
    "result_train"
   ]
  },
  {
   "cell_type": "markdown",
   "metadata": {},
   "source": [
    "## Recall score"
   ]
  },
  {
   "cell_type": "code",
   "execution_count": 54,
   "metadata": {
    "ExecuteTime": {
     "end_time": "2020-05-09T04:01:31.257642Z",
     "start_time": "2020-05-09T04:01:31.251860Z"
    }
   },
   "outputs": [],
   "source": [
    "from sklearn.metrics import recall_score"
   ]
  },
  {
   "cell_type": "code",
   "execution_count": 55,
   "metadata": {
    "ExecuteTime": {
     "end_time": "2020-05-09T04:02:37.088606Z",
     "start_time": "2020-05-09T04:02:36.880454Z"
    }
   },
   "outputs": [],
   "source": [
    "result = []\n",
    "for x in range(1,12):\n",
    "    y_pred= pd.read_csv(f\"./HTRU2/result_linear{x}.csv\")\n",
    "    result.append(recall_score(y_test,y_pred))\n",
    "result_train['recall_score_linear']= result\n",
    "result_poly = []\n",
    "for x in range(1,12):\n",
    "    y_pred= pd.read_csv(f\"./HTRU2/result_poly{x}.csv\")\n",
    "    result_poly.append(recall_score(y_test,y_pred))\n",
    "result_train['recall_score_poly']= result_poly\n",
    "result_rbf = []\n",
    "for x in range(1,12):\n",
    "    y_pred= pd.read_csv(f\"./HTRU2/result_rbf{x}.csv\")\n",
    "    result_rbf.append(recall_score(y_test,y_pred))\n",
    "result_train['recall_score_rbf']= result_rbf"
   ]
  },
  {
   "cell_type": "code",
   "execution_count": 56,
   "metadata": {
    "ExecuteTime": {
     "end_time": "2020-05-09T04:15:02.842363Z",
     "start_time": "2020-05-09T04:15:02.813087Z"
    }
   },
   "outputs": [
    {
     "data": {
      "text/html": [
       "<div>\n",
       "<style scoped>\n",
       "    .dataframe tbody tr th:only-of-type {\n",
       "        vertical-align: middle;\n",
       "    }\n",
       "\n",
       "    .dataframe tbody tr th {\n",
       "        vertical-align: top;\n",
       "    }\n",
       "\n",
       "    .dataframe thead th {\n",
       "        text-align: right;\n",
       "    }\n",
       "</style>\n",
       "<table border=\"1\" class=\"dataframe\">\n",
       "  <thead>\n",
       "    <tr style=\"text-align: right;\">\n",
       "      <th></th>\n",
       "      <th>accuracy_scrore_linear</th>\n",
       "      <th>accuracy_scrore_poly</th>\n",
       "      <th>accuracy_scrore_rbf</th>\n",
       "      <th>size</th>\n",
       "      <th>time_train_linear</th>\n",
       "      <th>f1_score_linear</th>\n",
       "      <th>f1_score_poly</th>\n",
       "      <th>f1_score_rbf</th>\n",
       "      <th>time_train_poly</th>\n",
       "      <th>time_train_rbf</th>\n",
       "      <th>precision_score_linear</th>\n",
       "      <th>precision_score_poly</th>\n",
       "      <th>precision_score_rbf</th>\n",
       "      <th>recall_score_linear</th>\n",
       "      <th>recall_score_poly</th>\n",
       "      <th>recall_score_rbf</th>\n",
       "    </tr>\n",
       "  </thead>\n",
       "  <tbody>\n",
       "    <tr>\n",
       "      <th>0</th>\n",
       "      <td>0.972067</td>\n",
       "      <td>0.965922</td>\n",
       "      <td>0.966480</td>\n",
       "      <td>500</td>\n",
       "      <td>0.631358</td>\n",
       "      <td>0.826389</td>\n",
       "      <td>0.780312</td>\n",
       "      <td>0.784689</td>\n",
       "      <td>0.003769</td>\n",
       "      <td>0.006285</td>\n",
       "      <td>0.954545</td>\n",
       "      <td>0.947522</td>\n",
       "      <td>0.947977</td>\n",
       "      <td>0.728571</td>\n",
       "      <td>0.663265</td>\n",
       "      <td>0.669388</td>\n",
       "    </tr>\n",
       "    <tr>\n",
       "      <th>1</th>\n",
       "      <td>0.977095</td>\n",
       "      <td>0.970205</td>\n",
       "      <td>0.968529</td>\n",
       "      <td>1000</td>\n",
       "      <td>1.768330</td>\n",
       "      <td>0.862876</td>\n",
       "      <td>0.819820</td>\n",
       "      <td>0.801410</td>\n",
       "      <td>0.006200</td>\n",
       "      <td>0.010302</td>\n",
       "      <td>0.950860</td>\n",
       "      <td>0.914573</td>\n",
       "      <td>0.944598</td>\n",
       "      <td>0.789796</td>\n",
       "      <td>0.742857</td>\n",
       "      <td>0.695918</td>\n",
       "    </tr>\n",
       "    <tr>\n",
       "      <th>2</th>\n",
       "      <td>0.977654</td>\n",
       "      <td>0.971322</td>\n",
       "      <td>0.970577</td>\n",
       "      <td>1500</td>\n",
       "      <td>1.713746</td>\n",
       "      <td>0.866667</td>\n",
       "      <td>0.827740</td>\n",
       "      <td>0.816705</td>\n",
       "      <td>0.011535</td>\n",
       "      <td>0.019578</td>\n",
       "      <td>0.951220</td>\n",
       "      <td>0.915842</td>\n",
       "      <td>0.946237</td>\n",
       "      <td>0.795918</td>\n",
       "      <td>0.755102</td>\n",
       "      <td>0.718367</td>\n",
       "    </tr>\n",
       "    <tr>\n",
       "      <th>3</th>\n",
       "      <td>0.978957</td>\n",
       "      <td>0.971695</td>\n",
       "      <td>0.970391</td>\n",
       "      <td>2000</td>\n",
       "      <td>2.317955</td>\n",
       "      <td>0.876232</td>\n",
       "      <td>0.831111</td>\n",
       "      <td>0.817031</td>\n",
       "      <td>0.024035</td>\n",
       "      <td>0.024727</td>\n",
       "      <td>0.945626</td>\n",
       "      <td>0.912195</td>\n",
       "      <td>0.936675</td>\n",
       "      <td>0.816327</td>\n",
       "      <td>0.763265</td>\n",
       "      <td>0.724490</td>\n",
       "    </tr>\n",
       "    <tr>\n",
       "      <th>4</th>\n",
       "      <td>0.978399</td>\n",
       "      <td>0.971322</td>\n",
       "      <td>0.970764</td>\n",
       "      <td>2500</td>\n",
       "      <td>3.348374</td>\n",
       "      <td>0.872247</td>\n",
       "      <td>0.826577</td>\n",
       "      <td>0.818916</td>\n",
       "      <td>0.029780</td>\n",
       "      <td>0.034758</td>\n",
       "      <td>0.947368</td>\n",
       "      <td>0.922111</td>\n",
       "      <td>0.941645</td>\n",
       "      <td>0.808163</td>\n",
       "      <td>0.748980</td>\n",
       "      <td>0.724490</td>\n",
       "    </tr>\n",
       "    <tr>\n",
       "      <th>5</th>\n",
       "      <td>0.979330</td>\n",
       "      <td>0.971322</td>\n",
       "      <td>0.970950</td>\n",
       "      <td>3000</td>\n",
       "      <td>9.289291</td>\n",
       "      <td>0.878689</td>\n",
       "      <td>0.827354</td>\n",
       "      <td>0.821918</td>\n",
       "      <td>0.044296</td>\n",
       "      <td>0.048396</td>\n",
       "      <td>0.945882</td>\n",
       "      <td>0.917910</td>\n",
       "      <td>0.932642</td>\n",
       "      <td>0.820408</td>\n",
       "      <td>0.753061</td>\n",
       "      <td>0.734694</td>\n",
       "    </tr>\n",
       "    <tr>\n",
       "      <th>6</th>\n",
       "      <td>0.978585</td>\n",
       "      <td>0.971136</td>\n",
       "      <td>0.970950</td>\n",
       "      <td>3500</td>\n",
       "      <td>4.234474</td>\n",
       "      <td>0.873765</td>\n",
       "      <td>0.827202</td>\n",
       "      <td>0.822323</td>\n",
       "      <td>0.058924</td>\n",
       "      <td>0.064608</td>\n",
       "      <td>0.945368</td>\n",
       "      <td>0.911548</td>\n",
       "      <td>0.930412</td>\n",
       "      <td>0.812245</td>\n",
       "      <td>0.757143</td>\n",
       "      <td>0.736735</td>\n",
       "    </tr>\n",
       "    <tr>\n",
       "      <th>7</th>\n",
       "      <td>0.979330</td>\n",
       "      <td>0.971695</td>\n",
       "      <td>0.971136</td>\n",
       "      <td>4000</td>\n",
       "      <td>5.693181</td>\n",
       "      <td>0.878423</td>\n",
       "      <td>0.831111</td>\n",
       "      <td>0.822857</td>\n",
       "      <td>0.071793</td>\n",
       "      <td>0.082703</td>\n",
       "      <td>0.947991</td>\n",
       "      <td>0.912195</td>\n",
       "      <td>0.935065</td>\n",
       "      <td>0.818367</td>\n",
       "      <td>0.763265</td>\n",
       "      <td>0.734694</td>\n",
       "    </tr>\n",
       "    <tr>\n",
       "      <th>8</th>\n",
       "      <td>0.979516</td>\n",
       "      <td>0.971322</td>\n",
       "      <td>0.970764</td>\n",
       "      <td>4500</td>\n",
       "      <td>8.809203</td>\n",
       "      <td>0.880174</td>\n",
       "      <td>0.829268</td>\n",
       "      <td>0.820981</td>\n",
       "      <td>0.091646</td>\n",
       "      <td>0.105665</td>\n",
       "      <td>0.943925</td>\n",
       "      <td>0.907767</td>\n",
       "      <td>0.930233</td>\n",
       "      <td>0.824490</td>\n",
       "      <td>0.763265</td>\n",
       "      <td>0.734694</td>\n",
       "    </tr>\n",
       "    <tr>\n",
       "      <th>9</th>\n",
       "      <td>0.979516</td>\n",
       "      <td>0.971695</td>\n",
       "      <td>0.970950</td>\n",
       "      <td>5000</td>\n",
       "      <td>8.083553</td>\n",
       "      <td>0.880174</td>\n",
       "      <td>0.831111</td>\n",
       "      <td>0.822323</td>\n",
       "      <td>0.109124</td>\n",
       "      <td>0.125014</td>\n",
       "      <td>0.943925</td>\n",
       "      <td>0.912195</td>\n",
       "      <td>0.930412</td>\n",
       "      <td>0.824490</td>\n",
       "      <td>0.763265</td>\n",
       "      <td>0.736735</td>\n",
       "    </tr>\n",
       "    <tr>\n",
       "      <th>10</th>\n",
       "      <td>0.979702</td>\n",
       "      <td>0.971508</td>\n",
       "      <td>0.971881</td>\n",
       "      <td>12528</td>\n",
       "      <td>18.346721</td>\n",
       "      <td>0.881393</td>\n",
       "      <td>0.828667</td>\n",
       "      <td>0.827429</td>\n",
       "      <td>0.567452</td>\n",
       "      <td>0.596062</td>\n",
       "      <td>0.944056</td>\n",
       "      <td>0.918114</td>\n",
       "      <td>0.940260</td>\n",
       "      <td>0.826531</td>\n",
       "      <td>0.755102</td>\n",
       "      <td>0.738776</td>\n",
       "    </tr>\n",
       "  </tbody>\n",
       "</table>\n",
       "</div>"
      ],
      "text/plain": [
       "    accuracy_scrore_linear  accuracy_scrore_poly  accuracy_scrore_rbf   size  \\\n",
       "0                 0.972067              0.965922             0.966480    500   \n",
       "1                 0.977095              0.970205             0.968529   1000   \n",
       "2                 0.977654              0.971322             0.970577   1500   \n",
       "3                 0.978957              0.971695             0.970391   2000   \n",
       "4                 0.978399              0.971322             0.970764   2500   \n",
       "5                 0.979330              0.971322             0.970950   3000   \n",
       "6                 0.978585              0.971136             0.970950   3500   \n",
       "7                 0.979330              0.971695             0.971136   4000   \n",
       "8                 0.979516              0.971322             0.970764   4500   \n",
       "9                 0.979516              0.971695             0.970950   5000   \n",
       "10                0.979702              0.971508             0.971881  12528   \n",
       "\n",
       "    time_train_linear  f1_score_linear  f1_score_poly  f1_score_rbf  \\\n",
       "0            0.631358         0.826389       0.780312      0.784689   \n",
       "1            1.768330         0.862876       0.819820      0.801410   \n",
       "2            1.713746         0.866667       0.827740      0.816705   \n",
       "3            2.317955         0.876232       0.831111      0.817031   \n",
       "4            3.348374         0.872247       0.826577      0.818916   \n",
       "5            9.289291         0.878689       0.827354      0.821918   \n",
       "6            4.234474         0.873765       0.827202      0.822323   \n",
       "7            5.693181         0.878423       0.831111      0.822857   \n",
       "8            8.809203         0.880174       0.829268      0.820981   \n",
       "9            8.083553         0.880174       0.831111      0.822323   \n",
       "10          18.346721         0.881393       0.828667      0.827429   \n",
       "\n",
       "    time_train_poly  time_train_rbf  precision_score_linear  \\\n",
       "0          0.003769        0.006285                0.954545   \n",
       "1          0.006200        0.010302                0.950860   \n",
       "2          0.011535        0.019578                0.951220   \n",
       "3          0.024035        0.024727                0.945626   \n",
       "4          0.029780        0.034758                0.947368   \n",
       "5          0.044296        0.048396                0.945882   \n",
       "6          0.058924        0.064608                0.945368   \n",
       "7          0.071793        0.082703                0.947991   \n",
       "8          0.091646        0.105665                0.943925   \n",
       "9          0.109124        0.125014                0.943925   \n",
       "10         0.567452        0.596062                0.944056   \n",
       "\n",
       "    precision_score_poly  precision_score_rbf  recall_score_linear  \\\n",
       "0               0.947522             0.947977             0.728571   \n",
       "1               0.914573             0.944598             0.789796   \n",
       "2               0.915842             0.946237             0.795918   \n",
       "3               0.912195             0.936675             0.816327   \n",
       "4               0.922111             0.941645             0.808163   \n",
       "5               0.917910             0.932642             0.820408   \n",
       "6               0.911548             0.930412             0.812245   \n",
       "7               0.912195             0.935065             0.818367   \n",
       "8               0.907767             0.930233             0.824490   \n",
       "9               0.912195             0.930412             0.824490   \n",
       "10              0.918114             0.940260             0.826531   \n",
       "\n",
       "    recall_score_poly  recall_score_rbf  \n",
       "0            0.663265          0.669388  \n",
       "1            0.742857          0.695918  \n",
       "2            0.755102          0.718367  \n",
       "3            0.763265          0.724490  \n",
       "4            0.748980          0.724490  \n",
       "5            0.753061          0.734694  \n",
       "6            0.757143          0.736735  \n",
       "7            0.763265          0.734694  \n",
       "8            0.763265          0.734694  \n",
       "9            0.763265          0.736735  \n",
       "10           0.755102          0.738776  "
      ]
     },
     "execution_count": 56,
     "metadata": {},
     "output_type": "execute_result"
    }
   ],
   "source": [
    "result_train"
   ]
  },
  {
   "cell_type": "code",
   "execution_count": 57,
   "metadata": {
    "ExecuteTime": {
     "end_time": "2020-05-09T04:51:51.889704Z",
     "start_time": "2020-05-09T04:51:51.868626Z"
    }
   },
   "outputs": [],
   "source": [
    "result_train.to_csv('HTRU2_result.csv', index=False)"
   ]
  },
  {
   "cell_type": "code",
   "execution_count": null,
   "metadata": {},
   "outputs": [],
   "source": []
  }
 ],
 "metadata": {
  "kernelspec": {
   "display_name": "Python 3",
   "language": "python",
   "name": "python3"
  },
  "language_info": {
   "codemirror_mode": {
    "name": "ipython",
    "version": 3
   },
   "file_extension": ".py",
   "mimetype": "text/x-python",
   "name": "python",
   "nbconvert_exporter": "python",
   "pygments_lexer": "ipython3",
   "version": "3.7.3"
  },
  "toc": {
   "base_numbering": 1,
   "nav_menu": {},
   "number_sections": true,
   "sideBar": true,
   "skip_h1_title": false,
   "title_cell": "Table of Contents",
   "title_sidebar": "Contents",
   "toc_cell": false,
   "toc_position": {},
   "toc_section_display": true,
   "toc_window_display": false
  }
 },
 "nbformat": 4,
 "nbformat_minor": 4
}
