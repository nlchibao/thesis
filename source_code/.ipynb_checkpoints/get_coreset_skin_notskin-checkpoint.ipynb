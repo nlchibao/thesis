{
 "cells": [
  {
   "cell_type": "code",
   "execution_count": 1,
   "metadata": {
    "ExecuteTime": {
     "end_time": "2020-07-01T13:27:51.974258Z",
     "start_time": "2020-07-01T13:27:51.477915Z"
    }
   },
   "outputs": [],
   "source": [
    "import math, random, sys, copy\n",
    "import numpy as np\n",
    "from functools import reduce\n",
    "import matplotlib.pyplot as plt\n",
    "import pandas as pd"
   ]
  },
  {
   "cell_type": "code",
   "execution_count": 2,
   "metadata": {
    "ExecuteTime": {
     "end_time": "2020-07-01T13:27:52.325010Z",
     "start_time": "2020-07-01T13:27:51.977060Z"
    }
   },
   "outputs": [],
   "source": [
    "import pandas as pd\n",
    "import numpy as np\n",
    "import matplotlib.pyplot as plt\n",
    "import itertools\n",
    "from sklearn.model_selection import train_test_split\n",
    "from sklearn.svm import SVC\n",
    "from sklearn import svm\n",
    "from sklearn.metrics import classification_report, confusion_matrix\n",
    "from sklearn.metrics import hinge_loss\n",
    "from sklearn import metrics\n",
    "import datetime\n",
    "from datetime import date"
   ]
  },
  {
   "cell_type": "code",
   "execution_count": 3,
   "metadata": {
    "ExecuteTime": {
     "end_time": "2020-07-01T13:27:52.567705Z",
     "start_time": "2020-07-01T13:27:52.562496Z"
    }
   },
   "outputs": [],
   "source": [
    "def convert_label(x):\n",
    "#     if x >='7':\n",
    "#         return 1\n",
    "#     else:\n",
    "#         return 0\n",
    "    return x"
   ]
  },
  {
   "cell_type": "code",
   "execution_count": 4,
   "metadata": {
    "ExecuteTime": {
     "end_time": "2020-07-01T13:27:54.268344Z",
     "start_time": "2020-07-01T13:27:54.261657Z"
    }
   },
   "outputs": [],
   "source": [
    "def euclidean_distance(x, y):\n",
    "#     finale_distance = 0\n",
    "#     for index in range(len(x)):\n",
    "#         finale_distance = finale_distance + math.pow((x[index] - y[index]), 2)\n",
    "#     return math.sqrt(finale_distance)\n",
    "    return np.sqrt(np.sum(np.power(x - y, 2), axis=0))"
   ]
  },
  {
   "cell_type": "code",
   "execution_count": 9,
   "metadata": {
    "ExecuteTime": {
     "end_time": "2020-07-01T13:29:04.724024Z",
     "start_time": "2020-07-01T13:29:04.708050Z"
    }
   },
   "outputs": [],
   "source": [
    "def pre_process(input_read):\n",
    "    #DESCRIPTION:\n",
    "    #Preprocess dataset: Can be done differently\n",
    "    i = 0\n",
    "    dataset = np.empty((len(input_read),4),dtype=float)\n",
    "    for x in input_read:\n",
    "        x = x[:-1] #Removing the last \\n \n",
    "        x = x.split(\",\")\n",
    "#         if x[-1]=='\"male\"':\n",
    "#             x[-1]=1\n",
    "#         else:\n",
    "#             x[-1]=0\n",
    "        dataset[i] = np.asarray([x])\n",
    "        i += 1\n",
    "    return np.unique(dataset,axis=0)"
   ]
  },
  {
   "cell_type": "code",
   "execution_count": 10,
   "metadata": {
    "ExecuteTime": {
     "end_time": "2020-07-01T13:29:05.387141Z",
     "start_time": "2020-07-01T13:29:05.379999Z"
    }
   },
   "outputs": [],
   "source": [
    "# def protras(input_set, epsilon):\n",
    "# #     from pdb import set_trace; set_trace()\n",
    "#     #PARAMETERS\n",
    "#     T = input_set #input\n",
    "#     T_sign = [True]* len(input_set)\n",
    "#     init_idx = random.randrange(0,len(input_set) - 1) #doing the random\n",
    "#     T_rep = dict() #T(yk)\n",
    "#     T_rep[init_idx] = {init_idx} #save as index\n",
    "#     S = {init_idx} #output = coreset (save as index)\n",
    "#     T_sign[init_idx] = False\n",
    "#     while True: #Repeat\n",
    "#         #STEP 1: FINDING CLOSET REPRESENTATIVE POINT FOR EACH POINTS OF \n",
    "#         #t THAT DOES NOT BELONG TO s\n",
    "#         for x in range(len(T)): #x removed from T (due to S) at line 79\n",
    "#             if T_sign[x] != False:\n",
    "#                 d_min = sys.float_info.max\n",
    "#                 y_min_idx = 0\n",
    "#                 # needed improvement\n",
    "#                 for i in S:\n",
    "#                     distance = euclidean_distance(T[x][:-1],T[i][:-1]) #improvement\n",
    "#                     if distance < d_min:\n",
    "#                         d_min = distance\n",
    "#                         y_min_idx = i\n",
    "#                 T_rep[y_min_idx].add(x)\n",
    "#         #STEP 2: FOR EACH REPRESENTATIVE IN S, FIND THE MAXIMUM DISTANCE\n",
    "#         #AND ITS CORRESPONDING POINT IN [T_rep]\n",
    "#         max_wd = 0; cost = 0; y_opt = 0; x_opt = 0\n",
    "#         d_max = dict(); x_max = dict()\n",
    "#         for y in S:\n",
    "#             d_max_tmp = 0\n",
    "#             x_idx_tmp = 0\n",
    "#             for x in T_rep[y]:\n",
    "#                 distance = euclidean_distance(T[x][:-1],T[y][:-1])\n",
    "#                 if distance > d_max_tmp:\n",
    "#                     d_max_tmp = distance\n",
    "#                     x_idx_tmp = x\n",
    "#             x_max[y] = x_idx_tmp\n",
    "#             d_max[y] = d_max_tmp\n",
    "#             pk = len(T_rep[y])*d_max[y]\n",
    "#             if pk > max_wd:\n",
    "#                 max_wd = pk\n",
    "#                 y_opt = y\n",
    "#             cost = cost + pk\n",
    "#         cost = cost / len(input_set)\n",
    "#         print(cost)\n",
    "\n",
    "#         #CHOOSE AMONG THE POINT ONE THAT IS THE FARTHEST FROM IT REPRESENTATIVE\n",
    "#         #AND SAVE IT IN CORESET [S]\n",
    "#         x_opt = x_max[y_opt]\n",
    "#         S.add(x_opt)\n",
    "#         T_sign[x_opt] = False\n",
    "#         T_rep[x_opt] = {x_opt}\n",
    "#         for i in T_rep.keys():\n",
    "#             if x_opt in T_rep[i] and x_opt != i:\n",
    "#                 T_rep[i].remove(x_opt)\n",
    "#         #CHECKING COST CONDITION\n",
    "#         if cost < epsilon:\n",
    "#             coreset = [T[i] for i in S]\n",
    "#             return coreset,cost"
   ]
  },
  {
   "cell_type": "code",
   "execution_count": null,
   "metadata": {},
   "outputs": [],
   "source": []
  },
  {
   "cell_type": "code",
   "execution_count": 13,
   "metadata": {
    "ExecuteTime": {
     "end_time": "2020-07-01T13:30:40.896413Z",
     "start_time": "2020-07-01T13:30:40.861089Z"
    }
   },
   "outputs": [],
   "source": [
    "input_read = None\n",
    "with open(\"./skin/data_train.csv\", 'r') as input_file:\n",
    "    input_read = input_file.readlines()"
   ]
  },
  {
   "cell_type": "code",
   "execution_count": 14,
   "metadata": {
    "ExecuteTime": {
     "end_time": "2020-07-01T13:30:44.642026Z",
     "start_time": "2020-07-01T13:30:43.233426Z"
    }
   },
   "outputs": [],
   "source": [
    "dataset = pre_process(input_read)"
   ]
  },
  {
   "cell_type": "code",
   "execution_count": 15,
   "metadata": {
    "ExecuteTime": {
     "end_time": "2020-07-01T13:30:46.561269Z",
     "start_time": "2020-07-01T13:30:46.556607Z"
    },
    "scrolled": true
   },
   "outputs": [],
   "source": [
    "# coreset, cost = protras(dataset, 0.02)"
   ]
  },
  {
   "cell_type": "code",
   "execution_count": 16,
   "metadata": {
    "ExecuteTime": {
     "end_time": "2020-07-01T13:30:46.854823Z",
     "start_time": "2020-07-01T13:30:46.844509Z"
    }
   },
   "outputs": [
    {
     "data": {
      "text/plain": [
       "44892"
      ]
     },
     "execution_count": 16,
     "metadata": {},
     "output_type": "execute_result"
    }
   ],
   "source": [
    "len(dataset)"
   ]
  },
  {
   "cell_type": "code",
   "execution_count": 19,
   "metadata": {
    "ExecuteTime": {
     "end_time": "2020-07-01T13:31:38.711160Z",
     "start_time": "2020-07-01T13:31:38.702918Z"
    }
   },
   "outputs": [
    {
     "data": {
      "text/plain": [
       "13467"
      ]
     },
     "execution_count": 19,
     "metadata": {},
     "output_type": "execute_result"
    }
   ],
   "source": [
    "int(44892*30/100)"
   ]
  },
  {
   "cell_type": "code",
   "execution_count": 21,
   "metadata": {
    "ExecuteTime": {
     "end_time": "2020-07-01T13:32:08.535519Z",
     "start_time": "2020-07-01T13:32:08.527730Z"
    }
   },
   "outputs": [],
   "source": [
    "data_size = []\n",
    "x=448\n",
    "while x <= 13467:\n",
    "    data_size.append(x)\n",
    "    x += 448\n",
    "number_file = 0"
   ]
  },
  {
   "cell_type": "code",
   "execution_count": 22,
   "metadata": {
    "ExecuteTime": {
     "end_time": "2020-07-01T13:32:09.647575Z",
     "start_time": "2020-07-01T13:32:09.643554Z"
    }
   },
   "outputs": [],
   "source": [
    "# list_epsilon = [2,1.5,1,0.8,0.5,0.3,0.1,0.09,0.05,0.03]\n",
    "# number_file = 0"
   ]
  },
  {
   "cell_type": "code",
   "execution_count": 23,
   "metadata": {
    "ExecuteTime": {
     "end_time": "2020-07-01T13:32:09.955316Z",
     "start_time": "2020-07-01T13:32:09.948072Z"
    }
   },
   "outputs": [],
   "source": [
    "def check_cost(size):\n",
    "    for x in data_size:\n",
    "        if size >= x:\n",
    "            return True\n",
    "    return False"
   ]
  },
  {
   "cell_type": "code",
   "execution_count": 24,
   "metadata": {
    "ExecuteTime": {
     "end_time": "2020-07-01T13:32:10.920362Z",
     "start_time": "2020-07-01T13:32:10.881732Z"
    }
   },
   "outputs": [],
   "source": [
    "def CoresetConstruction(X, epsilon):\n",
    "    global data_size\n",
    "    global number_file\n",
    "    n = X.__len__()     # number of data's elements\n",
    "    C = []              # coresets\n",
    "    C_count = -1        # number of element in C\n",
    "    # X_info: contain all info of each element in X\n",
    "    # [] = index in X; [0] = closest center; [1] = distance to closest center\n",
    "    # if [0] = -1 >> this point is a center\n",
    "    X_info = []\n",
    "    for i in range(n):\n",
    "        X_info.insert(i, [-1, 1000000.0])\n",
    "    X_info = np.asarray(X_info)\n",
    "\n",
    "    #Initialization\n",
    "    pos_min = np.argmin(X)\n",
    "    new_center = int(pos_min / X.shape[1])\n",
    "    C += [new_center]\n",
    "    X_info[new_center][1] = -1\n",
    "    C_count += 1\n",
    "    cost = 100\n",
    "\n",
    "    while cost > epsilon:\n",
    "        # Find nearest center of each point in data\n",
    "        new_center = C[C_count]\n",
    "        for i in range(n):\n",
    "            if i not in C:\n",
    "                new_dist = np.sqrt(np.sum(np.power(X[i][:-1] - X[new_center][:-1], 2), axis=0))\n",
    "                if new_dist < X_info[i][1]:\n",
    "                    X_info[i][0] = C_count\n",
    "                    X_info[i][1] = new_dist\n",
    "\n",
    "        # Find farthest point in each cluster\n",
    "        MaxWD = -1          # Measurement to omit noise\n",
    "        farthest = -1       # index of farthest point\n",
    "        cost = 0\n",
    "        for i in range(C_count + 1):\n",
    "            max_dist = -1\n",
    "            max_id = -1\n",
    "            count = 0\n",
    "            for j in range(n):\n",
    "                if X_info[j][0]==i:\n",
    "                    count += 1\n",
    "                    if max_dist < X_info[j][1]:\n",
    "                        max_dist = X_info[j][1]\n",
    "                        max_id = j\n",
    "            temp = max_dist * count\n",
    "            if temp > MaxWD:\n",
    "                MaxWD = temp\n",
    "                farthest = max_id\n",
    "            cost += temp / n\n",
    "        C += [farthest]\n",
    "        C_count += 1\n",
    "        X_info[farthest][0] = -1\n",
    "        X_info[farthest][1] = -1\n",
    "        if check_cost(len(C)) is True:\n",
    "            number_file +=1\n",
    "            path='./skin/'\n",
    "            filename = path+'coreset'+ str(number_file)+'.csv'\n",
    "            np.savetxt(filename,dataset[np.asarray(C)],fmt=\"%f\",delimiter=',')\n",
    "            data_size=data_size[1:]\n",
    "            print(cost,len(C))\n",
    "    return np.asarray(C), np.asarray(X_info)"
   ]
  },
  {
   "cell_type": "code",
   "execution_count": null,
   "metadata": {
    "ExecuteTime": {
     "start_time": "2020-07-01T13:33:41.441Z"
    },
    "scrolled": true
   },
   "outputs": [],
   "source": [
    "coreset, cost= CoresetConstruction(dataset,0.000000000003)"
   ]
  },
  {
   "cell_type": "code",
   "execution_count": 89,
   "metadata": {
    "ExecuteTime": {
     "end_time": "2020-04-04T16:08:12.346227Z",
     "start_time": "2020-04-04T16:08:12.341815Z"
    },
    "scrolled": true
   },
   "outputs": [],
   "source": [
    "# list_epsilon = [2,1.5,1,0.8,0.5,0.3,0.1,0.09,0.05,0.03]\n",
    "# i = 0\n",
    "# path='./creditCard/'\n",
    "# for epsilon in list_epsilon:\n",
    "#     i += 1\n",
    "#     coreset, cost= CoresetConstruction(dataset,epsilon)\n",
    "#     filename = path+'coreset'+ str(i)+'.csv'\n",
    "#     np.savetxt(filename,dataset[coreset],fmt=\"%f\",delimiter=',')\n",
    "#     print(len(coreset))"
   ]
  },
  {
   "cell_type": "code",
   "execution_count": null,
   "metadata": {},
   "outputs": [],
   "source": []
  }
 ],
 "metadata": {
  "kernelspec": {
   "display_name": "Python 3",
   "language": "python",
   "name": "python3"
  },
  "language_info": {
   "codemirror_mode": {
    "name": "ipython",
    "version": 3
   },
   "file_extension": ".py",
   "mimetype": "text/x-python",
   "name": "python",
   "nbconvert_exporter": "python",
   "pygments_lexer": "ipython3",
   "version": "3.7.3"
  },
  "toc": {
   "base_numbering": 1,
   "nav_menu": {},
   "number_sections": true,
   "sideBar": true,
   "skip_h1_title": false,
   "title_cell": "Table of Contents",
   "title_sidebar": "Contents",
   "toc_cell": false,
   "toc_position": {},
   "toc_section_display": true,
   "toc_window_display": false
  }
 },
 "nbformat": 4,
 "nbformat_minor": 2
}
