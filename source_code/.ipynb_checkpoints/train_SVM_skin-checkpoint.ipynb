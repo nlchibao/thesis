{
 "cells": [
  {
   "cell_type": "code",
   "execution_count": 1,
   "metadata": {
    "ExecuteTime": {
     "end_time": "2020-07-05T05:41:07.920485Z",
     "start_time": "2020-07-05T05:41:07.903862Z"
    }
   },
   "outputs": [
    {
     "data": {
      "text/html": [
       "<style>\n",
       "div.output_area pre {\n",
       "    white-space: pre;\n",
       "    word-wrap: normal;\n",
       "}\n",
       ".container { \n",
       "    width:100% !important; \n",
       "}\n",
       "</style>\n"
      ],
      "text/plain": [
       "<IPython.core.display.HTML object>"
      ]
     },
     "metadata": {},
     "output_type": "display_data"
    }
   ],
   "source": [
    "%%html\n",
    "<style>\n",
    "div.output_area pre {\n",
    "    white-space: pre;\n",
    "    word-wrap: normal;\n",
    "}\n",
    ".container { \n",
    "    width:100% !important; \n",
    "}\n",
    "</style>"
   ]
  },
  {
   "cell_type": "code",
   "execution_count": 3,
   "metadata": {
    "ExecuteTime": {
     "end_time": "2020-07-05T05:41:12.954221Z",
     "start_time": "2020-07-05T05:41:12.537602Z"
    }
   },
   "outputs": [],
   "source": [
    "from sklearn.metrics import f1_score\n",
    "from sklearn.metrics import precision_score\n",
    "from sklearn.metrics import recall_score"
   ]
  },
  {
   "cell_type": "code",
   "execution_count": null,
   "metadata": {},
   "outputs": [],
   "source": []
  },
  {
   "cell_type": "code",
   "execution_count": 4,
   "metadata": {
    "ExecuteTime": {
     "end_time": "2020-07-05T05:41:13.322289Z",
     "start_time": "2020-07-05T05:41:12.956517Z"
    }
   },
   "outputs": [],
   "source": [
    "import pandas as pd\n",
    "import numpy as np\n",
    "import matplotlib.pyplot as plt\n",
    "import itertools\n",
    "from sklearn.model_selection import train_test_split\n",
    "from sklearn.svm import SVC\n",
    "from sklearn import svm\n",
    "from sklearn.metrics import classification_report, confusion_matrix\n",
    "from sklearn.metrics import hinge_loss\n",
    "from sklearn import metrics\n",
    "import datetime\n",
    "from datetime import date"
   ]
  },
  {
   "cell_type": "code",
   "execution_count": 5,
   "metadata": {
    "ExecuteTime": {
     "end_time": "2020-07-05T05:41:13.336425Z",
     "start_time": "2020-07-05T05:41:13.324440Z"
    }
   },
   "outputs": [],
   "source": [
    "def plot_confusion_matrix(cm, classes,\n",
    "                          normalize=False,\n",
    "                          title='Confusion matrix',\n",
    "                          cmap=plt.cm.Blues):\n",
    "    \"\"\"\n",
    "    This function prints and plots the confusion matrix.\n",
    "    Normalization can be applied by setting `normalize=True`.\n",
    "    \"\"\"\n",
    "    if normalize:\n",
    "        cm = cm.astype('float') / cm.sum(axis=1)[:, np.newaxis]\n",
    "        print(\"Normalized confusion matrix\")\n",
    "    else:\n",
    "        print('Confusion matrix, without normalization')\n",
    "\n",
    "    print(cm)\n",
    "\n",
    "    plt.imshow(cm, interpolation='nearest', cmap=cmap)\n",
    "    plt.title(title)\n",
    "    plt.colorbar()\n",
    "    tick_marks = np.arange(len(classes))\n",
    "    plt.xticks(tick_marks, classes, rotation=45)\n",
    "    plt.yticks(tick_marks, classes)\n",
    "\n",
    "    fmt = '.2f' if normalize else 'd'\n",
    "    thresh = cm.max() / 2.\n",
    "    for i, j in itertools.product(range(cm.shape[0]), range(cm.shape[1])):\n",
    "        plt.text(j, i, format(cm[i, j], fmt),\n",
    "                 horizontalalignment=\"center\",\n",
    "                 color=\"white\" if cm[i, j] > thresh else \"black\")\n",
    "\n",
    "    plt.ylabel('True label')\n",
    "    plt.xlabel('Predicted label')\n",
    "    plt.tight_layout()"
   ]
  },
  {
   "cell_type": "code",
   "execution_count": 6,
   "metadata": {
    "ExecuteTime": {
     "end_time": "2020-07-05T05:41:13.381422Z",
     "start_time": "2020-07-05T05:41:13.338555Z"
    }
   },
   "outputs": [],
   "source": [
    "data_test = pd.read_csv(\"./skin/data_test.csv\",header=None)\n",
    "X_test = data_test.drop(3,axis=1)\n",
    "y_test = data_test[3]"
   ]
  },
  {
   "cell_type": "markdown",
   "metadata": {},
   "source": [
    "## Train full data"
   ]
  },
  {
   "cell_type": "code",
   "execution_count": 7,
   "metadata": {
    "ExecuteTime": {
     "end_time": "2020-07-05T05:41:13.590101Z",
     "start_time": "2020-07-05T05:41:13.585880Z"
    }
   },
   "outputs": [],
   "source": [
    "# start = datetime.datetime.now()\n",
    "# svclassifier.fit(X_train, y_train)\n",
    "# end = datetime.datetime.now()\n",
    "# y_pred = svclassifier.predict(X_test)\n",
    "# info_train= {'size': len(X_train), 'accuracy':metrics.accuracy_score(y_test,y_pred).tolist(),'time_train': (end-start).total_seconds() }\n",
    "# result.append(info_train)"
   ]
  },
  {
   "cell_type": "code",
   "execution_count": 8,
   "metadata": {
    "ExecuteTime": {
     "end_time": "2020-07-05T05:41:13.908435Z",
     "start_time": "2020-07-05T05:41:13.904487Z"
    }
   },
   "outputs": [],
   "source": [
    "# y_pred = svclassifier.predict(X_test)\n",
    "# cnf_matrix = confusion_matrix(y_test,y_pred)\n",
    "# class_names = ['male','female']\n",
    "# plt.figure()\n",
    "# plot_confusion_matrix(cnf_matrix, classes=class_names,\n",
    "#                       title='Confusion matrix, without normalization')\n",
    "# plt.show()"
   ]
  },
  {
   "cell_type": "code",
   "execution_count": 20,
   "metadata": {
    "ExecuteTime": {
     "end_time": "2020-07-05T06:40:01.337997Z",
     "start_time": "2020-07-05T06:40:01.331630Z"
    }
   },
   "outputs": [],
   "source": [
    "pathname ='./skin/'\n",
    "list_file = []\n",
    "for i in range(1,2):\n",
    "    list_file.append(pathname +'coreset'+str(i)+'.csv')\n",
    "list_file.append('./skin/data_train.csv')"
   ]
  },
  {
   "cell_type": "code",
   "execution_count": null,
   "metadata": {
    "ExecuteTime": {
     "start_time": "2020-07-05T06:41:29.871Z"
    }
   },
   "outputs": [
    {
     "name": "stderr",
     "output_type": "stream",
     "text": [
      "/home/d3m-risk/.conda/envs/d3m-risk/lib/python3.7/site-packages/sklearn/metrics/_classification.py:1272: UndefinedMetricWarning: Precision is ill-defined and being set to 0.0 due to no predicted samples. Use `zero_division` parameter to control this behavior.\n",
      "  _warn_prf(average, modifier, msg_start, len(result))\n"
     ]
    }
   ],
   "source": [
    "i = 1\n",
    "result = []\n",
    "for file in list_file:\n",
    "    global coreset,y_coreset,X_coreset\n",
    "    coreset = pd.read_csv(file,header=None)\n",
    "    y_coreset = coreset[3]\n",
    "    X_coreset = coreset.drop(3, axis=1)\n",
    "    svclassifier = svm.SVC(kernel='linear')\n",
    "    start = datetime.datetime.now()\n",
    "    svclassifier.fit(X_coreset, y_coreset)\n",
    "    end = datetime.datetime.now()\n",
    "    y_pred = svclassifier.predict(X_test)\n",
    "    info_train= {'size': len(X_coreset),'accuracy':metrics.accuracy_score(y_test,y_pred).tolist(),'time_train': (end-start).total_seconds(),'f1_score':f1_score(y_test,y_pred,labels=np.unique(y_test)),'precison':precision_score(y_test,y_pred,labels=np.unique(y_test)),'recall':recall_score(y_test,y_pred,labels=np.unique(y_test)) }\n",
    "#     info_train= {'size': len(X_coreset),'accuracy':metrics.accuracy_score(y_test,y_pred).tolist(),'time_train': (end-start).total_seconds()}\n",
    "    result.append(info_train)\n",
    "    "
   ]
  },
  {
   "cell_type": "code",
   "execution_count": null,
   "metadata": {
    "ExecuteTime": {
     "start_time": "2020-07-05T12:55:17.781Z"
    },
    "scrolled": false
   },
   "outputs": [],
   "source": [
    "result"
   ]
  },
  {
   "cell_type": "code",
   "execution_count": 17,
   "metadata": {
    "ExecuteTime": {
     "end_time": "2020-07-05T04:31:10.168944Z",
     "start_time": "2020-07-05T04:31:10.160150Z"
    }
   },
   "outputs": [],
   "source": [
    "import csv\n",
    "with open(\"./skin/result_poly\",\"w\",newline=\"\") as f:  # python 2: open(\"output.csv\",\"wb\")\n",
    "    title = \"size,accuracy,time_train,f1_score,precison,recall\".split(\",\") # quick hack\n",
    "    cw = csv.DictWriter(f,title,delimiter=',', quotechar='|', quoting=csv.QUOTE_MINIMAL)\n",
    "    cw.writeheader()\n",
    "    cw.writerows(result)"
   ]
  },
  {
   "cell_type": "code",
   "execution_count": null,
   "metadata": {},
   "outputs": [],
   "source": []
  },
  {
   "cell_type": "code",
   "execution_count": null,
   "metadata": {},
   "outputs": [],
   "source": []
  }
 ],
 "metadata": {
  "kernelspec": {
   "display_name": "Python 3",
   "language": "python",
   "name": "python3"
  },
  "language_info": {
   "codemirror_mode": {
    "name": "ipython",
    "version": 3
   },
   "file_extension": ".py",
   "mimetype": "text/x-python",
   "name": "python",
   "nbconvert_exporter": "python",
   "pygments_lexer": "ipython3",
   "version": "3.5.2"
  },
  "toc": {
   "base_numbering": 1,
   "nav_menu": {},
   "number_sections": true,
   "sideBar": true,
   "skip_h1_title": false,
   "title_cell": "Table of Contents",
   "title_sidebar": "Contents",
   "toc_cell": false,
   "toc_position": {},
   "toc_section_display": true,
   "toc_window_display": false
  }
 },
 "nbformat": 4,
 "nbformat_minor": 4
}
