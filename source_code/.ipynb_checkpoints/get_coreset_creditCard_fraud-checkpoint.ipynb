{
 "cells": [
  {
   "cell_type": "code",
   "execution_count": 1,
   "metadata": {
    "ExecuteTime": {
     "end_time": "2020-06-23T10:05:39.291975Z",
     "start_time": "2020-06-23T10:05:39.050036Z"
    }
   },
   "outputs": [],
   "source": [
    "import math, random, sys, copy\n",
    "import numpy as np\n",
    "from functools import reduce\n",
    "import matplotlib.pyplot as plt"
   ]
  },
  {
   "cell_type": "code",
   "execution_count": 2,
   "metadata": {
    "ExecuteTime": {
     "end_time": "2020-06-23T10:05:39.600538Z",
     "start_time": "2020-06-23T10:05:39.444718Z"
    }
   },
   "outputs": [],
   "source": [
    "import pandas as pd"
   ]
  },
  {
   "cell_type": "code",
   "execution_count": 3,
   "metadata": {
    "ExecuteTime": {
     "end_time": "2020-06-23T10:05:39.897403Z",
     "start_time": "2020-06-23T10:05:39.890267Z"
    }
   },
   "outputs": [],
   "source": [
    "def convert_label(x):\n",
    "    if x =='0':\n",
    "        return 0\n",
    "    else:\n",
    "        return 1\n",
    "    return x"
   ]
  },
  {
   "cell_type": "code",
   "execution_count": 4,
   "metadata": {
    "ExecuteTime": {
     "end_time": "2020-06-23T10:05:43.923713Z",
     "start_time": "2020-06-23T10:05:43.917088Z"
    }
   },
   "outputs": [],
   "source": [
    "def euclidean_distance(x, y):\n",
    "#     finale_distance = 0\n",
    "#     for index in range(len(x)):\n",
    "#         finale_distance = finale_distance + math.pow((x[index] - y[index]), 2)\n",
    "#     return math.sqrt(finale_distance)\n",
    "    return np.sqrt(np.sum(np.power(x - y, 2), axis=0))"
   ]
  },
  {
   "cell_type": "code",
   "execution_count": 13,
   "metadata": {
    "ExecuteTime": {
     "end_time": "2020-06-23T10:08:29.172487Z",
     "start_time": "2020-06-23T10:08:29.167092Z"
    }
   },
   "outputs": [],
   "source": [
    "count = 0"
   ]
  },
  {
   "cell_type": "code",
   "execution_count": 25,
   "metadata": {
    "ExecuteTime": {
     "end_time": "2020-06-23T10:11:17.296212Z",
     "start_time": "2020-06-23T10:11:17.289066Z"
    }
   },
   "outputs": [],
   "source": [
    "dataset = np.empty((len(input_read),30),dtype=float)"
   ]
  },
  {
   "cell_type": "code",
   "execution_count": 29,
   "metadata": {
    "ExecuteTime": {
     "end_time": "2020-06-23T10:12:22.668505Z",
     "start_time": "2020-06-23T10:12:22.655563Z"
    }
   },
   "outputs": [],
   "source": [
    "def pre_process(input_read):\n",
    "    #DESCRIPTION:\n",
    "    #Preprocess dataset: Can be done differently\n",
    "    i = 0\n",
    "    global count\n",
    "    dataset = np.empty((len(input_read),30),dtype=float)\n",
    "    for x in input_read:\n",
    "        x = x[:-1] #Removing the last \\n \n",
    "        x = x.split(\",\")\n",
    "# #         if x[-1]=='\"male\"':\n",
    "# #             x[-1]=1\n",
    "# #         else:\n",
    "# #             x[-1]=0\n",
    "#         x[-1]= convert_label(x[-1])\n",
    "        dataset[i] = np.asarray([x])\n",
    "        i += 1\n",
    "        count +=1\n",
    "#     return np.unique(dataset,axis=0)\n",
    "    return dataset"
   ]
  },
  {
   "cell_type": "code",
   "execution_count": 30,
   "metadata": {
    "ExecuteTime": {
     "end_time": "2020-06-23T10:12:24.603238Z",
     "start_time": "2020-06-23T10:12:24.572024Z"
    }
   },
   "outputs": [],
   "source": [
    "input_read = None\n",
    "with open(\"./credictCard_fraud/data_train_sample.csv\", 'r') as input_file:\n",
    "    input_read = input_file.readlines()[1:]"
   ]
  },
  {
   "cell_type": "code",
   "execution_count": 31,
   "metadata": {
    "ExecuteTime": {
     "end_time": "2020-06-23T10:12:25.505668Z",
     "start_time": "2020-06-23T10:12:24.930768Z"
    }
   },
   "outputs": [],
   "source": [
    "dataset = pre_process(input_read)"
   ]
  },
  {
   "cell_type": "code",
   "execution_count": 32,
   "metadata": {
    "ExecuteTime": {
     "end_time": "2020-06-23T10:12:25.512346Z",
     "start_time": "2020-06-23T10:12:25.508720Z"
    },
    "scrolled": true
   },
   "outputs": [],
   "source": [
    "# coreset, cost = protras(dataset, 0.02)"
   ]
  },
  {
   "cell_type": "code",
   "execution_count": 33,
   "metadata": {
    "ExecuteTime": {
     "end_time": "2020-06-23T10:12:25.601700Z",
     "start_time": "2020-06-23T10:12:25.595724Z"
    }
   },
   "outputs": [],
   "source": [
    "import pandas as pd"
   ]
  },
  {
   "cell_type": "code",
   "execution_count": 34,
   "metadata": {
    "ExecuteTime": {
     "end_time": "2020-06-23T10:12:26.253675Z",
     "start_time": "2020-06-23T10:12:26.247828Z"
    }
   },
   "outputs": [],
   "source": [
    "size = len(dataset)"
   ]
  },
  {
   "cell_type": "code",
   "execution_count": 35,
   "metadata": {
    "ExecuteTime": {
     "end_time": "2020-06-23T10:12:27.322321Z",
     "start_time": "2020-06-23T10:12:27.313961Z"
    }
   },
   "outputs": [
    {
     "data": {
      "text/plain": [
       "16000"
      ]
     },
     "execution_count": 35,
     "metadata": {},
     "output_type": "execute_result"
    }
   ],
   "source": [
    "size"
   ]
  },
  {
   "cell_type": "code",
   "execution_count": 36,
   "metadata": {
    "ExecuteTime": {
     "end_time": "2020-06-23T10:12:28.460059Z",
     "start_time": "2020-06-23T10:12:28.451983Z"
    }
   },
   "outputs": [
    {
     "data": {
      "text/plain": [
       "160"
      ]
     },
     "execution_count": 36,
     "metadata": {},
     "output_type": "execute_result"
    }
   ],
   "source": [
    "int(size/100)"
   ]
  },
  {
   "cell_type": "code",
   "execution_count": 37,
   "metadata": {
    "ExecuteTime": {
     "end_time": "2020-06-23T10:13:11.725943Z",
     "start_time": "2020-06-23T10:13:11.717518Z"
    }
   },
   "outputs": [],
   "source": [
    "data_size = []\n",
    "x=int(size/200)\n",
    "while x <= 30*int(size/100):\n",
    "    data_size.append(x)\n",
    "    x += int(size/200)\n",
    "number_file = 0"
   ]
  },
  {
   "cell_type": "code",
   "execution_count": 38,
   "metadata": {
    "ExecuteTime": {
     "end_time": "2020-06-23T10:13:11.958423Z",
     "start_time": "2020-06-23T10:13:11.955177Z"
    }
   },
   "outputs": [],
   "source": [
    "# list_epsilon = [2,1.5,1,0.8,0.5,0.3,0.1,0.09,0.05,0.03]\n",
    "# number_file = 0"
   ]
  },
  {
   "cell_type": "code",
   "execution_count": 39,
   "metadata": {
    "ExecuteTime": {
     "end_time": "2020-06-23T10:13:12.635648Z",
     "start_time": "2020-06-23T10:13:12.628622Z"
    }
   },
   "outputs": [],
   "source": [
    "def check_cost(size):\n",
    "    for x in data_size:\n",
    "        if size >= x:\n",
    "            return True\n",
    "    return False"
   ]
  },
  {
   "cell_type": "code",
   "execution_count": 42,
   "metadata": {
    "ExecuteTime": {
     "end_time": "2020-06-23T10:17:19.223667Z",
     "start_time": "2020-06-23T10:17:19.198750Z"
    }
   },
   "outputs": [],
   "source": [
    "def CoresetConstruction(X, epsilon):\n",
    "    global data_size\n",
    "    global number_file\n",
    "    n = X.__len__()     # number of data's elements\n",
    "    C = []              # coresets\n",
    "    C_count = -1        # number of element in C\n",
    "    # X_info: contain all info of each element in X\n",
    "    # [] = index in X; [0] = closest center; [1] = distance to closest center\n",
    "    # if [0] = -1 >> this point is a center\n",
    "    X_info = []\n",
    "    for i in range(n):\n",
    "        X_info.insert(i, [-1, 1000000.0])\n",
    "    X_info = np.asarray(X_info)\n",
    "\n",
    "    #Initialization\n",
    "    pos_min = np.argmin(X)\n",
    "    new_center = int(pos_min / X.shape[1])\n",
    "    C += [new_center]\n",
    "    X_info[new_center][1] = -1\n",
    "    C_count += 1\n",
    "    cost = 100\n",
    "\n",
    "    while cost > epsilon:\n",
    "        # Find nearest center of each point in data\n",
    "        new_center = C[C_count]\n",
    "        for i in range(n):\n",
    "            if i not in C:\n",
    "                new_dist = np.sqrt(np.sum(np.power(X[i][:-1] - X[new_center][:-1], 2), axis=0))\n",
    "                if new_dist < X_info[i][1]:\n",
    "                    X_info[i][0] = C_count\n",
    "                    X_info[i][1] = new_dist\n",
    "\n",
    "        # Find farthest point in each cluster\n",
    "        MaxWD = -1          # Measurement to omit noise\n",
    "        farthest = -1       # index of farthest point\n",
    "        cost = 0\n",
    "        for i in range(C_count + 1):\n",
    "            max_dist = -1\n",
    "            max_id = -1\n",
    "            count = 0\n",
    "            for j in range(n):\n",
    "                if X_info[j][0]==i:\n",
    "                    count += 1\n",
    "                    if max_dist < X_info[j][1]:\n",
    "                        max_dist = X_info[j][1]\n",
    "                        max_id = j\n",
    "            temp = max_dist * count\n",
    "            if temp > MaxWD:\n",
    "                MaxWD = temp\n",
    "                farthest = max_id\n",
    "            cost += temp / n\n",
    "        C += [farthest]\n",
    "        C_count += 1\n",
    "        X_info[farthest][0] = -1\n",
    "        X_info[farthest][1] = -1\n",
    "        if (len(C)/ 100) == int(len(C)/100):\n",
    "            f = open(\"log.txt\", \"w\")\n",
    "            f.write(str(len(C))+ '_'+ str(cost))\n",
    "            f.close()\n",
    "        if check_cost(len(C)) is True:\n",
    "            number_file +=1\n",
    "            path='./credictCard_fraud/'\n",
    "            filename = path+'coreset'+ str(number_file)+'.csv'\n",
    "            np.savetxt(filename,dataset[np.asarray(C)],fmt=\"%f\",delimiter=',')\n",
    "            data_size=data_size[1:]\n",
    "            print(cost,len(C))\n",
    "    return np.asarray(C), np.asarray(X_info)"
   ]
  },
  {
   "cell_type": "code",
   "execution_count": null,
   "metadata": {
    "ExecuteTime": {
     "start_time": "2020-06-23T10:18:48.446Z"
    },
    "scrolled": true
   },
   "outputs": [
    {
     "name": "stdout",
     "output_type": "stream",
     "text": [
      "6.775414262334318 160\n",
      "5.897596227084201 240\n",
      "5.398519488674493 320\n",
      "5.007336110334158 400\n",
      "4.7273072134141065 480\n",
      "4.4958880349364705 560\n",
      "4.308287689376465 640\n",
      "4.13099837171096 720\n",
      "3.959797304040326 800\n",
      "3.8323235122644532 880\n",
      "3.700491540841621 960\n",
      "3.583548263980208 1040\n",
      "3.4768868620017925 1120\n",
      "3.3721746229963094 1200\n",
      "3.273506443031533 1280\n"
     ]
    }
   ],
   "source": [
    "coreset, cost= CoresetConstruction(dataset,0.00000000001)"
   ]
  },
  {
   "cell_type": "code",
   "execution_count": 89,
   "metadata": {
    "ExecuteTime": {
     "end_time": "2020-04-04T16:08:12.346227Z",
     "start_time": "2020-04-04T16:08:12.341815Z"
    },
    "scrolled": true
   },
   "outputs": [],
   "source": [
    "# list_epsilon = [2,1.5,1,0.8,0.5,0.3,0.1,0.09,0.05,0.03]\n",
    "# i = 0\n",
    "# path='./creditCard/'\n",
    "# for epsilon in list_epsilon:\n",
    "#     i += 1\n",
    "#     coreset, cost= CoresetConstruction(dataset,epsilon)\n",
    "#     filename = path+'coreset'+ str(i)+'.csv'\n",
    "#     np.savetxt(filename,dataset[coreset],fmt=\"%f\",delimiter=',')\n",
    "#     print(len(coreset))"
   ]
  },
  {
   "cell_type": "code",
   "execution_count": null,
   "metadata": {},
   "outputs": [],
   "source": []
  }
 ],
 "metadata": {
  "kernelspec": {
   "display_name": "Python 3",
   "language": "python",
   "name": "python3"
  },
  "language_info": {
   "codemirror_mode": {
    "name": "ipython",
    "version": 3
   },
   "file_extension": ".py",
   "mimetype": "text/x-python",
   "name": "python",
   "nbconvert_exporter": "python",
   "pygments_lexer": "ipython3",
   "version": "3.7.3"
  },
  "toc": {
   "base_numbering": 1,
   "nav_menu": {},
   "number_sections": true,
   "sideBar": true,
   "skip_h1_title": false,
   "title_cell": "Table of Contents",
   "title_sidebar": "Contents",
   "toc_cell": false,
   "toc_position": {},
   "toc_section_display": true,
   "toc_window_display": false
  }
 },
 "nbformat": 4,
 "nbformat_minor": 2
}
