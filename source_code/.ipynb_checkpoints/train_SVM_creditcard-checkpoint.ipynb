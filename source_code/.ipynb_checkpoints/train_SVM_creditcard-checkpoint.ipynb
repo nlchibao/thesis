{
 "cells": [
  {
   "cell_type": "code",
   "execution_count": 22,
   "metadata": {
    "ExecuteTime": {
     "end_time": "2020-05-09T04:50:31.995813Z",
     "start_time": "2020-05-09T04:50:31.986349Z"
    }
   },
   "outputs": [
    {
     "data": {
      "text/html": [
       "<style>\n",
       "div.output_area pre {\n",
       "    white-space: pre;\n",
       "    word-wrap: normal;\n",
       "}\n",
       ".container { \n",
       "    width:100% !important; \n",
       "}\n",
       "</style>\n"
      ],
      "text/plain": [
       "<IPython.core.display.HTML object>"
      ]
     },
     "metadata": {},
     "output_type": "display_data"
    }
   ],
   "source": [
    "%%html\n",
    "<style>\n",
    "div.output_area pre {\n",
    "    white-space: pre;\n",
    "    word-wrap: normal;\n",
    "}\n",
    ".container { \n",
    "    width:100% !important; \n",
    "}\n",
    "</style>"
   ]
  },
  {
   "cell_type": "code",
   "execution_count": 3,
   "metadata": {
    "ExecuteTime": {
     "end_time": "2020-05-09T04:33:42.598912Z",
     "start_time": "2020-05-09T04:33:42.000673Z"
    }
   },
   "outputs": [],
   "source": [
    "import pandas as pd\n",
    "import numpy as np\n",
    "import matplotlib.pyplot as plt\n",
    "import itertools\n",
    "from sklearn.model_selection import train_test_split\n",
    "from sklearn.svm import SVC\n",
    "from sklearn import svm\n",
    "from sklearn.metrics import classification_report, confusion_matrix\n",
    "from sklearn.metrics import hinge_loss\n",
    "from sklearn import metrics\n",
    "import datetime\n",
    "from datetime import date"
   ]
  },
  {
   "cell_type": "code",
   "execution_count": 4,
   "metadata": {
    "ExecuteTime": {
     "end_time": "2020-05-09T04:33:42.614290Z",
     "start_time": "2020-05-09T04:33:42.602178Z"
    }
   },
   "outputs": [],
   "source": [
    "def plot_confusion_matrix(cm, classes,\n",
    "                          normalize=False,\n",
    "                          title='Confusion matrix',\n",
    "                          cmap=plt.cm.Blues):\n",
    "    \"\"\"\n",
    "    This function prints and plots the confusion matrix.\n",
    "    Normalization can be applied by setting `normalize=True`.\n",
    "    \"\"\"\n",
    "    if normalize:\n",
    "        cm = cm.astype('float') / cm.sum(axis=1)[:, np.newaxis]\n",
    "        print(\"Normalized confusion matrix\")\n",
    "    else:\n",
    "        print('Confusion matrix, without normalization')\n",
    "\n",
    "    print(cm)\n",
    "\n",
    "    plt.imshow(cm, interpolation='nearest', cmap=cmap)\n",
    "    plt.title(title)\n",
    "    plt.colorbar()\n",
    "    tick_marks = np.arange(len(classes))\n",
    "    plt.xticks(tick_marks, classes, rotation=45)\n",
    "    plt.yticks(tick_marks, classes)\n",
    "\n",
    "    fmt = '.2f' if normalize else 'd'\n",
    "    thresh = cm.max() / 2.\n",
    "    for i, j in itertools.product(range(cm.shape[0]), range(cm.shape[1])):\n",
    "        plt.text(j, i, format(cm[i, j], fmt),\n",
    "                 horizontalalignment=\"center\",\n",
    "                 color=\"white\" if cm[i, j] > thresh else \"black\")\n",
    "\n",
    "    plt.ylabel('True label')\n",
    "    plt.xlabel('Predicted label')\n",
    "    plt.tight_layout()"
   ]
  },
  {
   "cell_type": "code",
   "execution_count": 5,
   "metadata": {
    "ExecuteTime": {
     "end_time": "2020-05-09T04:33:42.733290Z",
     "start_time": "2020-05-09T04:33:42.616488Z"
    }
   },
   "outputs": [],
   "source": [
    "creditCard = pd.read_csv(\"./creditCard/creditcard_clients.csv\")"
   ]
  },
  {
   "cell_type": "code",
   "execution_count": 6,
   "metadata": {
    "ExecuteTime": {
     "end_time": "2020-05-09T04:33:43.652786Z",
     "start_time": "2020-05-09T04:33:43.647287Z"
    }
   },
   "outputs": [],
   "source": [
    "svclassifier = svm.SVC(kernel='rbf',random_state = 1)"
   ]
  },
  {
   "cell_type": "code",
   "execution_count": 7,
   "metadata": {
    "ExecuteTime": {
     "end_time": "2020-05-09T04:33:44.157260Z",
     "start_time": "2020-05-09T04:33:44.153242Z"
    }
   },
   "outputs": [],
   "source": [
    "# creditCard = pd.read_csv(\"./creditCard/creditcard_clients.csv\")\n",
    "# X = creditCard.drop('default payment next month', axis=1)\n",
    "# y = creditCard['default payment next month']\n",
    "# X_train, X_test, y_train, y_test = train_test_split(X, y, test_size = 0.20, random_state = 1)\n",
    "# svclassifier = svm.SVC(kernel='rbf',random_state = 1)"
   ]
  },
  {
   "cell_type": "code",
   "execution_count": 8,
   "metadata": {
    "ExecuteTime": {
     "end_time": "2020-05-02T05:15:28.584895Z",
     "start_time": "2020-05-02T05:15:28.577230Z"
    }
   },
   "outputs": [],
   "source": [
    "# X_train['default payment next month']= y_train\n"
   ]
  },
  {
   "cell_type": "code",
   "execution_count": 9,
   "metadata": {
    "ExecuteTime": {
     "end_time": "2020-05-02T05:15:28.592109Z",
     "start_time": "2020-05-02T05:15:28.587355Z"
    }
   },
   "outputs": [],
   "source": [
    "# X_train.to_csv(\"./creditCard/creditcard_clients_train.csv\",index=False)"
   ]
  },
  {
   "cell_type": "code",
   "execution_count": 10,
   "metadata": {
    "ExecuteTime": {
     "end_time": "2020-05-02T05:15:28.599463Z",
     "start_time": "2020-05-02T05:15:28.594375Z"
    }
   },
   "outputs": [],
   "source": [
    "# X_test['default payment next month']= y_test"
   ]
  },
  {
   "cell_type": "code",
   "execution_count": 11,
   "metadata": {
    "ExecuteTime": {
     "end_time": "2020-05-02T05:15:28.606424Z",
     "start_time": "2020-05-02T05:15:28.601795Z"
    }
   },
   "outputs": [],
   "source": [
    "# X_test.to_csv(\"./creditCard/creditcard_clients_test.csv\",index=False)"
   ]
  },
  {
   "cell_type": "code",
   "execution_count": 8,
   "metadata": {
    "ExecuteTime": {
     "end_time": "2020-05-09T04:33:47.582200Z",
     "start_time": "2020-05-09T04:33:47.548865Z"
    }
   },
   "outputs": [],
   "source": [
    "data_test = pd.read_csv(\"./creditCard/creditcard_clients_test.csv\")\n",
    "X_test = data_test.drop('default payment next month',axis=1)\n",
    "y_test = data_test['default payment next month']"
   ]
  },
  {
   "cell_type": "markdown",
   "metadata": {},
   "source": [
    "## Train full data"
   ]
  },
  {
   "cell_type": "code",
   "execution_count": 11,
   "metadata": {
    "ExecuteTime": {
     "end_time": "2020-05-09T04:33:50.246562Z",
     "start_time": "2020-05-09T04:33:50.241094Z"
    }
   },
   "outputs": [],
   "source": [
    "header = list(creditCard)"
   ]
  },
  {
   "cell_type": "code",
   "execution_count": 15,
   "metadata": {
    "ExecuteTime": {
     "end_time": "2020-05-09T04:34:45.133340Z",
     "start_time": "2020-05-09T04:34:45.125331Z"
    }
   },
   "outputs": [],
   "source": [
    "pathname ='./creditCard/'\n",
    "list_file = []\n",
    "for i in range(1,11):\n",
    "    list_file.append(pathname +'coreset'+str(i)+'.csv')\n",
    "list_file.append('./creditCard/creditcard_clients_train.csv')"
   ]
  },
  {
   "cell_type": "code",
   "execution_count": 16,
   "metadata": {
    "ExecuteTime": {
     "end_time": "2020-05-09T04:34:45.585712Z",
     "start_time": "2020-05-09T04:34:45.567071Z"
    }
   },
   "outputs": [],
   "source": [
    "x= pd.read_csv('./creditCard/coreset1.csv',header=None)"
   ]
  },
  {
   "cell_type": "code",
   "execution_count": 17,
   "metadata": {
    "ExecuteTime": {
     "end_time": "2020-05-09T04:35:24.571337Z",
     "start_time": "2020-05-09T04:34:46.182289Z"
    }
   },
   "outputs": [
    {
     "name": "stdout",
     "output_type": "stream",
     "text": [
      "{'size': 500, 'accuracy': 0.7771666666666667, 'time_train': 0.016063}\n",
      "{'size': 1000, 'accuracy': 0.7771666666666667, 'time_train': 0.049245}\n",
      "{'size': 1500, 'accuracy': 0.7771666666666667, 'time_train': 0.098396}\n",
      "{'size': 2000, 'accuracy': 0.7771666666666667, 'time_train': 0.218057}\n",
      "{'size': 2500, 'accuracy': 0.7771666666666667, 'time_train': 0.268217}\n",
      "{'size': 3000, 'accuracy': 0.7771666666666667, 'time_train': 0.367115}\n",
      "{'size': 3500, 'accuracy': 0.7771666666666667, 'time_train': 0.538994}\n",
      "{'size': 4000, 'accuracy': 0.7771666666666667, 'time_train': 0.683346}\n",
      "{'size': 4500, 'accuracy': 0.7771666666666667, 'time_train': 0.875492}\n",
      "{'size': 5000, 'accuracy': 0.7771666666666667, 'time_train': 1.089758}\n",
      "{'size': 24000, 'accuracy': 0.7771666666666667, 'time_train': 26.399812}\n"
     ]
    }
   ],
   "source": [
    "i = 1\n",
    "result = []\n",
    "for file in list_file:\n",
    "    global coreset,y_coreset,X_coreset\n",
    "    if file == './creditCard/creditcard_clients_train.csv':\n",
    "        coreset = pd.read_csv(file)\n",
    "        y_coreset = coreset['default payment next month']\n",
    "        X_coreset = coreset.drop('default payment next month', axis=1)\n",
    "    else:\n",
    "        coreset = pd.read_csv(file,header=None)\n",
    "        y_coreset = coreset[23]\n",
    "        X_coreset = coreset.drop(23, axis=1)\n",
    "    svclassifier = svm.SVC(kernel='rbf')\n",
    "    start = datetime.datetime.now()\n",
    "    svclassifier.fit(X_coreset, y_coreset)\n",
    "    end = datetime.datetime.now()\n",
    "    output = pathname +'result_rbf'+str(i)+'.csv'\n",
    "    i +=1\n",
    "    y_pred = svclassifier.predict(X_test)\n",
    "    pd.DataFrame(y_pred).to_csv(output,index=False)\n",
    "    info_train= {'size': len(X_coreset),'accuracy':metrics.accuracy_score(y_test,y_pred).tolist(),'time_train': (end-start).total_seconds() }\n",
    "    print({'size': len(X_coreset),'accuracy':metrics.accuracy_score(y_test,y_pred).tolist(),'time_train': (end-start).total_seconds() })\n",
    "    result.append(info_train)"
   ]
  },
  {
   "cell_type": "code",
   "execution_count": 18,
   "metadata": {
    "ExecuteTime": {
     "end_time": "2020-05-09T04:35:24.579250Z",
     "start_time": "2020-05-09T04:35:24.574216Z"
    }
   },
   "outputs": [],
   "source": [
    "import csv\n",
    "with open(\"./creditCard/result_rbf\",\"w\",newline=\"\") as f:  # python 2: open(\"output.csv\",\"wb\")\n",
    "    title = \"size,accuracy,time_train\".split(\",\") # quick hack\n",
    "    cw = csv.DictWriter(f,title,delimiter=',', quotechar='|', quoting=csv.QUOTE_MINIMAL)\n",
    "    cw.writeheader()\n",
    "    cw.writerows(result)"
   ]
  },
  {
   "cell_type": "code",
   "execution_count": 38,
   "metadata": {
    "ExecuteTime": {
     "end_time": "2020-04-04T12:10:23.089532Z",
     "start_time": "2020-04-04T12:10:23.077133Z"
    }
   },
   "outputs": [],
   "source": [
    "size=[]\n",
    "accuracy=[]\n",
    "time_train =[]\n",
    "for data in result:\n",
    "    size.append(data['size'])\n",
    "    accuracy.append(data['accuracy']*100)\n",
    "    time_train.append(data['time_train'])\n",
    "df_train = pd.DataFrame([size[:-1],accuracy[:-1]]).T\n",
    "    "
   ]
  },
  {
   "cell_type": "code",
   "execution_count": 39,
   "metadata": {
    "ExecuteTime": {
     "end_time": "2020-04-04T12:10:23.728685Z",
     "start_time": "2020-04-04T12:10:23.722818Z"
    }
   },
   "outputs": [],
   "source": [
    "df_train.columns = ['size','accuracy']"
   ]
  },
  {
   "cell_type": "code",
   "execution_count": 40,
   "metadata": {
    "ExecuteTime": {
     "end_time": "2020-04-04T14:42:19.102277Z",
     "start_time": "2020-04-04T14:42:19.094615Z"
    }
   },
   "outputs": [
    {
     "data": {
      "text/plain": [
       "{'size': 30000, 'accuracy': 0.7715, 'time_train': 22726.641487}"
      ]
     },
     "execution_count": 40,
     "metadata": {},
     "output_type": "execute_result"
    }
   ],
   "source": [
    "result[-1]"
   ]
  },
  {
   "cell_type": "code",
   "execution_count": 41,
   "metadata": {
    "ExecuteTime": {
     "end_time": "2020-04-04T14:42:33.680762Z",
     "start_time": "2020-04-04T14:42:33.673196Z"
    }
   },
   "outputs": [],
   "source": [
    "df_train['full_data']= result[-1]['accuracy']*100"
   ]
  },
  {
   "cell_type": "code",
   "execution_count": 42,
   "metadata": {
    "ExecuteTime": {
     "end_time": "2020-04-04T14:42:45.239014Z",
     "start_time": "2020-04-04T14:42:44.936200Z"
    }
   },
   "outputs": [
    {
     "data": {
      "text/plain": [
       "<matplotlib.axes._subplots.AxesSubplot at 0x7f3ba2e5df28>"
      ]
     },
     "execution_count": 42,
     "metadata": {},
     "output_type": "execute_result"
    },
    {
     "data": {
      "image/png": "[encoded data removed]",
      "text/plain": [
       "<Figure size 432x288 with 1 Axes>"
      ]
     },
     "metadata": {
      "needs_background": "light"
     },
     "output_type": "display_data"
    }
   ],
   "source": [
    "df_train.sort_values(by='size',ascending=False).plot.line(x='size',y=['accuracy','full_data'])"
   ]
  },
  {
   "cell_type": "code",
   "execution_count": 43,
   "metadata": {},
   "outputs": [
    {
     "data": {
      "text/plain": [
       "<matplotlib.axes._subplots.AxesSubplot at 0x7f3ba396e9e8>"
      ]
     },
     "execution_count": 43,
     "metadata": {},
     "output_type": "execute_result"
    },
    {
     "data": {
      "image/png": "[encoded data removed]",
      "text/plain": [
       "<Figure size 432x288 with 1 Axes>"
      ]
     },
     "metadata": {
      "needs_background": "light"
     },
     "output_type": "display_data"
    }
   ],
   "source": [
    "df_train = pd.DataFrame([size[:-1],time_train[:-1]]).T\n",
    "df_train.columns = ['size','time_train']\n",
    "df_train['full_data']= result[-1]['time_train']\n",
    "df_train.sort_values(by='size',ascending=False).plot.line(x='size',y=['time_train','full_data'])"
   ]
  },
  {
   "cell_type": "code",
   "execution_count": null,
   "metadata": {},
   "outputs": [],
   "source": []
  }
 ],
 "metadata": {
  "kernelspec": {
   "display_name": "Python 3",
   "language": "python",
   "name": "python3"
  },
  "language_info": {
   "codemirror_mode": {
    "name": "ipython",
    "version": 3
   },
   "file_extension": ".py",
   "mimetype": "text/x-python",
   "name": "python",
   "nbconvert_exporter": "python",
   "pygments_lexer": "ipython3",
   "version": "3.5.2"
  },
  "toc": {
   "base_numbering": 1,
   "nav_menu": {},
   "number_sections": true,
   "sideBar": true,
   "skip_h1_title": false,
   "title_cell": "Table of Contents",
   "title_sidebar": "Contents",
   "toc_cell": false,
   "toc_position": {},
   "toc_section_display": true,
   "toc_window_display": false
  }
 },
 "nbformat": 4,
 "nbformat_minor": 4
}
